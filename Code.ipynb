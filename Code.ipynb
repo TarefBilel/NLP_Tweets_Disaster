{
 "cells": [
  {
   "cell_type": "markdown",
   "id": "5e42fd4a",
   "metadata": {},
   "source": [
    "# Part_1"
   ]
  },
  {
   "cell_type": "markdown",
   "id": "3cd2e5a5",
   "metadata": {},
   "source": [
    "## 1.Importing the technologies"
   ]
  },
  {
   "cell_type": "code",
   "execution_count": 1,
   "id": "35d52990-b0c4-416e-8383-bb70b92a711d",
   "metadata": {},
   "outputs": [
    {
     "name": "stderr",
     "output_type": "stream",
     "text": [
      "2025-10-16 14:02:13.734908: I tensorflow/core/util/port.cc:113] oneDNN custom operations are on. You may see slightly different numerical results due to floating-point round-off errors from different computation orders. To turn them off, set the environment variable `TF_ENABLE_ONEDNN_OPTS=0`.\n",
      "2025-10-16 14:02:14.346993: E external/local_xla/xla/stream_executor/cuda/cuda_dnn.cc:9261] Unable to register cuDNN factory: Attempting to register factory for plugin cuDNN when one has already been registered\n",
      "2025-10-16 14:02:14.347188: E external/local_xla/xla/stream_executor/cuda/cuda_fft.cc:607] Unable to register cuFFT factory: Attempting to register factory for plugin cuFFT when one has already been registered\n",
      "2025-10-16 14:02:14.428421: E external/local_xla/xla/stream_executor/cuda/cuda_blas.cc:1515] Unable to register cuBLAS factory: Attempting to register factory for plugin cuBLAS when one has already been registered\n",
      "2025-10-16 14:02:14.657963: I tensorflow/core/platform/cpu_feature_guard.cc:182] This TensorFlow binary is optimized to use available CPU instructions in performance-critical operations.\n",
      "To enable the following instructions: AVX2 AVX_VNNI FMA, in other operations, rebuild TensorFlow with the appropriate compiler flags.\n"
     ]
    }
   ],
   "source": [
    "import pandas as pd \n",
    "import numpy as np \n",
    "import scipy \n",
    "import matplotlib.pyplot as plt \n",
    "import tensorflow as tf"
   ]
  },
  {
   "cell_type": "markdown",
   "id": "c9fec96f",
   "metadata": {},
   "source": [
    "## 2.Getting the dataset"
   ]
  },
  {
   "cell_type": "code",
   "execution_count": 2,
   "id": "c9b8b2a8",
   "metadata": {},
   "outputs": [
    {
     "data": {
      "text/html": [
       "<div>\n",
       "<style scoped>\n",
       "    .dataframe tbody tr th:only-of-type {\n",
       "        vertical-align: middle;\n",
       "    }\n",
       "\n",
       "    .dataframe tbody tr th {\n",
       "        vertical-align: top;\n",
       "    }\n",
       "\n",
       "    .dataframe thead th {\n",
       "        text-align: right;\n",
       "    }\n",
       "</style>\n",
       "<table border=\"1\" class=\"dataframe\">\n",
       "  <thead>\n",
       "    <tr style=\"text-align: right;\">\n",
       "      <th></th>\n",
       "      <th>id</th>\n",
       "      <th>keyword</th>\n",
       "      <th>location</th>\n",
       "      <th>text</th>\n",
       "      <th>target</th>\n",
       "    </tr>\n",
       "  </thead>\n",
       "  <tbody>\n",
       "    <tr>\n",
       "      <th>0</th>\n",
       "      <td>1</td>\n",
       "      <td>NaN</td>\n",
       "      <td>NaN</td>\n",
       "      <td>Our Deeds are the Reason of this #earthquake M...</td>\n",
       "      <td>1</td>\n",
       "    </tr>\n",
       "    <tr>\n",
       "      <th>1</th>\n",
       "      <td>4</td>\n",
       "      <td>NaN</td>\n",
       "      <td>NaN</td>\n",
       "      <td>Forest fire near La Ronge Sask. Canada</td>\n",
       "      <td>1</td>\n",
       "    </tr>\n",
       "    <tr>\n",
       "      <th>2</th>\n",
       "      <td>5</td>\n",
       "      <td>NaN</td>\n",
       "      <td>NaN</td>\n",
       "      <td>All residents asked to 'shelter in place' are ...</td>\n",
       "      <td>1</td>\n",
       "    </tr>\n",
       "    <tr>\n",
       "      <th>3</th>\n",
       "      <td>6</td>\n",
       "      <td>NaN</td>\n",
       "      <td>NaN</td>\n",
       "      <td>13,000 people receive #wildfires evacuation or...</td>\n",
       "      <td>1</td>\n",
       "    </tr>\n",
       "    <tr>\n",
       "      <th>4</th>\n",
       "      <td>7</td>\n",
       "      <td>NaN</td>\n",
       "      <td>NaN</td>\n",
       "      <td>Just got sent this photo from Ruby #Alaska as ...</td>\n",
       "      <td>1</td>\n",
       "    </tr>\n",
       "    <tr>\n",
       "      <th>...</th>\n",
       "      <td>...</td>\n",
       "      <td>...</td>\n",
       "      <td>...</td>\n",
       "      <td>...</td>\n",
       "      <td>...</td>\n",
       "    </tr>\n",
       "    <tr>\n",
       "      <th>7608</th>\n",
       "      <td>10869</td>\n",
       "      <td>NaN</td>\n",
       "      <td>NaN</td>\n",
       "      <td>Two giant cranes holding a bridge collapse int...</td>\n",
       "      <td>1</td>\n",
       "    </tr>\n",
       "    <tr>\n",
       "      <th>7609</th>\n",
       "      <td>10870</td>\n",
       "      <td>NaN</td>\n",
       "      <td>NaN</td>\n",
       "      <td>@aria_ahrary @TheTawniest The out of control w...</td>\n",
       "      <td>1</td>\n",
       "    </tr>\n",
       "    <tr>\n",
       "      <th>7610</th>\n",
       "      <td>10871</td>\n",
       "      <td>NaN</td>\n",
       "      <td>NaN</td>\n",
       "      <td>M1.94 [01:04 UTC]?5km S of Volcano Hawaii. htt...</td>\n",
       "      <td>1</td>\n",
       "    </tr>\n",
       "    <tr>\n",
       "      <th>7611</th>\n",
       "      <td>10872</td>\n",
       "      <td>NaN</td>\n",
       "      <td>NaN</td>\n",
       "      <td>Police investigating after an e-bike collided ...</td>\n",
       "      <td>1</td>\n",
       "    </tr>\n",
       "    <tr>\n",
       "      <th>7612</th>\n",
       "      <td>10873</td>\n",
       "      <td>NaN</td>\n",
       "      <td>NaN</td>\n",
       "      <td>The Latest: More Homes Razed by Northern Calif...</td>\n",
       "      <td>1</td>\n",
       "    </tr>\n",
       "  </tbody>\n",
       "</table>\n",
       "<p>7613 rows × 5 columns</p>\n",
       "</div>"
      ],
      "text/plain": [
       "         id keyword location  \\\n",
       "0         1     NaN      NaN   \n",
       "1         4     NaN      NaN   \n",
       "2         5     NaN      NaN   \n",
       "3         6     NaN      NaN   \n",
       "4         7     NaN      NaN   \n",
       "...     ...     ...      ...   \n",
       "7608  10869     NaN      NaN   \n",
       "7609  10870     NaN      NaN   \n",
       "7610  10871     NaN      NaN   \n",
       "7611  10872     NaN      NaN   \n",
       "7612  10873     NaN      NaN   \n",
       "\n",
       "                                                   text  target  \n",
       "0     Our Deeds are the Reason of this #earthquake M...       1  \n",
       "1                Forest fire near La Ronge Sask. Canada       1  \n",
       "2     All residents asked to 'shelter in place' are ...       1  \n",
       "3     13,000 people receive #wildfires evacuation or...       1  \n",
       "4     Just got sent this photo from Ruby #Alaska as ...       1  \n",
       "...                                                 ...     ...  \n",
       "7608  Two giant cranes holding a bridge collapse int...       1  \n",
       "7609  @aria_ahrary @TheTawniest The out of control w...       1  \n",
       "7610  M1.94 [01:04 UTC]?5km S of Volcano Hawaii. htt...       1  \n",
       "7611  Police investigating after an e-bike collided ...       1  \n",
       "7612  The Latest: More Homes Razed by Northern Calif...       1  \n",
       "\n",
       "[7613 rows x 5 columns]"
      ]
     },
     "execution_count": 2,
     "metadata": {},
     "output_type": "execute_result"
    }
   ],
   "source": [
    "train_data= pd.read_csv(filepath_or_buffer=\"/home/tarefbilel/IA/Deep_Learning/NLP/part_1/nlp_getting_started/train.csv\")\n",
    "train_data"
   ]
  },
  {
   "cell_type": "code",
   "execution_count": 3,
   "id": "5cb53b2c",
   "metadata": {},
   "outputs": [
    {
     "data": {
      "text/html": [
       "<div>\n",
       "<style scoped>\n",
       "    .dataframe tbody tr th:only-of-type {\n",
       "        vertical-align: middle;\n",
       "    }\n",
       "\n",
       "    .dataframe tbody tr th {\n",
       "        vertical-align: top;\n",
       "    }\n",
       "\n",
       "    .dataframe thead th {\n",
       "        text-align: right;\n",
       "    }\n",
       "</style>\n",
       "<table border=\"1\" class=\"dataframe\">\n",
       "  <thead>\n",
       "    <tr style=\"text-align: right;\">\n",
       "      <th></th>\n",
       "      <th>id</th>\n",
       "      <th>keyword</th>\n",
       "      <th>location</th>\n",
       "      <th>text</th>\n",
       "    </tr>\n",
       "  </thead>\n",
       "  <tbody>\n",
       "    <tr>\n",
       "      <th>0</th>\n",
       "      <td>0</td>\n",
       "      <td>NaN</td>\n",
       "      <td>NaN</td>\n",
       "      <td>Just happened a terrible car crash</td>\n",
       "    </tr>\n",
       "    <tr>\n",
       "      <th>1</th>\n",
       "      <td>2</td>\n",
       "      <td>NaN</td>\n",
       "      <td>NaN</td>\n",
       "      <td>Heard about #earthquake is different cities, s...</td>\n",
       "    </tr>\n",
       "    <tr>\n",
       "      <th>2</th>\n",
       "      <td>3</td>\n",
       "      <td>NaN</td>\n",
       "      <td>NaN</td>\n",
       "      <td>there is a forest fire at spot pond, geese are...</td>\n",
       "    </tr>\n",
       "    <tr>\n",
       "      <th>3</th>\n",
       "      <td>9</td>\n",
       "      <td>NaN</td>\n",
       "      <td>NaN</td>\n",
       "      <td>Apocalypse lighting. #Spokane #wildfires</td>\n",
       "    </tr>\n",
       "    <tr>\n",
       "      <th>4</th>\n",
       "      <td>11</td>\n",
       "      <td>NaN</td>\n",
       "      <td>NaN</td>\n",
       "      <td>Typhoon Soudelor kills 28 in China and Taiwan</td>\n",
       "    </tr>\n",
       "    <tr>\n",
       "      <th>...</th>\n",
       "      <td>...</td>\n",
       "      <td>...</td>\n",
       "      <td>...</td>\n",
       "      <td>...</td>\n",
       "    </tr>\n",
       "    <tr>\n",
       "      <th>3258</th>\n",
       "      <td>10861</td>\n",
       "      <td>NaN</td>\n",
       "      <td>NaN</td>\n",
       "      <td>EARTHQUAKE SAFETY LOS ANGELES ÛÒ SAFETY FASTE...</td>\n",
       "    </tr>\n",
       "    <tr>\n",
       "      <th>3259</th>\n",
       "      <td>10865</td>\n",
       "      <td>NaN</td>\n",
       "      <td>NaN</td>\n",
       "      <td>Storm in RI worse than last hurricane. My city...</td>\n",
       "    </tr>\n",
       "    <tr>\n",
       "      <th>3260</th>\n",
       "      <td>10868</td>\n",
       "      <td>NaN</td>\n",
       "      <td>NaN</td>\n",
       "      <td>Green Line derailment in Chicago http://t.co/U...</td>\n",
       "    </tr>\n",
       "    <tr>\n",
       "      <th>3261</th>\n",
       "      <td>10874</td>\n",
       "      <td>NaN</td>\n",
       "      <td>NaN</td>\n",
       "      <td>MEG issues Hazardous Weather Outlook (HWO) htt...</td>\n",
       "    </tr>\n",
       "    <tr>\n",
       "      <th>3262</th>\n",
       "      <td>10875</td>\n",
       "      <td>NaN</td>\n",
       "      <td>NaN</td>\n",
       "      <td>#CityofCalgary has activated its Municipal Eme...</td>\n",
       "    </tr>\n",
       "  </tbody>\n",
       "</table>\n",
       "<p>3263 rows × 4 columns</p>\n",
       "</div>"
      ],
      "text/plain": [
       "         id keyword location  \\\n",
       "0         0     NaN      NaN   \n",
       "1         2     NaN      NaN   \n",
       "2         3     NaN      NaN   \n",
       "3         9     NaN      NaN   \n",
       "4        11     NaN      NaN   \n",
       "...     ...     ...      ...   \n",
       "3258  10861     NaN      NaN   \n",
       "3259  10865     NaN      NaN   \n",
       "3260  10868     NaN      NaN   \n",
       "3261  10874     NaN      NaN   \n",
       "3262  10875     NaN      NaN   \n",
       "\n",
       "                                                   text  \n",
       "0                    Just happened a terrible car crash  \n",
       "1     Heard about #earthquake is different cities, s...  \n",
       "2     there is a forest fire at spot pond, geese are...  \n",
       "3              Apocalypse lighting. #Spokane #wildfires  \n",
       "4         Typhoon Soudelor kills 28 in China and Taiwan  \n",
       "...                                                 ...  \n",
       "3258  EARTHQUAKE SAFETY LOS ANGELES ÛÒ SAFETY FASTE...  \n",
       "3259  Storm in RI worse than last hurricane. My city...  \n",
       "3260  Green Line derailment in Chicago http://t.co/U...  \n",
       "3261  MEG issues Hazardous Weather Outlook (HWO) htt...  \n",
       "3262  #CityofCalgary has activated its Municipal Eme...  \n",
       "\n",
       "[3263 rows x 4 columns]"
      ]
     },
     "execution_count": 3,
     "metadata": {},
     "output_type": "execute_result"
    }
   ],
   "source": [
    "test_data= pd.read_csv(\"/home/tarefbilel/IA/Deep_Learning/NLP/part_1/nlp_getting_started/test.csv\")\n",
    "test_data"
   ]
  },
  {
   "cell_type": "markdown",
   "id": "7a8f92ea",
   "metadata": {},
   "source": [
    "## 3.Exploratory data analysis"
   ]
  },
  {
   "cell_type": "code",
   "execution_count": 4,
   "id": "c71defa9",
   "metadata": {},
   "outputs": [
    {
     "data": {
      "text/plain": [
       "(7613, 3263)"
      ]
     },
     "execution_count": 4,
     "metadata": {},
     "output_type": "execute_result"
    }
   ],
   "source": [
    "len(train_data), len(test_data)"
   ]
  },
  {
   "cell_type": "code",
   "execution_count": 5,
   "id": "e695678b",
   "metadata": {},
   "outputs": [
    {
     "data": {
      "text/plain": [
       "Text(0.5, 0, 'Disaster')"
      ]
     },
     "execution_count": 5,
     "metadata": {},
     "output_type": "execute_result"
    },
    {
     "data": {
      "image/png": "[encoded data removed]",
      "text/plain": [
       "<Figure size 1000x600 with 1 Axes>"
      ]
     },
     "metadata": {},
     "output_type": "display_data"
    }
   ],
   "source": [
    "plt.figure(figsize=(10,6))\n",
    "plt.title(\"Disaster vs no Disaster\")\n",
    "train_data[\"target\"].value_counts().plot.bar().set_xlabel(\"Disaster\")"
   ]
  },
  {
   "cell_type": "code",
   "execution_count": 6,
   "id": "42770253",
   "metadata": {},
   "outputs": [
    {
     "name": "stdout",
     "output_type": "stream",
     "text": [
      "Target: 0 (no disaster)\n",
      "Text:\n",
      "@Collapsed thank u\n",
      "\n",
      "----\n",
      "\n",
      "Target: 0 (no disaster)\n",
      "Text:\n",
      "I liked a @YouTube video from @sqwizzix http://t.co/GGqCz9AB6u Call of Duty: ÛÏThe Piano EntertainerÛ Ep. 9 ÛÒ Musicians Collide!\n",
      "\n",
      "----\n",
      "\n",
      "Target: 0 (no disaster)\n",
      "Text:\n",
      "And when those waves shall ripple collide it's on the tide of YOUR LOVE I will survive. #love @LesleyChappelle\n",
      "\n",
      "----\n",
      "\n",
      "Target: 0 (no disaster)\n",
      "Text:\n",
      "Somehow find you and I collide http://t.co/Ee8RpOahPk\n",
      "\n",
      "----\n",
      "\n",
      "Target: 0 (no disaster)\n",
      "Text:\n",
      "But even if the stars and moon collide I never want you back into my life??????.\n",
      "\n",
      "----\n",
      "\n"
     ]
    }
   ],
   "source": [
    "import random \n",
    "random_index= random.randint(1, len(train_data)-5)\n",
    "\n",
    "for row in train_data[[\"text\",\"target\"]][random_index:random_index+5].itertuples():\n",
    " _,text, target= row \n",
    " print(f\"Target: {target}\",\"(real disaster)\" if target>0 else \"(no disaster)\")\n",
    " print(f\"Text:\\n{text}\\n\")\n",
    " print(\"----\\n\")"
   ]
  },
  {
   "cell_type": "markdown",
   "id": "a8289301",
   "metadata": {},
   "source": [
    "## 4.Splitting the data"
   ]
  },
  {
   "cell_type": "code",
   "execution_count": 7,
   "id": "5ed04745",
   "metadata": {},
   "outputs": [],
   "source": [
    "from sklearn.model_selection import train_test_split \n",
    "\n",
    "train_sentences,val_sentences,train_labels,val_labels= train_test_split(train_data[\"text\"].to_numpy(),\n",
    "                                                                        train_data[\"target\"].to_numpy(),\n",
    "                                                                        test_size=0.2,\n",
    "                                                                        random_state=42)"
   ]
  },
  {
   "cell_type": "code",
   "execution_count": 8,
   "id": "7a25fa89",
   "metadata": {},
   "outputs": [
    {
     "data": {
      "text/plain": [
       "(6090, 1523, 6090, 1523)"
      ]
     },
     "execution_count": 8,
     "metadata": {},
     "output_type": "execute_result"
    }
   ],
   "source": [
    "len(train_sentences), len(val_sentences), len(train_labels), len(val_labels)"
   ]
  },
  {
   "cell_type": "markdown",
   "id": "0130974a",
   "metadata": {},
   "source": [
    "## 5.Text vectorization"
   ]
  },
  {
   "cell_type": "code",
   "execution_count": 9,
   "id": "685fa203",
   "metadata": {},
   "outputs": [
    {
     "name": "stderr",
     "output_type": "stream",
     "text": [
      "2025-10-16 14:02:21.461126: I external/local_xla/xla/stream_executor/cuda/cuda_executor.cc:887] could not open file to read NUMA node: /sys/bus/pci/devices/0000:01:00.0/numa_node\n",
      "Your kernel may have been built without NUMA support.\n",
      "2025-10-16 14:02:21.722417: I external/local_xla/xla/stream_executor/cuda/cuda_executor.cc:887] could not open file to read NUMA node: /sys/bus/pci/devices/0000:01:00.0/numa_node\n",
      "Your kernel may have been built without NUMA support.\n",
      "2025-10-16 14:02:21.722489: I external/local_xla/xla/stream_executor/cuda/cuda_executor.cc:887] could not open file to read NUMA node: /sys/bus/pci/devices/0000:01:00.0/numa_node\n",
      "Your kernel may have been built without NUMA support.\n",
      "2025-10-16 14:02:21.724394: I external/local_xla/xla/stream_executor/cuda/cuda_executor.cc:887] could not open file to read NUMA node: /sys/bus/pci/devices/0000:01:00.0/numa_node\n",
      "Your kernel may have been built without NUMA support.\n",
      "2025-10-16 14:02:21.724434: I external/local_xla/xla/stream_executor/cuda/cuda_executor.cc:887] could not open file to read NUMA node: /sys/bus/pci/devices/0000:01:00.0/numa_node\n",
      "Your kernel may have been built without NUMA support.\n",
      "2025-10-16 14:02:21.724447: I external/local_xla/xla/stream_executor/cuda/cuda_executor.cc:887] could not open file to read NUMA node: /sys/bus/pci/devices/0000:01:00.0/numa_node\n",
      "Your kernel may have been built without NUMA support.\n",
      "2025-10-16 14:02:21.891283: I external/local_xla/xla/stream_executor/cuda/cuda_executor.cc:887] could not open file to read NUMA node: /sys/bus/pci/devices/0000:01:00.0/numa_node\n",
      "Your kernel may have been built without NUMA support.\n",
      "2025-10-16 14:02:21.891339: I external/local_xla/xla/stream_executor/cuda/cuda_executor.cc:887] could not open file to read NUMA node: /sys/bus/pci/devices/0000:01:00.0/numa_node\n",
      "Your kernel may have been built without NUMA support.\n",
      "2025-10-16 14:02:21.891345: I tensorflow/core/common_runtime/gpu/gpu_device.cc:2022] Could not identify NUMA node of platform GPU id 0, defaulting to 0.  Your kernel may not have been built with NUMA support.\n",
      "2025-10-16 14:02:21.891367: I external/local_xla/xla/stream_executor/cuda/cuda_executor.cc:887] could not open file to read NUMA node: /sys/bus/pci/devices/0000:01:00.0/numa_node\n",
      "Your kernel may have been built without NUMA support.\n",
      "2025-10-16 14:02:21.891388: I tensorflow/core/common_runtime/gpu/gpu_device.cc:1929] Created device /job:localhost/replica:0/task:0/device:GPU:0 with 3537 MB memory:  -> device: 0, name: NVIDIA GeForce RTX 4050 Laptop GPU, pci bus id: 0000:01:00.0, compute capability: 8.9\n"
     ]
    }
   ],
   "source": [
    "text_vector= tf.keras.layers.experimental.preprocessing.TextVectorization(max_tokens=None,\n",
    "                                                                          standardize= 'lower_and_strip_punctuation',\n",
    "                                                                          split=\"whitespace\",\n",
    "                                                                          ngrams=None,\n",
    "                                                                          output_mode=\"int\",\n",
    "                                                                          output_sequence_length=None\n",
    "                                                                          )"
   ]
  },
  {
   "cell_type": "code",
   "execution_count": 10,
   "id": "36a585fe",
   "metadata": {},
   "outputs": [],
   "source": [
    "max_vocab_length=10000\n",
    "max_length=15\n",
    "\n",
    "text_vector= tf.keras.layers.experimental.preprocessing.TextVectorization(max_tokens=max_vocab_length,\n",
    "                                                                          output_mode=\"int\",\n",
    "                                                                          output_sequence_length=max_length)"
   ]
  },
  {
   "cell_type": "code",
   "execution_count": 11,
   "id": "141ea264",
   "metadata": {},
   "outputs": [],
   "source": [
    "text_vector.adapt(train_sentences)"
   ]
  },
  {
   "cell_type": "code",
   "execution_count": 12,
   "id": "33b1ef87",
   "metadata": {},
   "outputs": [
    {
     "data": {
      "text/plain": [
       "<tf.Tensor: shape=(1, 15), dtype=int64, numpy=\n",
       "array([[1700,  103,   32, 2209,    1,    0,    0,    0,    0,    0,    0,\n",
       "           0,    0,    0,    0]])>"
      ]
     },
     "execution_count": 12,
     "metadata": {},
     "output_type": "execute_result"
    }
   ],
   "source": [
    "try_sent= \"Hello world i'm learning tensorflow\"\n",
    "text_vector([try_sent])"
   ]
  },
  {
   "cell_type": "code",
   "execution_count": 13,
   "id": "58e4e454",
   "metadata": {},
   "outputs": [
    {
     "name": "stdout",
     "output_type": "stream",
     "text": [
      "The random sentence is Las Vegas in top 5 cities for red-light running fatalities - News3LV http://t.co/eXdbcx4gCR\n"
     ]
    },
    {
     "data": {
      "text/plain": [
       "<tf.Tensor: shape=(1, 15), dtype=int64, numpy=\n",
       "array([[4786, 2999,    4,  249,  181, 2843,   10, 8479,  951,  331, 9615,\n",
       "           1,    0,    0,    0]])>"
      ]
     },
     "execution_count": 13,
     "metadata": {},
     "output_type": "execute_result"
    }
   ],
   "source": [
    "ran_sent= random.choice(train_sentences)\n",
    "print(f\"The random sentence is {ran_sent}\")\n",
    "text_vector([ran_sent])"
   ]
  },
  {
   "cell_type": "markdown",
   "id": "284024a1",
   "metadata": {},
   "source": [
    "## 6.Embedding layers"
   ]
  },
  {
   "cell_type": "code",
   "execution_count": 14,
   "id": "f5b56c0f",
   "metadata": {},
   "outputs": [],
   "source": [
    "embedding= tf.keras.layers.Embedding(input_dim=max_vocab_length,\n",
    "                                     output_dim=128,\n",
    "                                     input_length=max_length)"
   ]
  },
  {
   "cell_type": "code",
   "execution_count": 15,
   "id": "3ae33b31",
   "metadata": {},
   "outputs": [
    {
     "name": "stdout",
     "output_type": "stream",
     "text": [
      "The original sentence is: I'm my own woman crush ????\n",
      "\n",
      "\n",
      "The embedded version is:[[[-0.02131008  0.01913479  0.00831056 ...  0.03897942  0.02798018\n",
      "   -0.02041554]\n",
      "  [ 0.02925861 -0.04247105 -0.04886555 ... -0.02338256 -0.00611087\n",
      "    0.0068239 ]\n",
      "  [-0.02193948 -0.00661594 -0.01938523 ...  0.03007299  0.04621918\n",
      "   -0.00608744]\n",
      "  ...\n",
      "  [ 0.0192288  -0.0451205  -0.01026305 ...  0.03245825 -0.01952075\n",
      "   -0.0249638 ]\n",
      "  [ 0.0192288  -0.0451205  -0.01026305 ...  0.03245825 -0.01952075\n",
      "   -0.0249638 ]\n",
      "  [ 0.0192288  -0.0451205  -0.01026305 ...  0.03245825 -0.01952075\n",
      "   -0.0249638 ]]]\n"
     ]
    }
   ],
   "source": [
    "ran_sent= random.choice(train_sentences)\n",
    "print(f\"The original sentence is: {ran_sent}\\n\")\n",
    "sample_embedding= embedding(text_vector([ran_sent]))\n",
    "\n",
    "print(f\"\\nThe embedded version is:{sample_embedding}\")"
   ]
  },
  {
   "cell_type": "code",
   "execution_count": 16,
   "id": "3f768569",
   "metadata": {},
   "outputs": [
    {
     "data": {
      "text/plain": [
       "15"
      ]
     },
     "execution_count": 16,
     "metadata": {},
     "output_type": "execute_result"
    }
   ],
   "source": [
    "round(sum(len(i.split()) for i in train_sentences) / len(train_sentences))\n"
   ]
  },
  {
   "cell_type": "markdown",
   "id": "1c6feb59",
   "metadata": {},
   "source": [
    "## 7.Model_0"
   ]
  },
  {
   "cell_type": "code",
   "execution_count": 17,
   "id": "a2ff2b4a",
   "metadata": {},
   "outputs": [
    {
     "data": {
      "text/html": [
       "<style>#sk-container-id-1 {\n",
       "  /* Definition of color scheme common for light and dark mode */\n",
       "  --sklearn-color-text: #000;\n",
       "  --sklearn-color-text-muted: #666;\n",
       "  --sklearn-color-line: gray;\n",
       "  /* Definition of color scheme for unfitted estimators */\n",
       "  --sklearn-color-unfitted-level-0: #fff5e6;\n",
       "  --sklearn-color-unfitted-level-1: #f6e4d2;\n",
       "  --sklearn-color-unfitted-level-2: #ffe0b3;\n",
       "  --sklearn-color-unfitted-level-3: chocolate;\n",
       "  /* Definition of color scheme for fitted estimators */\n",
       "  --sklearn-color-fitted-level-0: #f0f8ff;\n",
       "  --sklearn-color-fitted-level-1: #d4ebff;\n",
       "  --sklearn-color-fitted-level-2: #b3dbfd;\n",
       "  --sklearn-color-fitted-level-3: cornflowerblue;\n",
       "\n",
       "  /* Specific color for light theme */\n",
       "  --sklearn-color-text-on-default-background: var(--sg-text-color, var(--theme-code-foreground, var(--jp-content-font-color1, black)));\n",
       "  --sklearn-color-background: var(--sg-background-color, var(--theme-background, var(--jp-layout-color0, white)));\n",
       "  --sklearn-color-border-box: var(--sg-text-color, var(--theme-code-foreground, var(--jp-content-font-color1, black)));\n",
       "  --sklearn-color-icon: #696969;\n",
       "\n",
       "  @media (prefers-color-scheme: dark) {\n",
       "    /* Redefinition of color scheme for dark theme */\n",
       "    --sklearn-color-text-on-default-background: var(--sg-text-color, var(--theme-code-foreground, var(--jp-content-font-color1, white)));\n",
       "    --sklearn-color-background: var(--sg-background-color, var(--theme-background, var(--jp-layout-color0, #111)));\n",
       "    --sklearn-color-border-box: var(--sg-text-color, var(--theme-code-foreground, var(--jp-content-font-color1, white)));\n",
       "    --sklearn-color-icon: #878787;\n",
       "  }\n",
       "}\n",
       "\n",
       "#sk-container-id-1 {\n",
       "  color: var(--sklearn-color-text);\n",
       "}\n",
       "\n",
       "#sk-container-id-1 pre {\n",
       "  padding: 0;\n",
       "}\n",
       "\n",
       "#sk-container-id-1 input.sk-hidden--visually {\n",
       "  border: 0;\n",
       "  clip: rect(1px 1px 1px 1px);\n",
       "  clip: rect(1px, 1px, 1px, 1px);\n",
       "  height: 1px;\n",
       "  margin: -1px;\n",
       "  overflow: hidden;\n",
       "  padding: 0;\n",
       "  position: absolute;\n",
       "  width: 1px;\n",
       "}\n",
       "\n",
       "#sk-container-id-1 div.sk-dashed-wrapped {\n",
       "  border: 1px dashed var(--sklearn-color-line);\n",
       "  margin: 0 0.4em 0.5em 0.4em;\n",
       "  box-sizing: border-box;\n",
       "  padding-bottom: 0.4em;\n",
       "  background-color: var(--sklearn-color-background);\n",
       "}\n",
       "\n",
       "#sk-container-id-1 div.sk-container {\n",
       "  /* jupyter's `normalize.less` sets `[hidden] { display: none; }`\n",
       "     but bootstrap.min.css set `[hidden] { display: none !important; }`\n",
       "     so we also need the `!important` here to be able to override the\n",
       "     default hidden behavior on the sphinx rendered scikit-learn.org.\n",
       "     See: https://github.com/scikit-learn/scikit-learn/issues/21755 */\n",
       "  display: inline-block !important;\n",
       "  position: relative;\n",
       "}\n",
       "\n",
       "#sk-container-id-1 div.sk-text-repr-fallback {\n",
       "  display: none;\n",
       "}\n",
       "\n",
       "div.sk-parallel-item,\n",
       "div.sk-serial,\n",
       "div.sk-item {\n",
       "  /* draw centered vertical line to link estimators */\n",
       "  background-image: linear-gradient(var(--sklearn-color-text-on-default-background), var(--sklearn-color-text-on-default-background));\n",
       "  background-size: 2px 100%;\n",
       "  background-repeat: no-repeat;\n",
       "  background-position: center center;\n",
       "}\n",
       "\n",
       "/* Parallel-specific style estimator block */\n",
       "\n",
       "#sk-container-id-1 div.sk-parallel-item::after {\n",
       "  content: \"\";\n",
       "  width: 100%;\n",
       "  border-bottom: 2px solid var(--sklearn-color-text-on-default-background);\n",
       "  flex-grow: 1;\n",
       "}\n",
       "\n",
       "#sk-container-id-1 div.sk-parallel {\n",
       "  display: flex;\n",
       "  align-items: stretch;\n",
       "  justify-content: center;\n",
       "  background-color: var(--sklearn-color-background);\n",
       "  position: relative;\n",
       "}\n",
       "\n",
       "#sk-container-id-1 div.sk-parallel-item {\n",
       "  display: flex;\n",
       "  flex-direction: column;\n",
       "}\n",
       "\n",
       "#sk-container-id-1 div.sk-parallel-item:first-child::after {\n",
       "  align-self: flex-end;\n",
       "  width: 50%;\n",
       "}\n",
       "\n",
       "#sk-container-id-1 div.sk-parallel-item:last-child::after {\n",
       "  align-self: flex-start;\n",
       "  width: 50%;\n",
       "}\n",
       "\n",
       "#sk-container-id-1 div.sk-parallel-item:only-child::after {\n",
       "  width: 0;\n",
       "}\n",
       "\n",
       "/* Serial-specific style estimator block */\n",
       "\n",
       "#sk-container-id-1 div.sk-serial {\n",
       "  display: flex;\n",
       "  flex-direction: column;\n",
       "  align-items: center;\n",
       "  background-color: var(--sklearn-color-background);\n",
       "  padding-right: 1em;\n",
       "  padding-left: 1em;\n",
       "}\n",
       "\n",
       "\n",
       "/* Toggleable style: style used for estimator/Pipeline/ColumnTransformer box that is\n",
       "clickable and can be expanded/collapsed.\n",
       "- Pipeline and ColumnTransformer use this feature and define the default style\n",
       "- Estimators will overwrite some part of the style using the `sk-estimator` class\n",
       "*/\n",
       "\n",
       "/* Pipeline and ColumnTransformer style (default) */\n",
       "\n",
       "#sk-container-id-1 div.sk-toggleable {\n",
       "  /* Default theme specific background. It is overwritten whether we have a\n",
       "  specific estimator or a Pipeline/ColumnTransformer */\n",
       "  background-color: var(--sklearn-color-background);\n",
       "}\n",
       "\n",
       "/* Toggleable label */\n",
       "#sk-container-id-1 label.sk-toggleable__label {\n",
       "  cursor: pointer;\n",
       "  display: flex;\n",
       "  width: 100%;\n",
       "  margin-bottom: 0;\n",
       "  padding: 0.5em;\n",
       "  box-sizing: border-box;\n",
       "  text-align: center;\n",
       "  align-items: start;\n",
       "  justify-content: space-between;\n",
       "  gap: 0.5em;\n",
       "}\n",
       "\n",
       "#sk-container-id-1 label.sk-toggleable__label .caption {\n",
       "  font-size: 0.6rem;\n",
       "  font-weight: lighter;\n",
       "  color: var(--sklearn-color-text-muted);\n",
       "}\n",
       "\n",
       "#sk-container-id-1 label.sk-toggleable__label-arrow:before {\n",
       "  /* Arrow on the left of the label */\n",
       "  content: \"▸\";\n",
       "  float: left;\n",
       "  margin-right: 0.25em;\n",
       "  color: var(--sklearn-color-icon);\n",
       "}\n",
       "\n",
       "#sk-container-id-1 label.sk-toggleable__label-arrow:hover:before {\n",
       "  color: var(--sklearn-color-text);\n",
       "}\n",
       "\n",
       "/* Toggleable content - dropdown */\n",
       "\n",
       "#sk-container-id-1 div.sk-toggleable__content {\n",
       "  display: none;\n",
       "  text-align: left;\n",
       "  /* unfitted */\n",
       "  background-color: var(--sklearn-color-unfitted-level-0);\n",
       "}\n",
       "\n",
       "#sk-container-id-1 div.sk-toggleable__content.fitted {\n",
       "  /* fitted */\n",
       "  background-color: var(--sklearn-color-fitted-level-0);\n",
       "}\n",
       "\n",
       "#sk-container-id-1 div.sk-toggleable__content pre {\n",
       "  margin: 0.2em;\n",
       "  border-radius: 0.25em;\n",
       "  color: var(--sklearn-color-text);\n",
       "  /* unfitted */\n",
       "  background-color: var(--sklearn-color-unfitted-level-0);\n",
       "}\n",
       "\n",
       "#sk-container-id-1 div.sk-toggleable__content.fitted pre {\n",
       "  /* unfitted */\n",
       "  background-color: var(--sklearn-color-fitted-level-0);\n",
       "}\n",
       "\n",
       "#sk-container-id-1 input.sk-toggleable__control:checked~div.sk-toggleable__content {\n",
       "  /* Expand drop-down */\n",
       "  display: block;\n",
       "  width: 100%;\n",
       "  overflow: visible;\n",
       "}\n",
       "\n",
       "#sk-container-id-1 input.sk-toggleable__control:checked~label.sk-toggleable__label-arrow:before {\n",
       "  content: \"▾\";\n",
       "}\n",
       "\n",
       "/* Pipeline/ColumnTransformer-specific style */\n",
       "\n",
       "#sk-container-id-1 div.sk-label input.sk-toggleable__control:checked~label.sk-toggleable__label {\n",
       "  color: var(--sklearn-color-text);\n",
       "  background-color: var(--sklearn-color-unfitted-level-2);\n",
       "}\n",
       "\n",
       "#sk-container-id-1 div.sk-label.fitted input.sk-toggleable__control:checked~label.sk-toggleable__label {\n",
       "  background-color: var(--sklearn-color-fitted-level-2);\n",
       "}\n",
       "\n",
       "/* Estimator-specific style */\n",
       "\n",
       "/* Colorize estimator box */\n",
       "#sk-container-id-1 div.sk-estimator input.sk-toggleable__control:checked~label.sk-toggleable__label {\n",
       "  /* unfitted */\n",
       "  background-color: var(--sklearn-color-unfitted-level-2);\n",
       "}\n",
       "\n",
       "#sk-container-id-1 div.sk-estimator.fitted input.sk-toggleable__control:checked~label.sk-toggleable__label {\n",
       "  /* fitted */\n",
       "  background-color: var(--sklearn-color-fitted-level-2);\n",
       "}\n",
       "\n",
       "#sk-container-id-1 div.sk-label label.sk-toggleable__label,\n",
       "#sk-container-id-1 div.sk-label label {\n",
       "  /* The background is the default theme color */\n",
       "  color: var(--sklearn-color-text-on-default-background);\n",
       "}\n",
       "\n",
       "/* On hover, darken the color of the background */\n",
       "#sk-container-id-1 div.sk-label:hover label.sk-toggleable__label {\n",
       "  color: var(--sklearn-color-text);\n",
       "  background-color: var(--sklearn-color-unfitted-level-2);\n",
       "}\n",
       "\n",
       "/* Label box, darken color on hover, fitted */\n",
       "#sk-container-id-1 div.sk-label.fitted:hover label.sk-toggleable__label.fitted {\n",
       "  color: var(--sklearn-color-text);\n",
       "  background-color: var(--sklearn-color-fitted-level-2);\n",
       "}\n",
       "\n",
       "/* Estimator label */\n",
       "\n",
       "#sk-container-id-1 div.sk-label label {\n",
       "  font-family: monospace;\n",
       "  font-weight: bold;\n",
       "  display: inline-block;\n",
       "  line-height: 1.2em;\n",
       "}\n",
       "\n",
       "#sk-container-id-1 div.sk-label-container {\n",
       "  text-align: center;\n",
       "}\n",
       "\n",
       "/* Estimator-specific */\n",
       "#sk-container-id-1 div.sk-estimator {\n",
       "  font-family: monospace;\n",
       "  border: 1px dotted var(--sklearn-color-border-box);\n",
       "  border-radius: 0.25em;\n",
       "  box-sizing: border-box;\n",
       "  margin-bottom: 0.5em;\n",
       "  /* unfitted */\n",
       "  background-color: var(--sklearn-color-unfitted-level-0);\n",
       "}\n",
       "\n",
       "#sk-container-id-1 div.sk-estimator.fitted {\n",
       "  /* fitted */\n",
       "  background-color: var(--sklearn-color-fitted-level-0);\n",
       "}\n",
       "\n",
       "/* on hover */\n",
       "#sk-container-id-1 div.sk-estimator:hover {\n",
       "  /* unfitted */\n",
       "  background-color: var(--sklearn-color-unfitted-level-2);\n",
       "}\n",
       "\n",
       "#sk-container-id-1 div.sk-estimator.fitted:hover {\n",
       "  /* fitted */\n",
       "  background-color: var(--sklearn-color-fitted-level-2);\n",
       "}\n",
       "\n",
       "/* Specification for estimator info (e.g. \"i\" and \"?\") */\n",
       "\n",
       "/* Common style for \"i\" and \"?\" */\n",
       "\n",
       ".sk-estimator-doc-link,\n",
       "a:link.sk-estimator-doc-link,\n",
       "a:visited.sk-estimator-doc-link {\n",
       "  float: right;\n",
       "  font-size: smaller;\n",
       "  line-height: 1em;\n",
       "  font-family: monospace;\n",
       "  background-color: var(--sklearn-color-background);\n",
       "  border-radius: 1em;\n",
       "  height: 1em;\n",
       "  width: 1em;\n",
       "  text-decoration: none !important;\n",
       "  margin-left: 0.5em;\n",
       "  text-align: center;\n",
       "  /* unfitted */\n",
       "  border: var(--sklearn-color-unfitted-level-1) 1pt solid;\n",
       "  color: var(--sklearn-color-unfitted-level-1);\n",
       "}\n",
       "\n",
       ".sk-estimator-doc-link.fitted,\n",
       "a:link.sk-estimator-doc-link.fitted,\n",
       "a:visited.sk-estimator-doc-link.fitted {\n",
       "  /* fitted */\n",
       "  border: var(--sklearn-color-fitted-level-1) 1pt solid;\n",
       "  color: var(--sklearn-color-fitted-level-1);\n",
       "}\n",
       "\n",
       "/* On hover */\n",
       "div.sk-estimator:hover .sk-estimator-doc-link:hover,\n",
       ".sk-estimator-doc-link:hover,\n",
       "div.sk-label-container:hover .sk-estimator-doc-link:hover,\n",
       ".sk-estimator-doc-link:hover {\n",
       "  /* unfitted */\n",
       "  background-color: var(--sklearn-color-unfitted-level-3);\n",
       "  color: var(--sklearn-color-background);\n",
       "  text-decoration: none;\n",
       "}\n",
       "\n",
       "div.sk-estimator.fitted:hover .sk-estimator-doc-link.fitted:hover,\n",
       ".sk-estimator-doc-link.fitted:hover,\n",
       "div.sk-label-container:hover .sk-estimator-doc-link.fitted:hover,\n",
       ".sk-estimator-doc-link.fitted:hover {\n",
       "  /* fitted */\n",
       "  background-color: var(--sklearn-color-fitted-level-3);\n",
       "  color: var(--sklearn-color-background);\n",
       "  text-decoration: none;\n",
       "}\n",
       "\n",
       "/* Span, style for the box shown on hovering the info icon */\n",
       ".sk-estimator-doc-link span {\n",
       "  display: none;\n",
       "  z-index: 9999;\n",
       "  position: relative;\n",
       "  font-weight: normal;\n",
       "  right: .2ex;\n",
       "  padding: .5ex;\n",
       "  margin: .5ex;\n",
       "  width: min-content;\n",
       "  min-width: 20ex;\n",
       "  max-width: 50ex;\n",
       "  color: var(--sklearn-color-text);\n",
       "  box-shadow: 2pt 2pt 4pt #999;\n",
       "  /* unfitted */\n",
       "  background: var(--sklearn-color-unfitted-level-0);\n",
       "  border: .5pt solid var(--sklearn-color-unfitted-level-3);\n",
       "}\n",
       "\n",
       ".sk-estimator-doc-link.fitted span {\n",
       "  /* fitted */\n",
       "  background: var(--sklearn-color-fitted-level-0);\n",
       "  border: var(--sklearn-color-fitted-level-3);\n",
       "}\n",
       "\n",
       ".sk-estimator-doc-link:hover span {\n",
       "  display: block;\n",
       "}\n",
       "\n",
       "/* \"?\"-specific style due to the `<a>` HTML tag */\n",
       "\n",
       "#sk-container-id-1 a.estimator_doc_link {\n",
       "  float: right;\n",
       "  font-size: 1rem;\n",
       "  line-height: 1em;\n",
       "  font-family: monospace;\n",
       "  background-color: var(--sklearn-color-background);\n",
       "  border-radius: 1rem;\n",
       "  height: 1rem;\n",
       "  width: 1rem;\n",
       "  text-decoration: none;\n",
       "  /* unfitted */\n",
       "  color: var(--sklearn-color-unfitted-level-1);\n",
       "  border: var(--sklearn-color-unfitted-level-1) 1pt solid;\n",
       "}\n",
       "\n",
       "#sk-container-id-1 a.estimator_doc_link.fitted {\n",
       "  /* fitted */\n",
       "  border: var(--sklearn-color-fitted-level-1) 1pt solid;\n",
       "  color: var(--sklearn-color-fitted-level-1);\n",
       "}\n",
       "\n",
       "/* On hover */\n",
       "#sk-container-id-1 a.estimator_doc_link:hover {\n",
       "  /* unfitted */\n",
       "  background-color: var(--sklearn-color-unfitted-level-3);\n",
       "  color: var(--sklearn-color-background);\n",
       "  text-decoration: none;\n",
       "}\n",
       "\n",
       "#sk-container-id-1 a.estimator_doc_link.fitted:hover {\n",
       "  /* fitted */\n",
       "  background-color: var(--sklearn-color-fitted-level-3);\n",
       "}\n",
       "\n",
       ".estimator-table summary {\n",
       "    padding: .5rem;\n",
       "    font-family: monospace;\n",
       "    cursor: pointer;\n",
       "}\n",
       "\n",
       ".estimator-table details[open] {\n",
       "    padding-left: 0.1rem;\n",
       "    padding-right: 0.1rem;\n",
       "    padding-bottom: 0.3rem;\n",
       "}\n",
       "\n",
       ".estimator-table .parameters-table {\n",
       "    margin-left: auto !important;\n",
       "    margin-right: auto !important;\n",
       "}\n",
       "\n",
       ".estimator-table .parameters-table tr:nth-child(odd) {\n",
       "    background-color: #fff;\n",
       "}\n",
       "\n",
       ".estimator-table .parameters-table tr:nth-child(even) {\n",
       "    background-color: #f6f6f6;\n",
       "}\n",
       "\n",
       ".estimator-table .parameters-table tr:hover {\n",
       "    background-color: #e0e0e0;\n",
       "}\n",
       "\n",
       ".estimator-table table td {\n",
       "    border: 1px solid rgba(106, 105, 104, 0.232);\n",
       "}\n",
       "\n",
       ".user-set td {\n",
       "    color:rgb(255, 94, 0);\n",
       "    text-align: left;\n",
       "}\n",
       "\n",
       ".user-set td.value pre {\n",
       "    color:rgb(255, 94, 0) !important;\n",
       "    background-color: transparent !important;\n",
       "}\n",
       "\n",
       ".default td {\n",
       "    color: black;\n",
       "    text-align: left;\n",
       "}\n",
       "\n",
       ".user-set td i,\n",
       ".default td i {\n",
       "    color: black;\n",
       "}\n",
       "\n",
       ".copy-paste-icon {\n",
       "    background-image: url(data:image/svg+xml;base64,PHN2ZyB4bWxucz0iaHR0cDovL3d3dy53My5vcmcvMjAwMC9zdmciIHZpZXdCb3g9IjAgMCA0NDggNTEyIj48IS0tIUZvbnQgQXdlc29tZSBGcmVlIDYuNy4yIGJ5IEBmb250YXdlc29tZSAtIGh0dHBzOi8vZm9udGF3ZXNvbWUuY29tIExpY2Vuc2UgLSBodHRwczovL2ZvbnRhd2Vzb21lLmNvbS9saWNlbnNlL2ZyZWUgQ29weXJpZ2h0IDIwMjUgRm9udGljb25zLCBJbmMuLS0+PHBhdGggZD0iTTIwOCAwTDMzMi4xIDBjMTIuNyAwIDI0LjkgNS4xIDMzLjkgMTQuMWw2Ny45IDY3LjljOSA5IDE0LjEgMjEuMiAxNC4xIDMzLjlMNDQ4IDMzNmMwIDI2LjUtMjEuNSA0OC00OCA0OGwtMTkyIDBjLTI2LjUgMC00OC0yMS41LTQ4LTQ4bDAtMjg4YzAtMjYuNSAyMS41LTQ4IDQ4LTQ4ek00OCAxMjhsODAgMCAwIDY0LTY0IDAgMCAyNTYgMTkyIDAgMC0zMiA2NCAwIDAgNDhjMCAyNi41LTIxLjUgNDgtNDggNDhMNDggNTEyYy0yNi41IDAtNDgtMjEuNS00OC00OEwwIDE3NmMwLTI2LjUgMjEuNS00OCA0OC00OHoiLz48L3N2Zz4=);\n",
       "    background-repeat: no-repeat;\n",
       "    background-size: 14px 14px;\n",
       "    background-position: 0;\n",
       "    display: inline-block;\n",
       "    width: 14px;\n",
       "    height: 14px;\n",
       "    cursor: pointer;\n",
       "}\n",
       "</style><body><div id=\"sk-container-id-1\" class=\"sk-top-container\"><div class=\"sk-text-repr-fallback\"><pre>Pipeline(steps=[(&#x27;tf-idf&#x27;, TfidfVectorizer()), (&#x27;clf&#x27;, MultinomialNB())])</pre><b>In a Jupyter environment, please rerun this cell to show the HTML representation or trust the notebook. <br />On GitHub, the HTML representation is unable to render, please try loading this page with nbviewer.org.</b></div><div class=\"sk-container\" hidden><div class=\"sk-item sk-dashed-wrapped\"><div class=\"sk-label-container\"><div class=\"sk-label fitted sk-toggleable\"><input class=\"sk-toggleable__control sk-hidden--visually\" id=\"sk-estimator-id-1\" type=\"checkbox\" ><label for=\"sk-estimator-id-1\" class=\"sk-toggleable__label fitted sk-toggleable__label-arrow\"><div><div>Pipeline</div></div><div><a class=\"sk-estimator-doc-link fitted\" rel=\"noreferrer\" target=\"_blank\" href=\"https://scikit-learn.org/1.7/modules/generated/sklearn.pipeline.Pipeline.html\">?<span>Documentation for Pipeline</span></a><span class=\"sk-estimator-doc-link fitted\">i<span>Fitted</span></span></div></label><div class=\"sk-toggleable__content fitted\" data-param-prefix=\"\">\n",
       "        <div class=\"estimator-table\">\n",
       "            <details>\n",
       "                <summary>Parameters</summary>\n",
       "                <table class=\"parameters-table\">\n",
       "                  <tbody>\n",
       "                    \n",
       "        <tr class=\"user-set\">\n",
       "            <td><i class=\"copy-paste-icon\"\n",
       "                 onclick=\"copyToClipboard('steps',\n",
       "                          this.parentElement.nextElementSibling)\"\n",
       "            ></i></td>\n",
       "            <td class=\"param\">steps&nbsp;</td>\n",
       "            <td class=\"value\">[(&#x27;tf-idf&#x27;, ...), (&#x27;clf&#x27;, ...)]</td>\n",
       "        </tr>\n",
       "    \n",
       "\n",
       "        <tr class=\"default\">\n",
       "            <td><i class=\"copy-paste-icon\"\n",
       "                 onclick=\"copyToClipboard('transform_input',\n",
       "                          this.parentElement.nextElementSibling)\"\n",
       "            ></i></td>\n",
       "            <td class=\"param\">transform_input&nbsp;</td>\n",
       "            <td class=\"value\">None</td>\n",
       "        </tr>\n",
       "    \n",
       "\n",
       "        <tr class=\"default\">\n",
       "            <td><i class=\"copy-paste-icon\"\n",
       "                 onclick=\"copyToClipboard('memory',\n",
       "                          this.parentElement.nextElementSibling)\"\n",
       "            ></i></td>\n",
       "            <td class=\"param\">memory&nbsp;</td>\n",
       "            <td class=\"value\">None</td>\n",
       "        </tr>\n",
       "    \n",
       "\n",
       "        <tr class=\"default\">\n",
       "            <td><i class=\"copy-paste-icon\"\n",
       "                 onclick=\"copyToClipboard('verbose',\n",
       "                          this.parentElement.nextElementSibling)\"\n",
       "            ></i></td>\n",
       "            <td class=\"param\">verbose&nbsp;</td>\n",
       "            <td class=\"value\">False</td>\n",
       "        </tr>\n",
       "    \n",
       "                  </tbody>\n",
       "                </table>\n",
       "            </details>\n",
       "        </div>\n",
       "    </div></div></div><div class=\"sk-serial\"><div class=\"sk-item\"><div class=\"sk-estimator fitted sk-toggleable\"><input class=\"sk-toggleable__control sk-hidden--visually\" id=\"sk-estimator-id-2\" type=\"checkbox\" ><label for=\"sk-estimator-id-2\" class=\"sk-toggleable__label fitted sk-toggleable__label-arrow\"><div><div>TfidfVectorizer</div></div><div><a class=\"sk-estimator-doc-link fitted\" rel=\"noreferrer\" target=\"_blank\" href=\"https://scikit-learn.org/1.7/modules/generated/sklearn.feature_extraction.text.TfidfVectorizer.html\">?<span>Documentation for TfidfVectorizer</span></a></div></label><div class=\"sk-toggleable__content fitted\" data-param-prefix=\"tf-idf__\">\n",
       "        <div class=\"estimator-table\">\n",
       "            <details>\n",
       "                <summary>Parameters</summary>\n",
       "                <table class=\"parameters-table\">\n",
       "                  <tbody>\n",
       "                    \n",
       "        <tr class=\"default\">\n",
       "            <td><i class=\"copy-paste-icon\"\n",
       "                 onclick=\"copyToClipboard('input',\n",
       "                          this.parentElement.nextElementSibling)\"\n",
       "            ></i></td>\n",
       "            <td class=\"param\">input&nbsp;</td>\n",
       "            <td class=\"value\">&#x27;content&#x27;</td>\n",
       "        </tr>\n",
       "    \n",
       "\n",
       "        <tr class=\"default\">\n",
       "            <td><i class=\"copy-paste-icon\"\n",
       "                 onclick=\"copyToClipboard('encoding',\n",
       "                          this.parentElement.nextElementSibling)\"\n",
       "            ></i></td>\n",
       "            <td class=\"param\">encoding&nbsp;</td>\n",
       "            <td class=\"value\">&#x27;utf-8&#x27;</td>\n",
       "        </tr>\n",
       "    \n",
       "\n",
       "        <tr class=\"default\">\n",
       "            <td><i class=\"copy-paste-icon\"\n",
       "                 onclick=\"copyToClipboard('decode_error',\n",
       "                          this.parentElement.nextElementSibling)\"\n",
       "            ></i></td>\n",
       "            <td class=\"param\">decode_error&nbsp;</td>\n",
       "            <td class=\"value\">&#x27;strict&#x27;</td>\n",
       "        </tr>\n",
       "    \n",
       "\n",
       "        <tr class=\"default\">\n",
       "            <td><i class=\"copy-paste-icon\"\n",
       "                 onclick=\"copyToClipboard('strip_accents',\n",
       "                          this.parentElement.nextElementSibling)\"\n",
       "            ></i></td>\n",
       "            <td class=\"param\">strip_accents&nbsp;</td>\n",
       "            <td class=\"value\">None</td>\n",
       "        </tr>\n",
       "    \n",
       "\n",
       "        <tr class=\"default\">\n",
       "            <td><i class=\"copy-paste-icon\"\n",
       "                 onclick=\"copyToClipboard('lowercase',\n",
       "                          this.parentElement.nextElementSibling)\"\n",
       "            ></i></td>\n",
       "            <td class=\"param\">lowercase&nbsp;</td>\n",
       "            <td class=\"value\">True</td>\n",
       "        </tr>\n",
       "    \n",
       "\n",
       "        <tr class=\"default\">\n",
       "            <td><i class=\"copy-paste-icon\"\n",
       "                 onclick=\"copyToClipboard('preprocessor',\n",
       "                          this.parentElement.nextElementSibling)\"\n",
       "            ></i></td>\n",
       "            <td class=\"param\">preprocessor&nbsp;</td>\n",
       "            <td class=\"value\">None</td>\n",
       "        </tr>\n",
       "    \n",
       "\n",
       "        <tr class=\"default\">\n",
       "            <td><i class=\"copy-paste-icon\"\n",
       "                 onclick=\"copyToClipboard('tokenizer',\n",
       "                          this.parentElement.nextElementSibling)\"\n",
       "            ></i></td>\n",
       "            <td class=\"param\">tokenizer&nbsp;</td>\n",
       "            <td class=\"value\">None</td>\n",
       "        </tr>\n",
       "    \n",
       "\n",
       "        <tr class=\"default\">\n",
       "            <td><i class=\"copy-paste-icon\"\n",
       "                 onclick=\"copyToClipboard('analyzer',\n",
       "                          this.parentElement.nextElementSibling)\"\n",
       "            ></i></td>\n",
       "            <td class=\"param\">analyzer&nbsp;</td>\n",
       "            <td class=\"value\">&#x27;word&#x27;</td>\n",
       "        </tr>\n",
       "    \n",
       "\n",
       "        <tr class=\"default\">\n",
       "            <td><i class=\"copy-paste-icon\"\n",
       "                 onclick=\"copyToClipboard('stop_words',\n",
       "                          this.parentElement.nextElementSibling)\"\n",
       "            ></i></td>\n",
       "            <td class=\"param\">stop_words&nbsp;</td>\n",
       "            <td class=\"value\">None</td>\n",
       "        </tr>\n",
       "    \n",
       "\n",
       "        <tr class=\"default\">\n",
       "            <td><i class=\"copy-paste-icon\"\n",
       "                 onclick=\"copyToClipboard('token_pattern',\n",
       "                          this.parentElement.nextElementSibling)\"\n",
       "            ></i></td>\n",
       "            <td class=\"param\">token_pattern&nbsp;</td>\n",
       "            <td class=\"value\">&#x27;(?u)\\\\b\\\\w\\\\w+\\\\b&#x27;</td>\n",
       "        </tr>\n",
       "    \n",
       "\n",
       "        <tr class=\"default\">\n",
       "            <td><i class=\"copy-paste-icon\"\n",
       "                 onclick=\"copyToClipboard('ngram_range',\n",
       "                          this.parentElement.nextElementSibling)\"\n",
       "            ></i></td>\n",
       "            <td class=\"param\">ngram_range&nbsp;</td>\n",
       "            <td class=\"value\">(1, ...)</td>\n",
       "        </tr>\n",
       "    \n",
       "\n",
       "        <tr class=\"default\">\n",
       "            <td><i class=\"copy-paste-icon\"\n",
       "                 onclick=\"copyToClipboard('max_df',\n",
       "                          this.parentElement.nextElementSibling)\"\n",
       "            ></i></td>\n",
       "            <td class=\"param\">max_df&nbsp;</td>\n",
       "            <td class=\"value\">1.0</td>\n",
       "        </tr>\n",
       "    \n",
       "\n",
       "        <tr class=\"default\">\n",
       "            <td><i class=\"copy-paste-icon\"\n",
       "                 onclick=\"copyToClipboard('min_df',\n",
       "                          this.parentElement.nextElementSibling)\"\n",
       "            ></i></td>\n",
       "            <td class=\"param\">min_df&nbsp;</td>\n",
       "            <td class=\"value\">1</td>\n",
       "        </tr>\n",
       "    \n",
       "\n",
       "        <tr class=\"default\">\n",
       "            <td><i class=\"copy-paste-icon\"\n",
       "                 onclick=\"copyToClipboard('max_features',\n",
       "                          this.parentElement.nextElementSibling)\"\n",
       "            ></i></td>\n",
       "            <td class=\"param\">max_features&nbsp;</td>\n",
       "            <td class=\"value\">None</td>\n",
       "        </tr>\n",
       "    \n",
       "\n",
       "        <tr class=\"default\">\n",
       "            <td><i class=\"copy-paste-icon\"\n",
       "                 onclick=\"copyToClipboard('vocabulary',\n",
       "                          this.parentElement.nextElementSibling)\"\n",
       "            ></i></td>\n",
       "            <td class=\"param\">vocabulary&nbsp;</td>\n",
       "            <td class=\"value\">None</td>\n",
       "        </tr>\n",
       "    \n",
       "\n",
       "        <tr class=\"default\">\n",
       "            <td><i class=\"copy-paste-icon\"\n",
       "                 onclick=\"copyToClipboard('binary',\n",
       "                          this.parentElement.nextElementSibling)\"\n",
       "            ></i></td>\n",
       "            <td class=\"param\">binary&nbsp;</td>\n",
       "            <td class=\"value\">False</td>\n",
       "        </tr>\n",
       "    \n",
       "\n",
       "        <tr class=\"default\">\n",
       "            <td><i class=\"copy-paste-icon\"\n",
       "                 onclick=\"copyToClipboard('dtype',\n",
       "                          this.parentElement.nextElementSibling)\"\n",
       "            ></i></td>\n",
       "            <td class=\"param\">dtype&nbsp;</td>\n",
       "            <td class=\"value\">&lt;class &#x27;numpy.float64&#x27;&gt;</td>\n",
       "        </tr>\n",
       "    \n",
       "\n",
       "        <tr class=\"default\">\n",
       "            <td><i class=\"copy-paste-icon\"\n",
       "                 onclick=\"copyToClipboard('norm',\n",
       "                          this.parentElement.nextElementSibling)\"\n",
       "            ></i></td>\n",
       "            <td class=\"param\">norm&nbsp;</td>\n",
       "            <td class=\"value\">&#x27;l2&#x27;</td>\n",
       "        </tr>\n",
       "    \n",
       "\n",
       "        <tr class=\"default\">\n",
       "            <td><i class=\"copy-paste-icon\"\n",
       "                 onclick=\"copyToClipboard('use_idf',\n",
       "                          this.parentElement.nextElementSibling)\"\n",
       "            ></i></td>\n",
       "            <td class=\"param\">use_idf&nbsp;</td>\n",
       "            <td class=\"value\">True</td>\n",
       "        </tr>\n",
       "    \n",
       "\n",
       "        <tr class=\"default\">\n",
       "            <td><i class=\"copy-paste-icon\"\n",
       "                 onclick=\"copyToClipboard('smooth_idf',\n",
       "                          this.parentElement.nextElementSibling)\"\n",
       "            ></i></td>\n",
       "            <td class=\"param\">smooth_idf&nbsp;</td>\n",
       "            <td class=\"value\">True</td>\n",
       "        </tr>\n",
       "    \n",
       "\n",
       "        <tr class=\"default\">\n",
       "            <td><i class=\"copy-paste-icon\"\n",
       "                 onclick=\"copyToClipboard('sublinear_tf',\n",
       "                          this.parentElement.nextElementSibling)\"\n",
       "            ></i></td>\n",
       "            <td class=\"param\">sublinear_tf&nbsp;</td>\n",
       "            <td class=\"value\">False</td>\n",
       "        </tr>\n",
       "    \n",
       "                  </tbody>\n",
       "                </table>\n",
       "            </details>\n",
       "        </div>\n",
       "    </div></div></div><div class=\"sk-item\"><div class=\"sk-estimator fitted sk-toggleable\"><input class=\"sk-toggleable__control sk-hidden--visually\" id=\"sk-estimator-id-3\" type=\"checkbox\" ><label for=\"sk-estimator-id-3\" class=\"sk-toggleable__label fitted sk-toggleable__label-arrow\"><div><div>MultinomialNB</div></div><div><a class=\"sk-estimator-doc-link fitted\" rel=\"noreferrer\" target=\"_blank\" href=\"https://scikit-learn.org/1.7/modules/generated/sklearn.naive_bayes.MultinomialNB.html\">?<span>Documentation for MultinomialNB</span></a></div></label><div class=\"sk-toggleable__content fitted\" data-param-prefix=\"clf__\">\n",
       "        <div class=\"estimator-table\">\n",
       "            <details>\n",
       "                <summary>Parameters</summary>\n",
       "                <table class=\"parameters-table\">\n",
       "                  <tbody>\n",
       "                    \n",
       "        <tr class=\"default\">\n",
       "            <td><i class=\"copy-paste-icon\"\n",
       "                 onclick=\"copyToClipboard('alpha',\n",
       "                          this.parentElement.nextElementSibling)\"\n",
       "            ></i></td>\n",
       "            <td class=\"param\">alpha&nbsp;</td>\n",
       "            <td class=\"value\">1.0</td>\n",
       "        </tr>\n",
       "    \n",
       "\n",
       "        <tr class=\"default\">\n",
       "            <td><i class=\"copy-paste-icon\"\n",
       "                 onclick=\"copyToClipboard('force_alpha',\n",
       "                          this.parentElement.nextElementSibling)\"\n",
       "            ></i></td>\n",
       "            <td class=\"param\">force_alpha&nbsp;</td>\n",
       "            <td class=\"value\">True</td>\n",
       "        </tr>\n",
       "    \n",
       "\n",
       "        <tr class=\"default\">\n",
       "            <td><i class=\"copy-paste-icon\"\n",
       "                 onclick=\"copyToClipboard('fit_prior',\n",
       "                          this.parentElement.nextElementSibling)\"\n",
       "            ></i></td>\n",
       "            <td class=\"param\">fit_prior&nbsp;</td>\n",
       "            <td class=\"value\">True</td>\n",
       "        </tr>\n",
       "    \n",
       "\n",
       "        <tr class=\"default\">\n",
       "            <td><i class=\"copy-paste-icon\"\n",
       "                 onclick=\"copyToClipboard('class_prior',\n",
       "                          this.parentElement.nextElementSibling)\"\n",
       "            ></i></td>\n",
       "            <td class=\"param\">class_prior&nbsp;</td>\n",
       "            <td class=\"value\">None</td>\n",
       "        </tr>\n",
       "    \n",
       "                  </tbody>\n",
       "                </table>\n",
       "            </details>\n",
       "        </div>\n",
       "    </div></div></div></div></div></div></div><script>function copyToClipboard(text, element) {\n",
       "    // Get the parameter prefix from the closest toggleable content\n",
       "    const toggleableContent = element.closest('.sk-toggleable__content');\n",
       "    const paramPrefix = toggleableContent ? toggleableContent.dataset.paramPrefix : '';\n",
       "    const fullParamName = paramPrefix ? `${paramPrefix}${text}` : text;\n",
       "\n",
       "    const originalStyle = element.style;\n",
       "    const computedStyle = window.getComputedStyle(element);\n",
       "    const originalWidth = computedStyle.width;\n",
       "    const originalHTML = element.innerHTML.replace('Copied!', '');\n",
       "\n",
       "    navigator.clipboard.writeText(fullParamName)\n",
       "        .then(() => {\n",
       "            element.style.width = originalWidth;\n",
       "            element.style.color = 'green';\n",
       "            element.innerHTML = \"Copied!\";\n",
       "\n",
       "            setTimeout(() => {\n",
       "                element.innerHTML = originalHTML;\n",
       "                element.style = originalStyle;\n",
       "            }, 2000);\n",
       "        })\n",
       "        .catch(err => {\n",
       "            console.error('Failed to copy:', err);\n",
       "            element.style.color = 'red';\n",
       "            element.innerHTML = \"Failed!\";\n",
       "            setTimeout(() => {\n",
       "                element.innerHTML = originalHTML;\n",
       "                element.style = originalStyle;\n",
       "            }, 2000);\n",
       "        });\n",
       "    return false;\n",
       "}\n",
       "\n",
       "document.querySelectorAll('.fa-regular.fa-copy').forEach(function(element) {\n",
       "    const toggleableContent = element.closest('.sk-toggleable__content');\n",
       "    const paramPrefix = toggleableContent ? toggleableContent.dataset.paramPrefix : '';\n",
       "    const paramName = element.parentElement.nextElementSibling.textContent.trim();\n",
       "    const fullParamName = paramPrefix ? `${paramPrefix}${paramName}` : paramName;\n",
       "\n",
       "    element.setAttribute('title', fullParamName);\n",
       "});\n",
       "</script></body>"
      ],
      "text/plain": [
       "Pipeline(steps=[('tf-idf', TfidfVectorizer()), ('clf', MultinomialNB())])"
      ]
     },
     "execution_count": 17,
     "metadata": {},
     "output_type": "execute_result"
    }
   ],
   "source": [
    "from sklearn.feature_extraction.text import TfidfVectorizer\n",
    "from sklearn.naive_bayes import MultinomialNB \n",
    "from sklearn.pipeline import Pipeline\n",
    "\n",
    "model_0= Pipeline([\n",
    "    (\"tf-idf\",TfidfVectorizer()),\n",
    "    (\"clf\",MultinomialNB())\n",
    "])\n",
    "\n",
    "model_0.fit(train_sentences,train_labels)"
   ]
  },
  {
   "cell_type": "code",
   "execution_count": 18,
   "id": "b3ba98a1",
   "metadata": {},
   "outputs": [
    {
     "name": "stdout",
     "output_type": "stream",
     "text": [
      "Our baseline model achieve 79.97% accuracy\n"
     ]
    }
   ],
   "source": [
    "model_0_eval= model_0.score(val_sentences,val_labels)\n",
    "\n",
    "print(f\"Our baseline model achieve {model_0_eval*100:.2f}% accuracy\")"
   ]
  },
  {
   "cell_type": "code",
   "execution_count": 19,
   "id": "0a6e42ba",
   "metadata": {},
   "outputs": [
    {
     "data": {
      "text/plain": [
       "array([0, 0, 0, ..., 1, 1, 0])"
      ]
     },
     "execution_count": 19,
     "metadata": {},
     "output_type": "execute_result"
    }
   ],
   "source": [
    "model_0_pred= model_0.predict(val_sentences)\n",
    "model_0_pred"
   ]
  },
  {
   "cell_type": "code",
   "execution_count": 20,
   "id": "3bc75232",
   "metadata": {},
   "outputs": [],
   "source": [
    "from sklearn.metrics import f1_score, recall_score, precision_score, accuracy_score"
   ]
  },
  {
   "cell_type": "code",
   "execution_count": 21,
   "id": "ca67bba2",
   "metadata": {},
   "outputs": [],
   "source": [
    "def evaluation(y_true,y_pred):\n",
    "    model_results={\n",
    "        'accuracy': accuracy_score(y_true,y_pred)*100,\n",
    "        'Recall': recall_score(y_true,y_pred)*100,\n",
    "        'Precision': precision_score(y_true,y_pred)*100,\n",
    "        'f1_score': f1_score(y_true,y_pred)*100\n",
    "    }\n",
    "    return model_results"
   ]
  },
  {
   "cell_type": "code",
   "execution_count": 22,
   "id": "dab83e2e",
   "metadata": {},
   "outputs": [],
   "source": [
    "model_0_results= evaluation(val_labels,model_0_pred)"
   ]
  },
  {
   "cell_type": "code",
   "execution_count": 23,
   "id": "7a15e2a3",
   "metadata": {},
   "outputs": [
    {
     "data": {
      "text/plain": [
       "{'accuracy': 79.97373604727511,\n",
       " 'Recall': 63.02003081664098,\n",
       " 'Precision': 86.28691983122363,\n",
       " 'f1_score': 72.84060552092609}"
      ]
     },
     "execution_count": 23,
     "metadata": {},
     "output_type": "execute_result"
    }
   ],
   "source": [
    "model_0_results"
   ]
  },
  {
   "cell_type": "code",
   "execution_count": 24,
   "id": "8648d9f5",
   "metadata": {},
   "outputs": [
    {
     "data": {
      "text/html": [
       "<div>\n",
       "<style scoped>\n",
       "    .dataframe tbody tr th:only-of-type {\n",
       "        vertical-align: middle;\n",
       "    }\n",
       "\n",
       "    .dataframe tbody tr th {\n",
       "        vertical-align: top;\n",
       "    }\n",
       "\n",
       "    .dataframe thead th {\n",
       "        text-align: right;\n",
       "    }\n",
       "</style>\n",
       "<table border=\"1\" class=\"dataframe\">\n",
       "  <thead>\n",
       "    <tr style=\"text-align: right;\">\n",
       "      <th></th>\n",
       "      <th>accuracy</th>\n",
       "      <th>Recall</th>\n",
       "      <th>Precision</th>\n",
       "      <th>f1_score</th>\n",
       "    </tr>\n",
       "  </thead>\n",
       "  <tbody>\n",
       "    <tr>\n",
       "      <th>Score</th>\n",
       "      <td>79.973736</td>\n",
       "      <td>63.020031</td>\n",
       "      <td>86.28692</td>\n",
       "      <td>72.840606</td>\n",
       "    </tr>\n",
       "  </tbody>\n",
       "</table>\n",
       "</div>"
      ],
      "text/plain": [
       "        accuracy     Recall  Precision   f1_score\n",
       "Score  79.973736  63.020031   86.28692  72.840606"
      ]
     },
     "execution_count": 24,
     "metadata": {},
     "output_type": "execute_result"
    }
   ],
   "source": [
    "model_0_results_df= pd.DataFrame(model_0_results,index=[\"Score\"])\n",
    "model_0_results_df"
   ]
  },
  {
   "cell_type": "markdown",
   "id": "b0f4dfb6",
   "metadata": {},
   "source": [
    "## 8.Model_1"
   ]
  },
  {
   "cell_type": "code",
   "execution_count": 25,
   "id": "5fae4207",
   "metadata": {},
   "outputs": [],
   "source": [
    "inputs= tf.keras.layers.Input(shape=(1,),dtype=\"string\")\n",
    "x= text_vector(inputs)\n",
    "x= embedding(x)\n",
    "x= tf.keras.layers.GlobalAveragePooling1D()(x)\n",
    "outputs= tf.keras.layers.Dense(1,activation=\"sigmoid\")(x)\n",
    "\n",
    "model_1= tf.keras.Model(inputs,outputs)"
   ]
  },
  {
   "cell_type": "code",
   "execution_count": 26,
   "id": "05338751",
   "metadata": {},
   "outputs": [
    {
     "name": "stdout",
     "output_type": "stream",
     "text": [
      "Model: \"model\"\n",
      "_________________________________________________________________\n",
      " Layer (type)                Output Shape              Param #   \n",
      "=================================================================\n",
      " input_1 (InputLayer)        [(None, 1)]               0         \n",
      "                                                                 \n",
      " text_vectorization_1 (Text  (None, 15)                0         \n",
      " Vectorization)                                                  \n",
      "                                                                 \n",
      " embedding (Embedding)       (None, 15, 128)           1280000   \n",
      "                                                                 \n",
      " global_average_pooling1d (  (None, 128)               0         \n",
      " GlobalAveragePooling1D)                                         \n",
      "                                                                 \n",
      " dense (Dense)               (None, 1)                 129       \n",
      "                                                                 \n",
      "=================================================================\n",
      "Total params: 1280129 (4.88 MB)\n",
      "Trainable params: 1280129 (4.88 MB)\n",
      "Non-trainable params: 0 (0.00 Byte)\n",
      "_________________________________________________________________\n"
     ]
    }
   ],
   "source": [
    "model_1.summary()"
   ]
  },
  {
   "cell_type": "code",
   "execution_count": 27,
   "id": "5d7c42de",
   "metadata": {},
   "outputs": [],
   "source": [
    "model_1.compile(loss=tf.keras.losses.BinaryCrossentropy(),\n",
    "                optimizer=tf.keras.optimizers.Adam(),\n",
    "                metrics=[\"accuracy\"])"
   ]
  },
  {
   "cell_type": "code",
   "execution_count": 28,
   "id": "31118dbb",
   "metadata": {},
   "outputs": [
    {
     "name": "stdout",
     "output_type": "stream",
     "text": [
      "Epoch 1/10\n"
     ]
    },
    {
     "name": "stderr",
     "output_type": "stream",
     "text": [
      "2025-10-16 14:02:25.406879: I external/local_xla/xla/service/service.cc:168] XLA service 0x73d8d44a38a0 initialized for platform CUDA (this does not guarantee that XLA will be used). Devices:\n",
      "2025-10-16 14:02:25.406933: I external/local_xla/xla/service/service.cc:176]   StreamExecutor device (0): NVIDIA GeForce RTX 4050 Laptop GPU, Compute Capability 8.9\n",
      "2025-10-16 14:02:25.507096: I tensorflow/compiler/mlir/tensorflow/utils/dump_mlir_util.cc:269] disabling MLIR crash reproducer, set env var `MLIR_CRASH_REPRODUCER_DIRECTORY` to enable.\n",
      "2025-10-16 14:02:25.590176: I external/local_xla/xla/stream_executor/cuda/cuda_dnn.cc:454] Loaded cuDNN version 8907\n",
      "WARNING: All log messages before absl::InitializeLog() is called are written to STDERR\n",
      "I0000 00:00:1760616145.677242    1148 device_compiler.h:186] Compiled cluster using XLA!  This line is logged at most once for the lifetime of the process.\n"
     ]
    },
    {
     "name": "stdout",
     "output_type": "stream",
     "text": [
      "191/191 [==============================] - 7s 28ms/step - loss: 0.6229 - accuracy: 0.6844 - val_loss: 0.5445 - val_accuracy: 0.7754\n",
      "Epoch 2/10\n",
      "191/191 [==============================] - 3s 13ms/step - loss: 0.4563 - accuracy: 0.8103 - val_loss: 0.4648 - val_accuracy: 0.8024\n",
      "Epoch 3/10\n",
      "191/191 [==============================] - 2s 11ms/step - loss: 0.3556 - accuracy: 0.8611 - val_loss: 0.4457 - val_accuracy: 0.8116\n",
      "Epoch 4/10\n",
      "191/191 [==============================] - 2s 9ms/step - loss: 0.2897 - accuracy: 0.8893 - val_loss: 0.4467 - val_accuracy: 0.8030\n",
      "Epoch 5/10\n",
      "191/191 [==============================] - 2s 10ms/step - loss: 0.2407 - accuracy: 0.9118 - val_loss: 0.4578 - val_accuracy: 0.7965\n",
      "Epoch 6/10\n",
      "191/191 [==============================] - 2s 9ms/step - loss: 0.2022 - accuracy: 0.9273 - val_loss: 0.4721 - val_accuracy: 0.7984\n",
      "Epoch 7/10\n",
      "191/191 [==============================] - 2s 8ms/step - loss: 0.1710 - accuracy: 0.9420 - val_loss: 0.4933 - val_accuracy: 0.7945\n",
      "Epoch 8/10\n",
      "191/191 [==============================] - 2s 8ms/step - loss: 0.1467 - accuracy: 0.9512 - val_loss: 0.5185 - val_accuracy: 0.7833\n",
      "Epoch 9/10\n",
      "191/191 [==============================] - 2s 9ms/step - loss: 0.1267 - accuracy: 0.9567 - val_loss: 0.5418 - val_accuracy: 0.7820\n",
      "Epoch 10/10\n",
      "191/191 [==============================] - 2s 9ms/step - loss: 0.1111 - accuracy: 0.9626 - val_loss: 0.5678 - val_accuracy: 0.7794\n"
     ]
    }
   ],
   "source": [
    "model_1_history= model_1.fit(train_sentences,\n",
    "                             train_labels,\n",
    "                             epochs=10,\n",
    "                             validation_data=(val_sentences,val_labels)\n",
    "                             )"
   ]
  },
  {
   "cell_type": "code",
   "execution_count": 29,
   "id": "d4b08eee",
   "metadata": {},
   "outputs": [
    {
     "name": "stdout",
     "output_type": "stream",
     "text": [
      "48/48 [==============================] - 0s 4ms/step - loss: 0.5678 - accuracy: 0.7794\n"
     ]
    },
    {
     "data": {
      "text/plain": [
       "[0.5677655935287476, 0.7793828248977661]"
      ]
     },
     "execution_count": 29,
     "metadata": {},
     "output_type": "execute_result"
    }
   ],
   "source": [
    "model_1.evaluate(val_sentences,val_labels)"
   ]
  },
  {
   "cell_type": "code",
   "execution_count": 30,
   "id": "699723a6",
   "metadata": {},
   "outputs": [
    {
     "name": "stdout",
     "output_type": "stream",
     "text": [
      "48/48 [==============================] - 0s 3ms/step\n"
     ]
    },
    {
     "data": {
      "text/plain": [
       "(1523, 1)"
      ]
     },
     "execution_count": 30,
     "metadata": {},
     "output_type": "execute_result"
    }
   ],
   "source": [
    "model_1_pred_prob= model_1.predict(val_sentences)\n",
    "model_1_pred_prob.shape"
   ]
  },
  {
   "cell_type": "code",
   "execution_count": 31,
   "id": "d91a0620",
   "metadata": {},
   "outputs": [
    {
     "data": {
      "text/plain": [
       "array([0.0106005], dtype=float32)"
      ]
     },
     "execution_count": 31,
     "metadata": {},
     "output_type": "execute_result"
    }
   ],
   "source": [
    "model_1_pred_prob[0]"
   ]
  },
  {
   "cell_type": "code",
   "execution_count": 32,
   "id": "acde9d20",
   "metadata": {},
   "outputs": [],
   "source": [
    "model_1_pred= tf.squeeze(tf.round(model_1_pred_prob))"
   ]
  },
  {
   "cell_type": "code",
   "execution_count": 33,
   "id": "6b087cb0",
   "metadata": {},
   "outputs": [
    {
     "data": {
      "text/plain": [
       "<tf.Tensor: shape=(1523,), dtype=float32, numpy=array([0., 0., 0., ..., 1., 1., 1.], dtype=float32)>"
      ]
     },
     "execution_count": 33,
     "metadata": {},
     "output_type": "execute_result"
    }
   ],
   "source": [
    "model_1_pred"
   ]
  },
  {
   "cell_type": "code",
   "execution_count": 34,
   "id": "6fe3512c",
   "metadata": {},
   "outputs": [],
   "source": [
    "model_1_results= evaluation(y_true=val_labels,y_pred=model_1_pred)"
   ]
  },
  {
   "cell_type": "code",
   "execution_count": 35,
   "id": "5954db4d",
   "metadata": {},
   "outputs": [
    {
     "data": {
      "text/plain": [
       "({'accuracy': 77.93827971109653,\n",
       "  'Recall': 71.9568567026194,\n",
       "  'Precision': 75.2012882447665,\n",
       "  'f1_score': 73.54330708661418},\n",
       " {'accuracy': 79.97373604727511,\n",
       "  'Recall': 63.02003081664098,\n",
       "  'Precision': 86.28691983122363,\n",
       "  'f1_score': 72.84060552092609})"
      ]
     },
     "execution_count": 35,
     "metadata": {},
     "output_type": "execute_result"
    }
   ],
   "source": [
    "model_1_results, model_0_results"
   ]
  },
  {
   "cell_type": "markdown",
   "id": "a7405e31",
   "metadata": {},
   "source": [
    "### 8.1 Visualizing Embedding"
   ]
  },
  {
   "cell_type": "code",
   "execution_count": 36,
   "id": "0bf931db",
   "metadata": {},
   "outputs": [
    {
     "data": {
      "text/plain": [
       "10000"
      ]
     },
     "execution_count": 36,
     "metadata": {},
     "output_type": "execute_result"
    }
   ],
   "source": [
    "words_in_vocab= text_vector.get_vocabulary()\n",
    "\n",
    "len(words_in_vocab)"
   ]
  },
  {
   "cell_type": "code",
   "execution_count": 37,
   "id": "6f71d144",
   "metadata": {},
   "outputs": [
    {
     "name": "stdout",
     "output_type": "stream",
     "text": [
      "['', '[UNK]', 'the', 'a', 'in', 'to', 'of', 'i', 'and', 'is', 'for', 'on', 'you', 'my', 'with', 'that', 'it', 'at', 'by', 'this', 'from', 'be', 'are', 'have', 'was', 'like', 'but', 'as', 'up', 'so', 'me', 'just', 'im', 'amp', 'not', 'your', 'out', 'no', 'after', 'its', 'has', 'all', 'will', 'when', 'an', 'fire', 'if', 'we', 'get', 'more', 'now', 'via', 'new', 'about', 'people', 'what', 'news', 'or', 'been', 'over', 'he', 'dont', 'how', 'they', 'one', 'who', 'were', 'video', 'into', 'us', 'can', '2', 'do', 'emergency', 'disaster', 'there', 'her', 'than', 'would', 'some', 'still', 'his', 'body', 'police', 'california', 'time', 'suicide', 'burning', 'back', 'had', 'buildings', 'off', 'got', 'crash', 'day', 'why', 'man', 'them', 'see', 'know', 'first', 'cant', 'storm', 'world', 'two', 'youtube', 'nuclear', 'attack', 'their', 'going', 'fires', '3', 'train', 'rt', 'killed', 'go', 'life', 'car', 'bomb', 'our', 'may', 'love', 'full', 'watch', 'war', 'hiroshima', 'today', 'only', 'good', 'dead', 'families', 'think', 'say', 'many', 'here', 'u', 'last', 'down', 'being', 'could', 'accident', 'way', 'too', 'then', 'years', 'want', 'home', 'look', 'make', 'best', 'wildfire', 'him', 'did', 'am', 'those', 'should', 'need', 'mh370', 'mass', 'help', 'even', 'bombing', 'work', 'pm', 'lol', 'forest', 'water', 'school', 'because', 'another', 'year', 'live', 'death', 'collapse', 'black', 'really', 'please', 'much', 'take', 'hot', 'fatal', '5', 'northern', 'flames', 'city', 'army', 'wreck', 'great', 'fear', '2015', 'youre', 'where', 'she', 'right', 'let', 'legionnaires', 'flood', 'every', 'come', '4', '1', 'old', 'bomber', 'which', 'said', 'obama', 'never', 'latest', 'homes', 'getting', 'during', 'damage', '\\x89Û', 'under', 'japan', 'god', 'atomic', 'hope', 'floods', 'feel', 'ever', 'well', 'since', 'shit', 'night', 'next', 'any', 'state', 'hit', 'everyone', 'coming', 'while', 'these', 'thats', 'most', 'earthquake', 'debris', 'confirmed', 'ass', 'refugees', 'military', 'malaysia', 'little', 'injured', 'found', 'flooding', 'before', 'always', 'without', 'top', 'stop', 'says', 'plan', 'oil', 'near', 'movie', 'made', 'fucking', 'evacuation', 'weather', 'weapon', 'read', 'heat', 'content', 'cause', 'bloody', 'wreckage', 'until', 'truck', 'set', 'service', 'saudi', 'natural', 'looks', 'liked', 'ive', 'head', 'family', 'face', 'cross', 'change', 'wild', 'warning', 'thunderstorm', 'thunder', 'theres', 'terrorist', 'smoke', 'report', 'loud', 'injuries', 'bad', 'air', 'trapped', 'through', 'screaming', 'panic', 'house', 'hes', 'gonna', 'evacuate', 'deaths', 'times', 'terrorism', 'survive', 'severe', 'services', 'rescue', 'murder', 'ill', 'explode', 'destroyed', 'danger', 'check', 'boy', 'blood', 'big', '70', 'wrecked', 'wind', 'trauma', 'spill', 'sinking', 'show', 'save', 'rescuers', 'photo', 'outbreak', 'missing', 'least', 'girl', 'fatalities', 'failure', 'burned', 'bag', 'also', 'whirlwind', 'wave', 'twister', 'tonight', 'things', 's', 'run', 'ruin', 'rioting', 'real', 'phone', 'mosque', 'migrants', 'investigators', 'high', 'harm', 'hail', 'fuck', 'free', 'food', 'fall', 'devastation', 'derailment', 'bus', 'apocalypse', 'again', 'whole', 'w', 'sinkhole', 'saw', 'road', 'reddit', 'rain', 'lightning', 'island', 'hurricane', 'hazard', 'engulfed', 'end', 'destroy', 'deluge', 'catastrophe', 'call', 'breaking', 'area', '6', 'wounds', 'week', 'weapons', 'someone', 'sandstorm', 'mudslide', 'massacre', 'kills', 'keep', 'inundated', 'hundreds', 'horrible', 'explosion', 'does', 'displaced', 'derail', 'crashed', 'collided', 'charged', 'bombed', 'better', 'bang', 'ambulance', '40', 'wounded', 'white', 'update', 'tsunami', 'trouble', 'traumatised', 'survived', 'soon', 'released', 'quarantined', 'put', 'post', 'ok', 'lives', 'injury', 'id', 'hostages', 'group', 'drought', 'destruction', 'curfew', 'county', 'collapsed', 'bridge', 'boat', 'blown', 'bags', 'away', 'anniversary', '\\x89ÛÒ', 'windstorm', 'violent', 'use', 'typhoon', 'tragedy', 'structural', 'story', 'send', 'screams', 'rescued', 'possible', 'oh', 'landslide', 'isis', 'iran', 'heard', 'game', 'flattened', 'fedex', 'exploded', 'caused', 'came', 'bleeding', 'battle', 'attacked', 'around', 'armageddon', '15', 'zone', 'woman', 'whats', 'went', 'wanna', 'used', 'twitter', 'thing', 'sure', 'summer', 'something', 'security', 'screamed', 'riot', 'reunion', 'red', 'past', 'part', 'national', 'meltdown', 'lava', 'hijacking', 'government', 'goes', 'fatality', 'drown', 'detonate', 'august', 'airplane', 'yet', 'volcano', 'thought', 'survivors', 'sunk', 'such', 'stock', 'shooting', 'seismic', 'same', 'razed', 'prebreak', 'other', 'must', 'minute', 'media', 'lot', 'left', 'land', 'kids', 'hostage', 'heart', 'ebay', 'dust', 'detonation', 'demolish', 'collision', 'collide', 'calgary', 'bioterror', 'beautiful', 'arson', 'affected', '9', 'ur', 'tomorrow', 'thanks', 'thank', 'site', 'shoulder', 'river', 'quarantine', 'power', 'plane', 'panicking', 'pandemonium', 'obliteration', 'obliterate', 'murderer', 'longer', 'long', 'lets', 'horror', 'hijacker', 'hazardous', 'famine', 'eyewitness', 'electrocuted', 'drowning', 'doing', 'crush', 'blast', 'baby', 'airport', 'against', '8', 'yes', 'words', 'women', 'three', 'st', 'sound', 'sirens', 'responders', 'rainstorm', 'pkk', 'officials', 'nothing', 'music', 'market', 'line', 'gets', 'electrocute', 'due', 'drowned', 'desolation', 'derailed', 'demolition', 'catastrophic', 'care', 'brown', 'blew', 'bc', 'bagging', 'very', 'upheaval', 'tell', 'stretcher', 'south', 'shot', 'remember', 'reactor', 'policy', 'obliterated', 'making', 'india', 'few', 'far', 'evacuated', 'doesnt', 'didnt', 'demolished', 'cyclone', 'crushed', 'cool', 'cliff', 'business', 'building', 'bodies', 'blazing', 'believe', 'wake', 'tornado', 'suspect', 'sue', 'start', 'second', 'searching', 're\\x89Û', 'play', 'north', 'nearby', 'maybe', 'light', 'leave', 'issues', 'islam', 'hijack', 'hell', 'hear', 'health', 'half', 'find', 'detonated', 'declares', 'data', 'chemical', 'casualty', 'both', 'blaze', 'anything', 'annihilated', 'abc', '7', '50', 'yeah', 'west', 'waves', 'wait', 'turkey', 'trying', 'swallowed', 'stay', 'song', 'snowstorm', 'siren', 'rubble', 'pic', 'peace', 'nowplaying', 'mp', 'money', 'men', 'low', 'literally', 'inside', 'history', 'helicopter', 'happy', 'fun', 'fight', 'fan', 'eyes', 'done', 'died', 'crews', 'conclusively', 'casualties', 'blight', 'bar', 'already', 'almost', 'aircraft', '16yr', '\\x89ÛÓ', 'typhoondevastated', 'theyre', 'space', 'soudelor', 'saipan', 'place', 'own', 'lost', 'lab', 'la', 'jobs', 'hours', 'hat', 'die', 'days', 'daily', 'd', 'children', 'chance', 'bestnaijamade', 'avalanche', 'ago', 'actually', 'ablaze', '30', '20', '12', '10', 'wont', 'tv', 'trains', 'traffic', 'street', 'seen', 'saved', 'reuters', 'projected', 'probably', 'plans', 'picking', 'photos', 'person', 'online', 'n', 'myself', 'major', 'leather', 'kill', 'job', 'israeli', 'having', 'guys', 'effect', 'east', 'deluged', 'center', 'called', 'bioterrorism', 'bigger', 'ball', 'alone', 'yourself', 'win', 'watching', 'truth', 'town', 'texas', 'sorry', 'side', 'ship', 'poor', 'official', 'name', 'houses', 'hollywood', 'hey', 'hellfire', 'hailstorm', 'flash', 'finally', 'desolate', 'child', 'centre', 'case', 'bush', 'bbc', 'banned', 'anyone', 'amid', 'american', 'youth', 'wrong', 'trench', 'transport', 'thousands', 'taken', 'spot', 'signs', 'self', 'refugio', 'pretty', 'pick', 'outside', 'others', 'order', 'once', 'move', 'mom', 'miners', 'manslaughter', 'makes', 'ladies', 'knock', 'ignition', 'hard', 'guy', 'gun', 'gbbo', 'feared', 'eye', 'experts', 'downtown', 'devastated', 'crisis', 'crazy', 'course', 'couple', 'costlier', 'computers', 'coaches', 'cnn', 'caught', 'cake', 'book', 'blizzard', 'beach', 'b', '60', '11', 'yours', 'wow', 'working', 'womens', 'vs', 'vehicle', 'try', 'totally', 'talk', 't', 'support', 'sounds', 'shes', 'rise', 'reason', 'rd', 'pakistan', 'pain', 'myanmar', 'mop', 'memories', 'meek', 'marks', 'mad', 'level', 'isnt', 'huge', 'front', 'friends', 'follow', 'film', 'feeling', 'escape', 'else', 'drive', 'download', 'damn', 'country', 'control', 'closed', 'climate', 'class', 'become', 'annihilation', 'angry', 'across', '25', '13', '11yearold', '100', 'worst', 'wanted', 'village', 'united', 'tree', 'toddler', 'till', 'though', 'team', 'takes', 'stand', 'shows', 'safety', 'russian', 'rules', 'reddits', 'r', 'quiz', 'parole', 'park', 'okay', 'officer', 'niggas', 'miss', 'm', 'lord', 'listen', 'link', 'libya', 'led', 'learn', 'landing', 'issued', 'insurance', 'instead', 'hate', 'happened', 'handbag', 'haha', 'gt', 'global', 'gave', 'funtenna', 'flag', 'fast', 'everything', 'ebola', 'driving', 'disea', 'declaration', 'deal', 'date', 'colorado', 'claims', 'cars', 'behind', 'aug', 'appears', 'aftershock', 'added', 'young', 'wonder', 'wants', 'view', 'victims', 'unconfirmed', 'uk', 'tweet', 'travel', 'temple', 'subreddits', 'started', 'star', 'scared', 'running', 'rly', 'reports', 'reported', 'ready', 'pray', 'pradesh', 'ppl', 'point', 'playing', 'pay', 'omg', 'occurred', 'nigerian', 'neighbours', 'needs', 'nearly', 'nagasaki', 'might', 'middle', 'mayhem', 'madhya', 'looking', 'lmao', 'large', 'israel', 'information', 'heavy', 'guess', 'giant', 'fukushima', 'four', 'flight', 'favorite', 'driver', 'drake', 'department', 'camp', 'bombs', 'blue', 'america', 'action', '70th', 'wedding', 'wasnt', 'virgin', 'using', 'usa', 'turned', 'turn', 'tote', 'thinking', 'theater', 'terror', 'taking', 'recount', 'radio', 'potus', 'playlist', 'pakistani', 'outrage', 'offensive', 'nws', 'number', 'morning', 'moment', 'lamp', 'investigating', 'idea', 'holding', 'hiring', 'governor', 'germs', 'general', 'france', 'following', 'fans', 'falling', 'entire', 'emmerdale', 'earth', 'dog', 'dance', 'coast', 'christian', 'china', 'cdt', 'british', 'bring', 'break', 'biggest', 'bed', 'australia', 'arrested', 'arent', 'apollo', 'anthrax', 'alarm', 'alabama', 'ahead', '12000', '05', 'york', 'wrought', 'weekend', 'wednesday', 'turkish', 'true', 'tried', 'told', 'taiwan', 'sometimes', 'sky', 'sign', 'sick', 'series', 'sense', 'seeing', 'sea', 'saying', 'sad', 'russia', 'rock', 'risk', 'purse', 'property', 'played', 'patience', 'offroad', 'mph', 'mount', 'mod', 'mishaps', 'members', 'mean', 'involving', 'international', 'hand', 'hair', 'ground', 'green', 'govt', 'gop', 'gone', 'glad', 'give', 'girls', 'gems', 'galactic', 'funny', 'friend', 'former', 'firefighters', 'faux', 'fashion', 'etc', 'enough', 'double', 'disease', 'deep', 'dad', 'cut', 'cree', 'chile', 'central', 'causes', 'career', 'begin', 'art', 'arsonist', 'anymore', 'ancient', 'allows', 'aint', 'absolutely', '17', '16', '\\x89ÛÏwhen', 'x', 'worry', 'western', 'washington', 'wall', 'vote', 'v', 'upon', 'udhampur', 'twelve', 'trust', 'thursday', 'super', 'students', 'stories', 'soul', 'ships', 'sex', 'serious', 'secret', 'season', 'research', 'public', 'problem', 'plunging', 'piece', 'philippines', 'party', 'parents', 'pamela', 'open', 'nigga', 'nice', 'muslims', 'months', 'mix', 'militants', 'med', 'match', 'marians', 'lucky', 'louis', 'london', 'linked', 'lies', 'lady', 'king', 'join', 'japanese', 'islamic', 'internet', 'internally', 'indian', 'human', 'helping', 'havent', 'guide', 'gtgt', 'gas', 'games', 'five', 'financial', 'felt', 'expected', 'event', 'enugu', 'dude', 'drunk', 'dogs', 'direction', 'denver', 'court', 'complete', 'comment', 'comes', 'chinas', 'chicago', 'changes', 'causing', 'canada', 'cameroon', 'businesses', 'board', 'birthday', 'bay', 'awesome', 'ashes', 'aba', '19', 'worse', 'wildfires', 'wife', 'waving', 'walking', 'victim', 'version', 'usually', 'updates', 'tracks', 'todays', 'text', 'teen', 'tablet', 'syrian', 'sun', 'struggles', 'strong', 'strike', 'standard', 'spaceship', 'sit', 'single', 'shift', 'share', 'sensorsenso', 'seeks', 'salt', 'room', 'response', 'repatriated', 'release', 'record', 'reading', 'quite', 'provoke', 'population', 'planned', 'perfect', 'passengers', 'pass', 'p', 'navy', 'mine', 'million', 'michael', 'metal', 'means', 'map', 'lots', 'living', 'likely', 'less', 'lake', 'kinda', 'interesting', 'hour', 'horse', 'hasnt', 'gotta', 'glass', 'geller', 'future', 'friday', 'french', 'forever', 'fighting', 'feels', 'f', 'expect', 'examining', 'evening', 'episode', 'effects', 'edm', 'each', 'different', 'dies', 'destroys', 'delivers', 'dc', 'dan', 'crime', 'crematoria', 'cover', 'common', 'cold', 'captures', 'cannot', 'cable', 'buy', 'brooklyn', 'bitch', 'bin', 'beyond', 'bayelsa', 'amazon', 'along', 'album', 'airlines', 'agree', 'africa', 'act', 'account', '600', '24', '2014', 'yyc', 'yall', 'wtf', 'word', 'winds', 'walk', 'waiting', 'utc20150805', 'usgs', 'usatoday', 'trump', 'trent', 'trees', 'training', 'totaling', 'total', 'tired', 'threat', 'test', 'tears', 'sunday', 'starts', 'stadium', 'spring', 'specially', 'soldiers', 'social', 'snow', 'silver', 'shouldnt', 'short', 'shall', 'sent', 'selfimage', 'search', 'science', 'san', 'runs', 'round', 'rocky', 'rip', 'related', 'rather', 'rate', 'radiation', 'program', 'prevent', 'press', 'prepare', 'potential', 'phoenix', 'percent', 'pathogens', 'owner', 'orders', 'o', 'mountain', 'motorcyclist', 'month', 'mode', 'minutes', 'millions', 'message', 'mediterranean', 'main', 'lie', 'leaving', 'late', 'laden', 'killer', 'jonathan', 'iraq', 'insurer', 'info', 'image', 'ice', 'hospital', 'hold', 'hi', 'hawaii', 'happens', 'happening', 'happen', 'gunman', 'gold', 'giving', 'genocide', 'gay', 'fully', 'freak', 'force', 'football', 'fleets', 'fine', 'feat', 'fat', 'false', 'fact', 'express', 'everywhere', 'em', 'dr', 'door', 'de', 'damaged', 'currently', 'cranes', 'company', 'coffee', 'canyon', 'cancer', 'ca', 'buses', 'build', 'brought', 'broke', 'boys', 'box', 'block', 'began', 'ave', 'attacks', 'ask', 'arianagrande', 'apply', 'animal', 'among', 'according', '4000', '18', '0', 'youll', 'yo', 'worth', 'worlds', 'worldnews', 'wish', 'weird', 'watched', 'voice', 'upset', 'understand', 'un', 'twice', 'trip', 'tho', 'target', 'suspected', 'supposed', 'stuff', 'streets', 'straight', 'stopped', 'squad', 'somebody', 'smaug', 'small', 'sleeping', 'sitting', 'sismo', 'sir', 'shots', 'shape', 'shame', 'sh', 'setting', 'sensor', 'seems', 'seconds', 'scene', 'saving', 'satellite', 'sadly', 'rule', 'rubber', 'ross', 'roosevelt', 'roads', 'rn', 'ridge', 'relief', 'region', 'rea\\x89Û', 'reasons', 're', 'question', 'queen', 'pressure', 'president', 'pool', 'paul', 'palestinian', 'original', 'oklahoma', 'officers', 'office', 'o784', 'nyc', 'ny', 'municipal', 'moving', 'mortal', 'modified', 'mets', 'metro', 'mediterran', 'loved', 'local', 'lead', 'later', 'kombat', 'kit', 'kindle', 'joe', 'issue', 'hunt', 'humanity', 'httptcoqew4c5m1xd', 'hobo', 'grows', 'gov', 'gm', 'foxnews', 'forget', 'forced', 'followers', 'final', 'feet', 'feed', 'fears', 'fantasy', 'extreme', 'equipment', 'epicentre', 'economic', 'early', 'e', 'drink', 'dream', 'crying', 'cruz', 'cook', 'conference', 'concerned', 'completely', 'community', 'combo', 'close', 'cases', 'carrying', 'c130', 'burn', 'budget', 'brother', 'broken', 'brain', 'beat', 'based', 'ban', 'avoiding', 'asked', 'ar', 'apparently', 'ap', 'alive', 'afternoon', 'actions', 'abstorm', '911', '5km', '500', '2nd', '2013', '2011', '1st', '1980', '1000', 'ya', 'writing', 'wouldnt', 'won', 'woke', 'weve', 'welcome', 'wed', 'visit', 'videos', 'veterans', 'utc', 'units', 'tweets', 'troops', 'tribal', 'took', 'tonto', 'toilet', 'together', 'time20150806', 'thunderstorms', 'terrorists', 'tent', 'tension', 'talking', 'syria', 'stream', 'strategy', 'steve', 'states', 'stars', 'stage', 'spos', 'special', 'soundcloud', 'somalia', 'smh', 'sister', 'simple', 'signed', 'sidelines', 'shut', 'seven', 'seriously', 'seek', 'secrets', 'seattle', 'screen', 'rÌ©union', 'runway', 'root', 'review', 'return', 'results', 'repair', 'rains', 'quran', 'prime', 'powerful', 'posts', 'player', 'pile', 'pdp', 'parleys', 'opens', 'ocean', 'mini', 'mile', 'microlight', 'mhtw4fnet', 'matter', 'massive', 'manchester', 'lt3', 'lt', 'loss', 'lose', 'list', 'limited', 'lil', 'lights', 'knew', 'killing', 'keeps', 'inundation', 'industry', 'indeed', 'including', 'imagine', 'illegal', 'ii', 'hwy', 'honestly', 'hits', 'hill', 'hilarious', 'hero', 'hello', 'held', 'hands', 'handbags', 'guns', 'grow', 'fort', 'forces', 'facebook', 'faan', 'exploration', 'enjoy', 'england', 'ended', 'emotional', 'either', 'economy', 'easy', 'earlier', 'dubstep', 'dropped', 'don\\x89Ûªt', 'disney', 'disco', 'di', 'debate', 'dark', 'dangerous', 'da', 'created', 'create', 'cramer', 'cost', 'cops', 'computer', 'co', 'civilian', 'choice', 'character', 'ceo', 'cat', 'capsizes', 'burst', 'burns', 'broadway', 'bought', 'blocked', 'blk', 'bit', 'bicyclist', 'between', 'ben', 'battlefield', 'bank', 'babies', 'automatic', 'attention', 'articles', 'arrived', 'arabia', 'app', 'apc', 'antioch', 'afghanistan', 'af', 'accidents', 'able', 'abandoned', '90', '14', '06', 'zombie', 'yrs', 'youve', 'youd', 'yesterday', 'wx', 'wwii', 'within', 'wings', 'window', 'whos', 'ways', 'wars', 'vuitton', 'vietnam', 'van', 'valley', 'uses', 'users', 'tryna', 'tropical', 'trapmusic', 'tram', 'township', 'towel', 'touch', 'tom', 'threatens', 'terrible', 'ten', 'technology', 'tech', 'swim', 'swallows', 'subject', 'stupid', 'structures', 'store', 'stops', 'stone', 'starting', 'sports', 'sport', 'son', 'somehow', 'slightly', 'sleep', 'situation', 'shower', 'shoes', 'shipping', 'shares', 'several', 'september', 'senior', 'senator', 'sees', 'seat', 'scheme', 'saturday', 'salem', 'rising', 'riots', 'result', 'respond', 'respect', 'residents', 'residential', 'replace', 'remove', 'reminds', 'remains', 'releases', 'relatives', 'recovery', 'ray', 'rare', 'rail', 'quick', 'putin', 'pussy', 'prophetmuhammad', 'price', 'preparedness', 'practice', 'pop', 'political', 'plug', 'plague', 'pipe', 'pilot', 'picture', 'petition', 'patient', 'parker', 'page', 'operation', 'opening', 'onto', 'ones', 'nursing', 'notices', 'none', 'newest', 'nc', 'nah', 'mr', 'moved', 'moon', 'mining', 'minecraft', 'mind', 'miles', 'migrant', 'mentions', 'mention', 'meeting', 'meet', 'md', 'mayan', 'maximum', 'mary', 'madinah', 'mac', 'loving', 'looked', 'lifted', 'levels', 'legacy', 'leader', 'laws', 'knows', 'knee', 'kisii', 'kidnapped', 'kid', 'kick', 'justinbieber', 'jackson', 'it\\x89Ûªs', 'itunes', 'itself', 'irandeal', 'ir', 'iphone', 'intensity', 'insane', 'incredible', 'impact', 'ie', 'ices\\x89Û', 'icemoon', 'hurts', 'hobbit', 'himself', 'highway', 'heres', 'heads', 'h', 'guillermo', 'guardian', 'gta', 'grill', 'greatest', 'gods', 'given', 'german', 'g', 'fuel', 'ft', 'fruit', 'freakiest', 'fox', 'forecast', 'fog', 'florida', 'floor', 'flat', 'firefighter', 'fell', 'falls', 'failed', 'experience', 'except', 'everyday', 'estimate', 'ep', 'energy', 'ends', 'ems', 'el', 'edt', 'eat', 'dying', 'drop', 'drone', 'drinking', 'drill', 'dnb', 'djicemoon', 'disrupts', 'directioners', 'details', 'deadly', 'costs', 'copilot', 'cop', 'congress', 'confirms', 'confirm', 'conditions', 'concert', 'companies', 'colour', 'civilians', 'christmas', 'chinese', 'chicagoarea', 'charity', 'careful', 'calls', 'calling', 'calif', 'butter', 'built', 'browser', 'books', 'bombings', 'bluejays', 'blog', 'blessed', 'begins', 'baseball', 'associated', 'arrive', 'arms', 'areas', 'apartment', 'answer', 'animalrescue', 'amsterdam', 'amazing', 'allow', 'alleged', 'allah', 'aka', 'aim', 'ah', 'advisory', 'admits', 'acres', 'access', '4wd', '33', '320', '31', '26', '22', '\\x89Û÷politics', 'zionist', 'you\\x89Ûªve', 'youngheroesid', 'yay', 'xd', 'written', 'worried', 'worked', 'wondering', 'wmata', 'winter', 'windows', 'wheavenly', 'weeks', 'wearing', 'wealth', 'waste', 'wash', 'warship', 'warnings', 'viralspell', 'violence', 'vehicles', 'va', 'usual', 'usagov', 'unveiled', 'unsafe', 'unlocked', 'unless', 'universe', 'type', 'twia', 'tube', 'truly', 'trolley', 'trial', 'trfc', 'trailer', 'tour', 'tongue', 'toll', 'tips', 'tickets', 'thx', 'thomas', 'theyll', 'themselves', 'theatre', 'tennessee', 'teams', 'tea', 'tcot', 'tax', 'tank', 'sw', 'surprise', 'subs', 'study', 'stuck', 'struck', 'strategicpatience', 'strange', 'stranded', 'stir', 'steps', 'steel', 'stealing', 'status', 'starring', 'staff', 'stabbing', 'spider', 'spent', 'solution', 'smoking', 'slow', 'size', 'singing', 'sicily', 'shop', 'shepherd', 'shelter', 'shadow', 'sexual', 'serial', 'sentinel', 'sean', 'scary', 'sarah', 'santa', 'sale', 'row', 'roof', 'rohingya', 'richmond', 'responsible', 'remembering', 'register', 'reduce', 'recommend', 'rear', 'realise', 'read\\x89Û', 'rapidly', 'ran', 'radar', 'quickly', 'quest', 'protect', 'profile', 'prison', 'prices', 'prepared', 'powerlines', 'pov', 'port', 'points', 'plus', 'plot', 'playoffs', 'places', 'pics', 'picked', 'persons', 'peanut', 'pc', 'path', 'parts', 'parenthood', 'paper', 'pantherattack', 'palestine', 'packs', 'owners', 'outlook', 'nose', 'nine', 'nd', 'nashville', 'nasahurricane', 'mystery', 'mumbai', 'multiple', 'mtvhottest', 'mt', 'ms', 'mourning', 'motorcycle', 'mood', 'monogram', 'moments', 'mo', 'mlb', 'mission', 'missed', 'mill', 'max', 'maryland', 'mansion', 'mansehra', 'manager', 'management', 'malaysian', 'machine', 'lunch', 'lowndes', 'lower', 'loves', 'lovely', 'losses', 'losing', 'lmfao', 'listening', 'lion', 'linkury', 'library', 'lgbt', 'lethal', 'learning', 'leads', 'leading', 'larger', 'lane', 'lack', 'known', 'kicked', 'kerricktrial', 'kept', 'kaduna', 'justice', 'joy', 'john', 'jeb', 'jack', 'i\\x89Ûªm', 'italian', 'investigation', 'invalid', 'interview', 'inner', 'increased', 'incident', 'images', 'igers', 'idp', 'ideas', 'hunters', 'humans', 'httptcoksawlyux02', 'httptcocybksxhf7d', 'housing', 'homeless', 'holiday', 'hole', 'heroes', 'gtgtgt', 'grief\\x89Ûª', 'grateful', 'grace', 'gotten', 'google', 'girlfriend', 'generation', 'gained', 'gabon', 'fresh', 'fix', 'fired', 'fill', 'fights', 'fighters', 'field', 'female', 'fav', 'father', 'falcon', 'fair', 'faced', 'extremely', 'exp', 'exchanging', 'exchange', 'especially', 'epic', 'entertainment', 'enemy', 'elephant', 'electronic', 'electrical', 'efforts', 'edition', 'dvd', 'dutch', 'dry', 'dk', 'diving', 'disneys', 'discovered', 'destiny', 'desires', 'desire', 'depth', 'demand', 'delays', 'degrees', 'degree', 'deals', 'david', 'dare', 'cuz', 'curved', 'cup', 'cry', 'cream', 'crap', 'crackdown', 'covered', 'countries', 'continues', 'continue', 'consider', 'collection', 'clutch', 'click', 'clean', 'classic', 'claim', 'cia', 'christians', 'chief', 'cheese', 'certain', 'carry', 'captain', 'can\\x89Ûªt', 'calm', 'by\\x89Û', 'button', 'brothers', 'broad', 'bro', 'brazil', 'bout', 'boston', 'boss', 'bob', 'blows', 'blind', 'blessings', 'bjp', 'be\\x89Û', 'beyhive', 'bet', 'below', 'bells', 'beginning', 'bear', 'battling', 'bathroom', 'awful', 'aware', 'avoid', 'av', 'auth', 'audio', 'asking', 'approaches', 'anti', 'angel', 'americas', 'americans', 'alert', 'aid', 'agreed', 'afghan', 'advance', 'adult', 'add', 'actual', 'accidentally', '53inch', '4x4', '3g', '300w', '300', '21', '1945', '101', 'åÊ', 'åÈ', 'z10', 'yr', 'yobe', 'yea', 'yazidis', 'ww1', 'write', 'wound', 'wouldve', 'wo', 'wither', 'wireless', 'wired', 'williams', 'wicked', 'wht', 'whether', 'whao', 'wet', 'werent', 'weed', 'warns', 'wanting', 'wa', 'votejkt48id', 'vinyl', 'villages', 'victory', 'vets', 'val', 'utterly', 'utter', 'updated', 'unit', 'union', 'ultimate', 'ugh', 'uganda', 'turns', 'triple', 'treatment', 'treat', 'transit', 'trafford', 'tracking', 'track', 'toward', 'tough', 'toronto', 'todd', 'title', 'thus', 'throw', 'thriller', 'threatening', 'thoughts', 'theyve', 'theory', 'th', 'tempered', 'tells', 'telling', 'ted', 'targeting', 'tampa', 'tag', 'table', 'system', 'swimming', 'sweet', 'swansea', 'survival', 'surprised', 'surface', 'supreme', 'supervisor', 'sunset', 'suffer', 'sucks', 'success', 'sub', 'style', 'student', 'stuart', 'structure', 'streak', 'storms', 'stereo', 'stephen', 'station', 'standuser', 'stab', 'sprinter', 'springs', 'spirit', 'spending', 'spend', 'speaker', 'spanish', 'spain', 'sp', 'southampton', 'sources', 'source', 'someones', 'solar', 'socialnews', 'smile', 'smash', 'slide', 'slanglucci', 'skin', 'sixth', 'sittwe', 'sisters', 'sinjar', 'simulate', 'silence', 'settlement', 'served', 'satchel', 'sandiego', 'sanctions', 'safe', 'route', 'rolling', 'rocks', 'rockin', 'ridiculous', 'ride', 'rexyy', 'reward', 'reviews', 'reveals', 'revealed', 'returned', 'resulted', 'restore', 'rest', 'responsibility', 'responds', 'republicans', 'republican', 'reporting', 'reportedly', 'remembered', 'remain', 'relax', 'regular', 'recover', 'recipes', 'recalls', 'realized', 'reality', 'reaching', 'raid', 'rage', 'race', 'questions', 'putting', 'purple', 'pump', 'pulls', 'ps', 'providence', 'protest', 'protector', 'prosecuted', 'prophet', 'prompts', 'promises', 'project', 'progress', 'problems', 'probe', 'private', 'primary', 'previous', 'present', 'pres', 'prefer', 'predicted', 'precipitation', 'positive', 'portland', 'politics', 'planet', 'plains', 'pitch', 'pilots', 'photography', 'phones', 'personal', 'perhaps', 'peaceful', 'palestinians', 'pacific', 'overnight', 'outdoor', 'oppressions', 'opened', 'oops', 'omfg', 'olympic', 'okwx', 'okanagan', 'odeon', 'occasion', 'nytimes', 'numbers', 'nuke', 'nu', 'np', 'notice', 'normal', 'nicki', 'nfl', 'newlyweds', 'network', 'neither', 'negative', 'needed', 'naved', 'nature', 'nation', 'nasty', 'named', 'muslim', 'muscle', 'murderous', 'murdered', 'multiplayer', 'msf', 'moves', 'motor', 'mother', 'monsoon', 'mma', 'minority', 'minister', 'militant', 'mikeparractor', 'mike', 'mido', 'michigan', 'mexico', 'mess', 'mental', 'mens', 'memory', 'memorial', 'member', 'medical', 'meatloving', 'measurement', 'meals', 'maria', 'mail', 'magic', 'luck', 'lowly', 'lorries', 'loose', 'lonely', 'location', 'loan', 'listed', 'lip', 'lightening', 'lez', 'letters', 'legal', 'leg', 'leaves', 'league', 'law', 'laughing', 'kurdish', 'kingdom', 'kca', 'karymsky', 'july', 'judge', 'jst', 'jordan', 'jet', 'jesus', 'japÌn', 'jam', 'jacksonville', 'j', 'i\\x89Ûªve', 'i\\x89Û', 'itll', 'italy', 'iranian', 'invoices', 'internal', 'intern', 'interested', 'insurers', 'instagram', 'individuals', 'idk', 'idfire', 'ian', 'i77', 'hwo', 'hurt', 'humidity', 'huh', 'hughes', 'huffman', 'httptcozujwuiomb3', 'httptcoq2eblokeve', 'httptcoencmhz6y34', 'httpstcorqwuoy1fm4', 'httpstcomoll5vd8yd', 'houston', 'horses', 'horrific', 'honors', 'holy', 'holland', 'hills', 'highest', 'hieroglyphics', 'here\\x89Ûªs', 'heights', 'hearts', 'hearing', 'headphones', 'heading', 'headed', 'hated', 'harry', 'harbor', 'haram', 'hang', 'gusts', 'gunfire', 'groups', 'grazed', 'grab', 'golf', 'gift', 'george', 'gaza', 'garden', 'gang', 'fwy', 'further', 'funds', 'fucked', 'frontline', 'fr', 'foxtrot', 'footage', 'foot', 'follows', 'focus', 'flying', 'floyds', 'floated', 'fish', 'finnish', 'finds', 'fifth', 'fettilootch', 'festival', 'fergusons', 'feminists', 'feelings', 'feeding', 'fbi', 'fate', 'faster', 'fantastic', 'fake', 'external', 'explosionproof', 'expert', 'exit', 'exist', 'executives', 'evil', 'everyones', 'europe', 'estimated', 'estate', 'eruption', 'er', 'equal', 'epilepsy', 'elevated', 'elem', 'effort', 'education', 'eden', 'eating', 'easily', 'earrings', 'earners', 'dtn', 'drugs', 'drug', 'drove', 'drones', 'dramatic', 'dragon', 'dozens', 'dollar', 'documents', 'doctor', 'distance', 'discovery', 'dinner', 'diet', 'dick', 'detectado', 'designs', 'design', 'derails', 'dependency', 'decided', 'debt', 'daughters', 'daughter', 'dat', 'darude', 'damages', 'dallas', 'cute', 'cum', 'crowd', 'crossed', 'criminals', 'crater', 'covers', 'counselor', 'couldnt', 'cotton', 'correction', 'cord', 'continued', 'considering', 'conflict', 'concern', 'compliant', 'communities', 'comments', 'combined', 'color', 'cofounder', 'code', 'coastal', 'coach', 'cnbc', 'cleveland', 'clev', 'clear', 'clash', 'cities', 'cinema', 'church', 'choking', 'china\\x89Ûªs', 'childhood', 'chelsea', 'charts', 'charlie', 'charging', 'characters', 'certainly', 'cell', 'catch', 'cast', 'card', 'captured', 'capacity', 'cancel', 'canaanites', 'campus', 'calories', 'cakes', 'c', 'bulletin', 'buffalo', 'bruh', 'brings', 'bride', 'bp', 'boxer', 'bound', 'bottom', 'boot', 'blvd', 'bluetooth', 'blocking', 'bless', 'blamed', 'blame', 'blackberry', 'biological', 'bff', 'beyonce', 'benefits', 'beer', 'bedroom', 'becomes', 'became', 'beats', 'bears', 'beam', 'bb17', 'battery', 'bath', 'bat', 'base', 'bargain', 'bake', 'b4', 'average', 'aussie', 'auctions', 'attacking', 'asian', 'asap', 'article', 'arabian', 'appreciate', 'apple', 'apocalyptic', 'anyway', 'announcement', 'anchorage', 'analysis', 'amongst', 'alps', 'allowed', 'alcohol', 'alberta', 'alaska', 'al', 'age', 'afraid', 'activates', 'activated', 'accused', 'above', 'ability', 'abcnews', 'abbswinston', '86', '80s', '6aug', '45', '3d', '39', '360wisenews', '35', '34', '2pm', '2pcs', '29072015', '29', '2009', '18w', '150401', '13000', '1200', '010401', 'å¨', '\\x89Û÷extremely', '\\x89ÛÏrichmond', '\\x89ÛÏhatchet', '\\x89ÛÏa', 'zouma', 'zayn', 'yugvani', 'yorker', 'yahoonews', 'xxx', 'xp', 'xbox', 'wy', 'writer', 'wrapup', 'works', 'workers', 'wood', 'wonderful', 'witter', 'wit', 'wire', 'winston', 'wins', 'willing', 'william', 'widespread', 'wedaug5th', 'website', 'weathernetwork', 'wear', 'weak', 'wbioterrorismampuse', 'waterways', 'washingtonpost', 'washed', 'walmart', 'vulnerable', 'visited', 'virus', 'virgil', 'vine', 'villagers', 'vid', 'venezuela', 'vegas', 'variety', 'vancouver', 'vampiro', 'vacant', 'ut', 'user', 'uribe', 'urgent', 'upper', 'unsuckdcmetro', 'unknown', 'university', 'unions', 'uniform', 'underway', 'understanding', 'unavoidable', 'ugly', 'uber', 'ty', 'twin', 'turbine', 'tunnel', 'tuesday', 'tubestrike', 'ts', 'trucks', 'trubgme', 'trs', 'tripledigit', 'triggered', 'tribune', 'trials', 'trap', 'transporting', 'transfer', 'traditional', 'towards', 'tooth', 'tools', 'tons', 'tonights', 'tomorrows', 'toe', 'titan', 'time20150805', 'tilnow', 'til', 'ticket', 'thru', 'throwingknifes', 'throwing', 'threw', 'thousand', 'third', 'thick', 'the\\x89Û', 'therapy', 'thanku', 'tflbusalerts', 'tf', 'tests', 'tested', 'terrifying', 'terms', 'temporary300', 'temper', 'telegraph', 'teaching', 'teachers', 'tdp', 'taste', 'targets', 'tape', 'systems', 'sydney', 'sx', 'sws', 'sweden', 'swear', 'suv', 'survivor', 'surrounded', 'surge', 'surf', 'surely', 'supports', 'supernatural', 'superhero', 'summerfate', 'suddenly', 'strikes', 'stressful', 'stressed', 'stick', 'stewart', 'stats', 'startup', 'stands', 'standing', 'stamp', 'square', 'spinning', 'specimens', 'specif', 'speaking', 'sparked', 'soviet', 'southern', 'southeast', 'soup', 'souls', 'sophie', 'songs', 'socialism', 'soccer', 'snap', 'smoky', 'smithsonian', 'sm', 'slowly', 'slower', 'slips', 'skies', 'six', 'sitting\\x89Û', 'sites', 'sing', 'sin', 'silent', 'showcase', 'shoot', 'shook', 'shitty', 'shipwreck', 'shell', 'sharp', 'shared', 'sf', 'sexy', 'sets', 'servers', 'sends', 'sending', 'selfie', 'seem', 'section', 'se', 'screenshots', 'scott', 'score', 'scientists', 'schools', 'schiphol', 'schedule', 'scars', 'sat', 'sassy', 'safer', 'safely', 'ryan', 'rworldnews', 'rose', 'rome', 'roller', 'roll', 'rockyfire', 'rocket', 'robotrainstorm', 'roberts', 'robert', 'rob', 'rises', 'rider', 'rid', 'rickperry', 'revolution', 'retweet', 'retail', 'required', 'replacing', 'rep', 'reno', 'removal', 'relationship', 'regret', 'registered', 'refugee', 'reduced', 'recycling', 'recorded', 'recognize', 'recently', 'recap', 'recall', 'reap', 'realmandyrain', 'reaches', 'reach', 'raynbowaffair', 'range', 'ramag', 'rally', 'raining', 'radioactive', 'racist', 'racing', 'quote', 'quality', 'quake', 'purchase', 'pulling', 'pull', 'ptsdchat', 'psychiatric', 'protests', 'prompted', 'promise', 'projects', 'profit', 'produced', 'procedures', 'prior', 'print', 'prince', 'preview', 'pregnant', 'predict', 'pre', 'prayers', 'poverty', 'posting', 'posted', 'possibly', 'portion', 'porn', 'pond', 'poll', 'pockets', 'pls', 'plays', 'plate', 'planted', 'plant', 'pizza', 'pipeline', 'piling', 'pieces', 'physical', 'photoshop', 'photographer', 'philly', 'permanent', 'period', 'peoples', 'penalties', 'pedestrian', 'pbban', 'patrick', 'patch', 'passing', 'passenger', 'particularly', 'parking', 'paramedic', 'pam', 'palms', 'palin', 'pak', 'pair', 'painting', 'pace', 'outta', 'otrametlife', 'otherwise', 'origin', 'opus', 'options', 'option', 'opposite', 'opinion', 'ontario', 'olive', 'older', 'ohio', 'of\\x89Û', 'often', 'officially', 'offers2go', 'offers', 'offer', 'offensive\\x89Ûª', 'odd', 'oc', 'object', 'oak', 'nw', 'nurse', 'numbered', 'nuggets', 'nude', 'nri', 'noticed', 'noncompliant', 'non', 'noaa', 'nm', 'nike', 'nigeria', 'niece', 'nickcannon', 'newyork', 'newsintweets', 'nestleindia', 'nema', 'needle', 'necessary', 'nbcnews', 'nations', 'museum', 'mud', 'movies', 'mountains', 'models', 'model', 'mkx', 'mitigation', 'mistake', 'minds', 'minaj', 'min', 'milkshake', 'mid', 'microsoft', 'michael5sos', 'miami', 'mfs', 'metrics', 'method', 'messenger', 'mentioned', 'mentally', 'memphis', 'melt', 'meant', 'meaning', 'mcdonalds', 'materials', 'mate', 'matches', 'married', 'markets', 'marker', 'mall', 'majority', 'maintenance', 'magnum', 'magginoodle', 'm194', 'lulgzimbestpicts', 'luis', 'lrt', 'los', 'looping', 'loop', 'longest', 'lonewolffur', 'logic', 'log', 'locker', 'local\\x89Û', 'localarsonist', 'lived', 'listenbuy', 'links', 'lighting', 'lifetime', 'lglorg', 'let\\x89Ûªs', 'letting', 'lesbian', 'leo', 'len', 'lego', 'legit', 'legion', 'leadership', 'leaders', 'lay', 'laugh', 'latestnews', 'largest', 'lands', 'laid', 'l', 'kyle', 'kurtschlichter', 'koin6news', 'knoxville', 'kings', 'kind', 'kiernan', 'kenya', 'karachi', 'jr', 'journalist', 'jon', 'joke', 'joel', 'jewish', 'jeans', 'jazz', 'jax', 'japans', 'jan', 'james', 'jamaica', 'jail', 'itunesmusic', 'ireland', 'involved', 'invasion', 'interest', 'integrity', 'instant', 'installation', 'inning', 'ink', 'injuryi495', 'inj', 'initial', 'individual', 'independent', 'impressed', 'impossible', 'imported', 'ima', 'illinois', 'ik', 'ihhen', 'idis', 'icymi', 'ibooklove', 'ianhellfire', 'i5', 'i405', 'hype', 'hybrid', 'hunk', 'hungry', 'hundred', 'humanconsumption', 'httptcovvplfqv58p', 'httptcoviwxy1xdyk', 'httptcov3azwoamzk', 'httptcoo91f3cyy0r', 'httptconnmqlz91o9', 'httptcolvlh3w3awo', 'httptcobbdpnj8xsx', 'httpstcoe8dl1lncvu', 'httpstcodehmym5lpk', 'hotel', 'hostageamp2', 'host', 'hopefully', 'honey', 'hitting', 'historic', 'hiphop', 'hip', 'hinton', 'hillary', 'hike', 'highly', 'helps', 'heaven', 'healthcare', 'heal', 'headset', 'hd', 'hating', 'harper', 'hardline', 'happiness', 'halifax', 'haiyan', 'hahaha', 'hah', 'gusty', 'gunshot', 'gunsense', 'guilty', 'guard', 'growth', 'grove', 'grey', 'grew', 'grenade', 'greg', 'grand', 'grabbers', 'gopdebate', 'gon', 'godslove', 'gives', 'gilbert23', 'germany', 'gerenciatodos', 'georgia', 'genuine', 'generally', 'gel', 'gamergate', 'gameplay', 'ga', 'fuckin', 'frozen', 'frontpage', 'freedom', 'franklin', 'foul', 'forward', 'forgotten', 'forgiven', 'ford', 'forbes', 'foodscare', 'fly', 'flower', 'flaming', 'flags', 'fkn', 'fits', 'fit', 'fireman', 'finishing', 'finish', 'fingers', 'ferguson', 'fed', 'famous', 'fallen', 'fail', 'facts', 'extra', 'explains', 'experiments', 'experiencing', 'experienced', 'expecting', 'excited', 'excellent', 'example', 'exactly', 'ex', 'evidence', 'eventually', 'events', 'eu', 'esp', 'error', 'environmental', 'environment', 'enter', 'enjoyed', 'engine', 'encouragement', 'encounter', 'emotions', 'emotionally', 'email', 'elite', 'election', 'eight', 'eh', 'egypt', 'eggs', 'ee', 'editor', 'edinburgh', 'ed', 'eb', 'earthquakes', 'dudes', 'dublin', 'drives', 'driven', 'drinks', 'dress', 'dreams', 'drawn', 'drag', 'dq', 'dorret', 'donate', 'donald', 'domestic', 'doc', 'dj', 'diss', 'disasters', 'disappoints', 'disappearance', 'dis', 'dirt', 'digits', 'diamondkesawn', 'diamond', 'devalue', 'detroit', 'detained', 'destroying', 'despite', 'deserves', 'description', 'describing', 'derby', 'dental', 'denmark', 'dem', 'deliver', 'defense', 'defend', 'declined', 'decide', 'decades', 'davidvonderhaar', 'darkness', 'dannyonpc', 'cyclists', 'cyclist', 'cycling', 'current', 'curb', 'cupcake', 'cue', 'cta', 'csx', 'crosses', 'criminal', 'crimes', 'cries', 'crew', 'crashing', 'cr', 'cow', 'cousin', 'courts', 'couples', 'counter', 'count', 'cos', 'corners', 'copycat', 'cooler', 'conversations', 'conversation', 'control\\x89Û\\x9d', 'contemplating', 'contained', 'constantly', 'consequence', 'connectorconnecto', 'connector', 'condition', 'concerns', 'concept', 'complex', 'comparison', 'communication', 'commit', 'comedy', 'combat', 'columbia', 'colluded', 'college', 'collapses', 'cock', 'club', 'clothes', 'closures', 'closing', 'closes', 'clip', 'clinton', 'climb', 'client', 'clearly', 'cleared', 'cleanup', 'claytonbryant', 'cladding', 'civil', 'citizens', 'circuit', 'christ', 'chris', 'choices', 'chocolate', 'chill', 'chewing', 'chevy', 'chest', 'charles', 'charges', 'charger', 'charge', 'chaos', 'channel', 'changed', 'challenge', 'centipede', 'cd', 'cave', 'caution', 'cats', 'castle', 'cash', 'carryi', 'capture', 'capsized', 'candy', 'camps', 'camping', 'campaign', 'californias', 'caitlin', 'buying', 'butt', 'bunch', 'bully', 'bullets', 'buddys', 'btw', 'brutally', 'bronx', 'bringing', 'brian', 'breakingnews', 'braking', 'boyfriend', 'bowling', 'bounty', 'bottle', 'bored', 'bore', 'border', 'bookboost', 'boko', 'bluedio', 'blowmandyup', 'blow', 'blocks', 'blasts', 'blake', 'blah', 'bitches', 'birth', 'birds', 'bill', 'bell', 'behalf', 'beforeitsnews', 'bee', 'becoming', 'beard', 'bbcnews', 'bb4sp', 'batters', 'basement', 'bars', 'barn', 'barely', 'bare', 'barackobama', 'bands', 'band', 'background', 'a\\x89Û', 'aw', 'averted', 'authorities', 'australia\\x89Ûªs', 'aussies', 'audience', 'at\\x89Û', 'attitude', 'atlanta', 'asleep', 'artistsunited', 'arsenal', 'arrest', 'armory', 'arm', 'arizona', 'apparent', 'aoms', 'anybody', 'anxiety', 'annual', 'anna', 'ankle', 'animals', 'angels', 'angeles', 'amirite', 'america\\x89Ûªs', 'alternatives', 'alright', 'ak', 'ages', 'affects', 'address', 'adding', 'acute', 'active', 'acid', 'accuses', 'accionempresa', 'abuse', 'abandon', '97georgia', '95', '90blksamp8whts', '8th', '852015', '800', '78', '731', '6th', '69', '5th', '5pm', '56', '55', '5000', '48', '41', '3rd', '32', '2us', '27', '2030', '2010', '2008', '1620', '150foot', '10th', '109', '1030', '09', 'å', '\\x89Û÷plot', '\\x89Û÷it\\x89Ûªs', '\\x89Û÷good', '\\x89ÛÏwe', '\\x89ÛÏthe', '\\x89ÛÏstretcher', '\\x89ÛÏhannaph\\x89Û\\x9d', '\\x89Û¢åÊdemolition', 'zss', 'zionism', 'zimbabwe', 'zarry', 'zakbagans', 'z', 'yycstorm', 'you\\x89Ûªre', 'you\\x89Ûªll', 'yougov', 'yonews', 'yesterdays', 'yep', 'yemen', 'yellow', 'yankees', 'yahoo', 'y', 'xoxo', 'xb1', 'wwwcbplawyers', 'wwi', 'ww2', 'wud', 'wrist', 'wrap', 'wpri', 'wowo', 'worstsummerjob', 'worrying', 'worries', 'worn', 'worldwide', 'worldnetdaily', 'workplace', 'wordpressdotcom', 'woodlawn', 'wom', 'wolves', 'wolf', 'wod', 'wnd', 'wmv', 'wmur9', 'witness', 'wipp', 'winning', 'wing', 'wilshere', 'wide', 'wi', 'whose', 'whoops', 'whomever', 'whoever', 'whoa', 'whipped', 'wheres', 'whenever', 'wheel', 'whales', 'wftv', 'weyreygidi', 'welfare', 'weight', 'weekold', 'wee', 'wednesdays', 'wedn', 'weakening', 'wd', 'wb', 'wayne', 'watertown', 'waterresistant', 'warships', 'warned', 'warm', 'warfighting', 'warcraft', 'wannabe', 'walter', 'walls', 'walked', 'waking', 'waits', 'waist', 'waimate', 'voting', 'voter', 'volleyball', 'volga', 'volcanoåÊinåÊrussia', 'volcanoes', 'vods', 'vocal', 'vladimir', 'vital', 'visits', 'visibility', 'vip', 'vintage', 'vince', 'vietnamese', 'videoveranomtv', 'vida', 'vicinity', 'vice', 'vibez', 'vi', 'vgbootcamp', 'vet', 'versions', 'versethe', 'vermont', 'verdict', 'vegetarian', 'vegetable', 've', 'vault', 'vashon', 'vantage', 'values', 'value', 'vacation', 'vabengal', 'utv', 'ushanka', 'uranium', 'upgrading', 'upgraded', 'unto', 'unrelenting', 'unprecedented', 'unnecessary', 'unity', 'unique', 'unhappiness', 'unfortunately', 'unfolded', 'underwater', 'undercover', 'uncle', 'unawares', 'ultimalucha', 'ukraine', 'uh', 'ud', 'tyre', 'typos', 'typical', 'tyler', 'twovehicle', 'twos', 'tutorial', 'turning', 'turkmen', 'tuning', 'tunein', 'tuned', 'tune', 'tumblr', 'tumbling', 'tt', 'tsunamiesh', 'tryouts', 'tryout', 'trusting', 'troy', 'troubling', 'troll', 'trillion', 'tries', 'trick', 'trend', 'tremor', 'treeporn', 'treated', 'travis', 'traverse', 'traveling', 'transformed', 'transformation', 'tragic', 'trading', 'tr', 'touched', 'totes', 'torture', 'tornados', 'torching', 'tor', 'tops', 'tool', 'tonight\\x89Ûªs', 'tomcatarts', 'tokyo', 'tmp', 'tlc', 'tix', 'tinyjecht', 'tin', 'timkaine', 'timeline', 'tides', 'tidal', 'thyroid', 'thy', 'thurs', 'thuggin', 'thu', 'thrown', 'throughout', 'threats', 'thisizbwright', 'thirsty', 'thin', 'thetawniest', 'therapies', 'themed', 'thee', 'theadvocatemag', 'that\\x89Ûªs', 'thankfully', 'tha', 'testimony', 'tens', 'temptation', 'temperature', 'teeth', 'teens', 'technologies', 'technique', 'techesback', 'teacher', 'te', 'tc', 'tb', 'taylor', 'taxiways', 'taught', 'tattoo', 'tastes', 'tasmanias', 'tanzania', 'talibans', 'talent', 'tak', 'tahoe', 'tab\\x89Û', 's\\x89Û', 'syndrome', 'symphony', 'sympathy', 'swing', 'sweater', 'suryaray', 'survey', 'suruc', 'surrender', 'surgery', 'surfers', 'surah', 'supply', 'sunny', 'summit', 'summertime', 'summary', 'suicidebombing', 'suffering', 'suffered', 'stylish', 'stuns', 'stunned', 'studio', 'stu', 'sts', 'stronger', 'stroke', 'strikesstrikes', 'strikers', 'stress', 'strengthening', 'streaming', 'stout', 'stomach', 'stole', 'stockton', 'sticks', 'stepped', 'steam', 'steal', 'steak', 'statement', 'starving', 'startups', 'starter', 'starbucks', 'stans', 'standwithpp', 'standards', 'stacey', 'ssw', 'squeeze', 'spreading', 'spots', 'sportwatch', 'sponsor', 'split', 'spirits', 'spinningbot', 'spencers', 'speed', 'spectacular', 'specific', 'species', 'specialists', 'spears', 'so\\x89Û', 'southdowns', 'southbound', 'sounding', 'soudelors', 'sort', 'sore', 'soooo', 'sooo', 'soo', 'sony', 'sons', 'solo', 'solitude', 'solid', 'solicitor', 'soldier', 'sold', 'software', 'softenza', 'soft', 'society', 'socialmedia', 'soak', 'snuff', 'snowden', 'sneak', 'snd', 'snapchat', 'snacks', 'sn', 'smiling', 'smiles', 'smart', 'slipped', 'slip', 'slides', 'slicker', 'slayer', 'slate', 'slammed', 'skys', 'skyline', 'skirt', 'skinny', 'skills', 'skill', 'sketch', 'skanndtyagi', 'sized', 'sixpenceee', 'sixmeter', 'sink', 'singles', 'simultaneous', 'simulation', 'simon', 'silvergray', 'signup', 'significant', 'sight', 'sigalert', 'sides', 'sided', 'sibling', 'shutdown', 'showed', 'shouting', 'shouldve', 'shoulders', 'shore', 'shooter', 'shoe', 'shock', 'shirt', 'sheriff', 'shelby', 'sheet', 'sheeran', 'sheer', 'shed', 'shaw', 'sharethis', 'shaped', 'shantae', 'shaking', 'shaker', 'sewer', 'setlist', 'sequel', 'sept', 'sep', 'sell', 'selfies', 'selection', 'seasons', 'seal', 'scwx', 'scuf', 'screw', 'scream', 'scottwalker', 'scotland', 'scifi', 'schwarber', 'schedule\\x89Û', 'scariest', 'scare', 'scale', 'sb', 'saturn', 'satan', 'sandy', 'samesex', 'samaritans\\x89Ûª', 'samanthaturne19', 'salvis', 'salty', 'salmon', 'sake', 'sail', 'sahib', 'saddlebrooke', 'sacramento', 'sac', 'sa15t', 'sa', 'rwy', 'rush', 'ruins', 'ruined', 'ruebs', 'rudd', 'rtamerica', 'rss', 'rspca', 'rs', 'royals', 'royal', 'routecomplex', 'rossum', 'roses', 'ronnie', 'ronaldo', 'romance', 'rolls', 'roh3', 'rogue', 'roger', 'robots', 'robinson', 'riyadh', 'riversiskiyou', 'risks', 'ripped', 'rioters', 'rio', 'ring', 'rights', 'rifles', 'riders', 'rick', 'richard', 'rice', 'rey', 'revenues', 'revelation', 'retweeted', 'returns', 'retro', 'retract', 'resulting', 'restricted', 'restive', 'restaurants', 'responding', 'responder', 'responded', 'respected', 'resources', 'reshapes', 'requiring', 'request', 'republic', 'repeat', 'reopening', 'renison', 'rene', 'removed', 'remorse', 'remix', 'relive', 'religion', 'relentless', 'rejects', 'rejected', 'reject', 'reinstate', 'reids', 'reid', 'regional', 'regard', 'refuses', 'refused', 'refuse', 'reflect', 'recreates', 'recording', 'reckless', 'recent', 'receive', 'realtime', 'realize', 'realised', 'realdonaldtrump', 'reacted', 'react', 'rdhorndale', 'rb', 'raÌ¼l', 'raynor', 'rayner', 'raw', 'rating', 'rapping', 'rapper', 'rap', 'random', 'raised', 'rainier', 'rained', 'rails', 'rages', 'queens', 'q', 'p\\x89Û', 'purchased', 'puppy', 'puppies', 'punjab', 'punished', 'punch', 'pun', 'pulwama', 'pulled', 'publicizing', 'ptsd', 'ptbo', 'pt', 'psa', 'provide', 'protesting', 'protection', 'protecting', 'protectdenaliwolves', 'propertycasualty', 'proper', 'prone', 'promote', 'programme', 'professional', 'product', 'prod', 'proceeds', 'pro', 'privacy', 'priority', 'priceless', 'prez', 'prevention', 'pretend', 'pressed', 'presence', 'prepper', 'preparing', 'prepares', 'preorder', 'premonitions', 'premium', 'premature', 'predator', 'precious', 'pounded', 'potentially', 'posters', 'possibility', 'popularmmos', 'pops', 'poplar', 'pope', 'poorly', 'pony', 'pomo', 'politifiact', 'policerun', 'poland', 'pol', 'poem', 'pocket', 'pmharper', 'plummeted', 'pllolz', 'plenty', 'pledge', 'pleasure', 'playstation', 'players', 'platform', 'placing', 'pjnet', 'pits', 'pissed', 'pisgah', 'pinpoint', 'piner', 'pill', 'pileup', 'pictures', 'pickens', 'physicians', 'photoset', 'philadelphia', 'phil', 'phase', 'pharaoh', 'phantom', 'petitiontake', 'peterjukes', 'perspectives', 'personnel', 'permits', 'permanently', 'performing', 'performance', 'per', 'pepper', 'penn', 'pendleton', 'penalty', 'peak', 'peacefully', 'pcps', 'pays', 'paved', 'pauls', 'pattern', 'patna', 'pathogen', 'passed', 'partnerships', 'paris', 'pants', 'panel', 'pancakes', 'pan', 'pakpattan', 'pakistannews', 'paint', 'pack', 'pa', 'ovofest', 'overtime', 'overload', 'outflow', 'outfit', 'outbid', 'ourselves', 'oth', 'oso', 'osborn', 'ornament', 'originalfunko', 'oregon', 'ordered', 'orange', 'oral', 'ops', 'opp', 'operations', 'oper', 'openly', 'ooh', 'onlinecommunities', 'oneself', 'omega', 'omars', 'olap', 'oks', 'oklahomaok', 'okinawa', 'ohh', 'offr', 'offices', 'offensiveåÊcontent', 'odds', 'occurs', 'occupants', 'obsessed', 'objects', 'obispo', 'nyt', 'nwo', 'nv', 'nurses', 'nsfw', 'ns', 'nowhere', 'november', 'novel', 'noted', 'note', 'nosurrender', 'nostalgia', 'northwest', 'northland', 'norman', 'nor', 'noise', 'nobody', 'noahanyname', 'njturnpike', 'nj', 'nikeplus', 'nightmare', 'niall', 'nhl', 'nh', 'newzsacramento', 'newswatch', 'newsarama', 'newbie', 'newberg', 'neverending', 'net', 'nepal', 'neighborhood', 'negros', 'neck', 'ne', 'nda', 'nbc', 'nba', 'navbl', 'nato', 'native', 'nasa', 'nankana', 'nan', 'names', 'najib', 'nail', 'mv', 'muzzamil', 'mutant', 'musik', 'musician', 'murders', 'mum', 'mukilteo', 'mufc', 'msnbc', 'movement', 'mourns', 'mountaineering', 'motorcraft', 'motion', 'moth', 'morgan', 'moral', 'mooresville', 'montgomery', 'montetjwitter11', 'monkeys', 'monitor', 'moms', 'moderate', 'mock', 'mnpdnashville', 'miyagi', 'mitt\\x89Û\\x9d', 'mississauga', 'missionhills', 'misses', 'mirage', 'minor', 'ministers', 'minions', 'minhazmerchant', 'milk', 'midnight', 'microsofts', 'micom', 'mi17', 'mgm', 'mf', 'metrofmtalk', 'metlife', 'meteoearth', 'messi', 'messages', 'mercy', 'mercury', 'mercados', 'memes', 'meinlcymbals', 'megynkelly', 'meets', 'meekmill', 'medium', 'medicine', 'medals', 'mechanical', 'meat', 'measles', 'mcmahon', 'mcilroy', 'mchenry', 'mc', 'mattson', 'matthew', 'matters', 'material', 'master', 'marvel', 'martinmj22', 'marlon', 'marketing', 'marked', 'mark', 'marines', 'marine', 'marijuana', 'mariah', 'march', 'manufactured', 'manmade', 'mania', 'managed', 'mamata', 'mama', 'malik', 'maketh', 'maker', 'maj', 'maintain', 'magner', 'magisters', 'mafia', 'ma', 'lyrics', 'lying', 'lungs', 'luchaunderground', 'lubbock', 'ltlt', 'lover', 'lovedup', 'loses', 'losdelsonido', 'loretta', 'looting', 'looters', 'looses', 'longterm', 'longs', 'lone', 'londonfire', 'lollapalooza', 'logo', 'logistics', 'lock', 'located', 'loans', 'loading', 'loaded', 'load', 'lnp', 'lmfaoooo', 'livingsafely', 'lit', 'listenlive', 'lionel', 'linerless', 'lightningcaused', 'lifting', 'lifethreatening', 'liable', 'letsfootball', 'lessons', 'leisure', 'legs', 'legislation', 'legio', 'leeds', 'lebanon', 'leaks', 'leak', 'leagues', 'layout', 'lawton', 'lawsuit', 'lavenderpoetrycafe', 'lauren', 'launch', 'latin', 'latimes', 'lately', 'lasting', 'las', 'laois', 'lansdowne', 'languages', 'language', 'langley', 'landfall', 'lance', 'lamha', 'lakes', 'labour', 'label', 'ky', 'kuwait', 'kurd', 'kraft', 'kowing', 'kosciusko', 'korea', 'komen', 'kodiak', 'knowing', 'knocking', 'knob', 'km', 'kittens', 'kith', 'kisses', 'kindness', 'kindly', 'killings', 'killers', 'key', 'kerry', 'kendall', 'ke', 'katunews', 'katrina', 'karma', 'kanye', 'kalle', 'just\\x89Û', 'justmarried', 'justifying', 'jurors', 'jupiters', 'june', 'jumped', 'julie', 'juice', 'journalism', 'journal', 'jose', 'jonvoyage', 'jones94kyle', 'jones', 'jonathanferrell', 'johns', 'johnny', 'jkl', 'jimmyfallon', 'jim', 'jhaustin', 'jewelry', 'jerry', 'jennifer', 'jenner', 'jealous', 'jays', 'janaq', 'jams', 'jamaicaplain', 'jailed', 'jacque', 'jacket', 'ivanberroa', 'itsjustinstuart', 'items', 'islands', 'isil', 'ironically', 'ironic', 'irish', 'iredell', 'iranians', 'ipod', 'ipad', 'invited', 'investing', 'invest', 'interviews', 'interstate', 'intensifies', 'intelligence', 'insubcontinent', 'instructions', 'instantly', 'inst', 'insomnia', 'insas', 'innovation', 'innocent', 'injures', 'infinity', 'infectious', 'inevitable', 'indonesia', 'indie', 'indiannews', 'indi', 'incredibly', 'increasing', 'increase', 'include', 'incase', 'improve', 'imperfect', 'impending', 'impacted', 'immediately', 'imagined', 'iii', 'ignore', 'ig', 'idps', 'idiot', 'identitytheft', 'idc', 'iconic', 'icelandreview', 'i95', 'i580', 'hysteria', 'hypocrisy', 'hurry', 'hurricanes', 'hurricanedolce', 'hunger', 'humble', 'humaza', 'httptcoxssgedsbh4', 'httptcowvj39a3bgm', 'httptcouoozxaus26', 'httptcothyzomvwu0', 'httptcothoyhrhkfj', 'httptcosqsyueh4yi', 'httptcoskqpwsnoin', 'httptcopvmr38lnva', 'httptcopo19h8ycnd', 'httptcophixznv1yn', 'httptconmfsgkf1za', 'httptconjd28pg9xv', 'httptcomfckpvzfv8', 'httptcom5kxlpkfa1', 'httptcom203ul6o7p', 'httptcojhpdssvhve', 'httptcoj5mkcbkcov', 'httptcoio7kuug1uq', 'httptcoiikssjgbdn', 'httptcoedyfo6e2pu', 'httptcodydfvz7amj', 'httptcocgf61fpmr0', 'httptco83joo0xk29', 'httptco199t7nd0pm', 'httptco0wratka2jl', 'httpstcowudlkq7ncx', 'httpstcolfkmtzaekk', 'httpstcois2idc3ubj', 'housed', 'hottest', 'hosting', 'hospitals', 'horrors', 'horizon', 'hoping', 'hop', 'honest', 'homs', 'homie', 'homeowners', 'homeland', 'holed', 'holds', 'hoes', 'hockey', 'hmu', 'hmm', 'hiroshima70', 'hide', 'hidden', 'hers', 'heroin', 'henry', 'hella', 'helicopters', 'heels', 'heavenly', 'heartwarming', 'heartless', 'headlines', 'haunting', 'hatchetwielding', 'hatchet', 'hatcap', 'hashtag', 'harwich', 'harms', 'harmkid', 'hardy', 'hardcore', 'handling', 'hampshire', 'hamilton', 'hamas', 'hall', 'hahahaha', 'hahah', 'hadnt', 'hackers', 'hack', 'habits', 'gunmen', 'guided', 'guaranteed', 'gtii', 'gtfo', 'grown', 'growing', 'grounds', 'groom', 'grills', 'gridlock', 'grenades', 'greenharvard', 'greek', 'greedy', 'greeces', 'greece', 'grass', 'grants', 'grandeur', 'grade', 'gps', 'gpm', 'goulburn', 'gordon', 'goodbye', 'goldstein', 'goku', 'gofundme', 'goat', 'gloucester', 'glorious', 'globe', 'glenn', 'glasses', 'gig', 'gif', 'ghostwriter', 'gg', 'gf', 'gettin', 'geometric', 'genius', 'generalnews', 'gear', 'gd', 'gays', 'gawx', 'gates', 'gateau', 'gary', 'garfield', 'gardens', 'gaining', 'gain', 'gadgets', 'fyi', 'fury', 'furious', 'fur', 'function', 'fukushimatepco', 'fuels', 'fte', 'fruits', 'frontlines', 'frog', 'friggin', 'friendship', 'fresno', 'freshman', 'freezing', 'freeway', 'freaking', 'frank', 'fran', 'fragile', 'fraction', 'foxnew\\x89Û', 'fourth', 'foster', 'for\\x89Û', 'fortune', 'forth', 'forsure', 'formation', 'form', 'forgot', 'forex', 'follower', 'fm', 'fluid', 'flow', 'flooded', 'float', 'flew', 'fleeing', 'flashbacks', 'fixing', 'fixed', 'fishing', 'fire\\x89Û', 'firetruck', 'firemen', 'firefighting', 'fir', 'finished', 'finger', 'finding', 'financing', 'filled', 'files', 'fierce', 'fieg', 'fi', 'fevwarrior', 'ferries', 'ferguson\\x89Ûªs', 'fennovoima', 'feminist', 'feinstein', 'fees', 'feelin', 'federal', 'features', 'featured', 'feast', 'fd', 'fb', 'favor', 'faulty', 'fatalityus', 'fashionable', 'fart', 'farrakhan', 'farm', 'familia', 'fam', 'fallacy', 'faith', 'factory', 'factors', 'facility', 'fabric', 'extinguished', 'extensive', 'extension', 'extends', 'extender', 'exposed', 'explores', 'explain', 'expensive', 'expand', 'exited', 'existence', 'exhibition', 'exhausted', 'excuses', 'excuse', 'exciting', 'excitement', 'exc', 'exacerbated', 'evolve', 'everytime', 'evansville', 'evacuations', 'european', 'etisalat', 'et', 'estimates', 'esh', 'escaped', 'era', 'equate', 'equally', 'eq', 'epicenter', 'en\\x89Û', 'entrepreneur', 'entered', 'enrt', 'enroute', 'enjoying', 'enhanced', 'engvaus', 'engage', 'enemies', 'endures', 'endorses', 'ending', 'endangered', 'emsc', 'emperor', 'emerges', 'emerg', 'embroidered', 'emails', 'elliott', 'elizabeth', 'electricity', 'electric', 'elbow', 'egged', 'efak', 'edward', 'edit', 'economies', 'ebike', 'eaten', 'eastern', 'eastbound', 'ears', 'earned', 'earbuds', 'dystopian', 'dwarves', 'dw', 'dvc', 'durant', 'dunbar', 'dumb', 'ducks', 'duck', 'dual', 'ds', 'dryer', 'drum', 'dropping', 'drivers', 'drew', 'dreaming', 'draw', 'drama', 'dozen', 'downstairs', 'downfall', 'doubt', 'doublecups', 'dothraki', 'dorrets', 'dorman', 'donå«t', 'dolphin', 'dollars', 'doctors', 'divided', 'district', 'distributed', 'distinct', 'displace', 'discussion', 'discusses', 'disappear', 'directors', 'director', 'diplomacy', 'dijk\\x89Ûª', 'dignity', 'digital', 'digging', 'difficult', 'diff', 'dieplease', 'diaporama', 'diablo', 'despair', 'desk', 'designed', 'deserve', 'desert', 'descriptions', 'describes', 'deputy', 'deputies', 'dept', 'deny', 'denial', 'denali', 'dems', 'demonstratio', 'demons', 'demon', 'demi', 'delete', 'delay', 'del', 'definitely', 'dedicated', 'declared', 'deck\\x89Û\\x9d', 'deck', 'decisions', 'decision', 'debatequestionswewanttohear', 'dear', 'dealbreaker', 'daytoday', 'dating', 'dante', 'danisnotonfire', 'daniels', 'dame', 'damaging', 'dam', 'dakota', 'dailykos', 'daesh', 'cyprus', 'customers', 'curiosity', 'cunts', 'cuban', 'ctd', 'cs', 'cryptic', 'crusty', 'crowns', 'croatian', 'croat', 'critical', 'crippling', 'cried', 'crickets', 'cricket', 'creativity', 'creating', 'crashes', 'crane', 'cracking', 'crack', 'cowboys', 'coverage', 'cousins', 'coursing', 'countynews', 'countrys', 'countless', 'couldve', 'correspondent', 'corp', 'corleonedaboss', 'coral', 'coping', 'cope', 'contruction', 'controllers', 'controlled', 'contrast', 'contract', 'continually', 'context', 'contain', 'construction', 'constant', 'conservative', 'consequences', 'consent', 'condos', 'condolence', 'condemnation', 'concrete', 'concluded', 'complications', 'completed', 'complaints', 'compete', 'commute', 'commonwealth', 'committee', 'committed', 'commercial', 'command', 'combust', 'collisionno', 'collision1141', 'collins', 'cole', 'colder', 'coincide', 'cocaine', 'coaster', 'coal', 'coahuila', 'cmon', 'cm', 'clouds', 'cloud', 'closest', 'cliffs', 'clever', 'cleric', 'clearedincident', 'claimed', 'citys', 'cityofcalgary', 'cites', 'circus', 'cigarette', 'chunks', 'chronicle', 'christie', 'chosen', 'chose', 'choose', 'chonce', 'chills', 'chiefs', 'chicken', 'chick', 'chesttorso', 'cheryl', 'cherokee', 'chernobyl', 'chem', 'checked', 'cheat', 'cheap', 'chattanooga', 'chase', 'charlotte', 'channels', 'changing', 'chances', 'chan', 'challenges', 'chairs', 'chair', 'chain', 'ch4', 'certified', 'certificate', 'census', 'celebrations', 'cdcgov', 'cdc', 'cc', 'cbc', 'cawx', 'catfish', 'catching', 'catches', 'casual', 'casperrmg', 'casper', 'cartoon', 'cart', 'carried', 'carr', 'caribbean', 'cargo', 'careless', 'careers', 'cared', 'cards', 'caps', 'capital', 'cape', 'canvas', 'canoe', 'cannon', 'candle', 'cancers', 'cancels', 'cancelled', 'campfire', 'cam', 'calum5sos', 'cairo', 'cage', 'cafe', 'cables', 'cabin', 'c4news', 'busy', 'burnt', 'buried', 'bundled', 'bundle', 'bumper', 'bump', 'bullseye', 'bullet', 'builds', 'bug', 'buffer', 'buckle', 'btwn', 'bts', 'bs', 'bruise', 'britney', 'britishbakeoff', 'bright', 'brigade', 'briefing', 'brief', 'bridges', 'brewing', 'breaks', 'bread', 'brave', 'brand', 'brakes', 'brady', 'bradleybrad47', 'boxing', 'bowl', 'bounds', 'boundary', 'boundaries', 'bother', 'born', 'boom', 'bones', 'boeing', 'bodys', 'bodybagging', 'bobcats', 'bn', 'bmw', 'blutz10', 'blunt', 'blues', 'blueprint', 'bloomberg', 'blonde', 'blizzheroes', 'blizzarddraco', 'blanket', 'blames', 'blackpool', 'blacklivesmatter', 'bits', 'bites', 'bite', 'bitcoin', 'bistro', 'birmingham', 'bills', 'billion', 'billings', 'billboard', 'biker', 'bike', 'bigamist', 'bid', 'bicycle', 'bicep', 'beware', 'betz', 'betrayed', 'bethlehem', 'bengal', 'beneath', 'bend', 'belongs', 'belonged', 'belly', 'belief', 'beginners', 'begging', 'bees', 'beclearoncancer', 'beckarnley', 'beauty', 'battleship', 'battles', 'batting', 'batteries', 'battered', 'bass', 'basically', 'bashes', 'baruch', 'barry', 'banquet', 'bangladesh', 'bangin', 'banerjee', 'baltimore', 'balance', 'bal', 'bakeofffriends', 'bago', 'backyards', 'backs', 'ay', 'awwww', 'awaits', 'avoided', 'aviation', 'avenue', 'avengers', 'available', 'autumn', 'automation', 'autobiography', 'auto', 'authentic', 'australias', 'australian', 'austin', 'aust', 'aunt', 'auction', 'auckland', 'attractive', 'attraction', 'attendance', 'attempting', 'attempt', 'atmospheric', 'atmosphere', 'atm', 'atlantic', 'atk', 'association', 'assisting', 'assistance', 'assholes', 'asshole', 'assembly', 'asks', 'asics', 'asia', 'ashayo', 'arwx', 'arts', 'artificial', 'arsonistmusic', 'arriving', 'arnhem', 'armed', 'ariaahrary', 'argument', 'area\\x89Û', 'architecture', 'architect', 'apt', 'approves', 'approval', 'appropriation', 'appreciated', 'appointment', 'applies', 'applications', 'applaud', 'apollobrown', 'apch', 'apartments', 'apart', 'aogashima', 'anza', 'any1', 'antonio', 'ante', 'answers', 'annoying', 'aniston', 'anger', 'anellatulip', 'and\\x89Û', 'andy', 'andrew', 'andor', 'ames', 'ameenshaikh3', 'ambulances', 'although', 'alot', 'alloy', 'alllivesmatter', 'allies', 'allegiance', 'allegations', 'alex', 'albany', 'alarms', 'alarmed', 'ahh', 'agents', 'agency', 'ag', 'aftershockdelo', 'afterlife', 'afp', 'affiliation', 'affiliate', 'affect', 'afc', 'advertised', 'adventures', 'advanced', 'adults', 'admit', 'admin', 'addition', 'adam', 'ad', 'acts', 'actor', 'activity', 'activities', 'acting', 'acted', 'acquisitions', 'acquire', 'acoustic', 'achimota', 'acdelco', 'accustomed', 'accounts', 'ac', 'abusing', 'abused', 'absolute', 'abortion', 'abomination', 'abomb', 'abc7', 'abbott', 'aa', '9pm', '9am', '96', '90th', '9000', '8pin', '87', '8615', '84', '83', '80', '75', '72w', '64', '5sosfam', '5s', '5c', '582', '57', '548', '530', '53', '4500feet', '3x', '3m', '3942', '375', '370', '37', '361', '360', '300000', '27w', '233liveonline', '23', '21a', '20s', '2082676773', '2016', '201516', '2012', '2005', '1998', '1986', '1979', '1976', '1974', '1965', '1943', '1916', '18wheeler', '166', '15th', '143', '140', '12news', '125', '118', '1145', '1100', '10km', '10401', '1030pm', '103', '0700', '070', '06jst', '02', '015025', '0104', 'åÊi', 'åÊfedex', 'åÈmgnafricaå¨', 'åÇ', 'å¬only', 'å©daniel', 'å¤', 'å£9', 'å£300m', 'å£27900end', 'å£150', 'å£100bn', 'Ìü', 'ÌÑ1', 'ÌÑ', '\\x89ã¢', '\\x89Û÷we', '\\x89Û÷vulnerable\\x89Ûª', '\\x89Û÷the', '\\x89Û÷ransomware\\x89Ûª', '\\x89Û÷nuclear', '\\x89Û÷nother\\x89Û\\x9d', '\\x89Û÷muslim', '\\x89Û÷minimum', '\\x89Û÷let\\x89Ûªs', '\\x89Û÷leaves', '\\x89Û÷islamic', '\\x89Û÷institute', '\\x89Û÷ill', '\\x89Û÷hoax', '\\x89Û÷food', '\\x89Û÷exceptional\\x89Ûª', '\\x89Û÷em', '\\x89Û÷devastated\\x89Ûª', '\\x89Û÷british', '\\x89Û÷bomb', '\\x89Û÷badges', '\\x89Û÷avalanche\\x89Ûª', '\\x89Û÷amino', '\\x89Û÷05', '\\x89ÛÓkody', '\\x89ÛÓher', '\\x89ÛÒåÊcnbc', '\\x89ÛÏyou', '\\x89ÛÏthehighfessions', '\\x89ÛÏsippin\\x89Ûª', '\\x89ÛÏplans', '\\x89ÛÏnobody', '\\x89ÛÏnews\\x89Û\\x9d', '\\x89ÛÏmake', '\\x89ÛÏmacdaddyleo', '\\x89ÛÏlove', '\\x89ÛÏlordbrathwaite', '\\x89ÛÏlolgop', '\\x89ÛÏlittle', '\\x89ÛÏleejasper', '\\x89ÛÏkeits', '\\x89ÛÏi', '\\x89ÛÏfor', '\\x89ÛÏdylanmcclure55', '\\x89ÛÏdetonate\\x89Û\\x9d', '\\x89ÛÏcat', '\\x89ÛÏbbcwomanshour', '\\x89ÛÏbbcengland', '\\x89ÛÏbasedgeorgie', '\\x89ÛÏall', '\\x89ÛÏairplane\\x89Û\\x9d', '\\x89ÛÏ', '\\x89Ûª93', '\\x89Û¢\\x89Û¢if', '\\x89Û¢im', '\\x89Û¢', 'zzzz', 'zumiez', 'zonewolf123', 'zonesthank', 'zombies', 'zombiefunrun2014', 'zojadelin', 'zmne', 'zippoline', 'zipper', 'zippednews', 'zipped', 'ziphimup', 'zip', 'zionists', 'zimpapersviews', 'zhenghxn', 'zhejiang', 'zero', 'zepp1978', 'zeno001', 'zenit', 'zenandemcfen', 'zehrs', 'zeal', 'zaynmalik', 'zarharzar', 'zar', 'zamtriossu', 'zaman', 'zakuun', 'zaire2005', 'zaibatsunews', 'zachzaidman', 'zach', 'zacb', 'z3kesk1', 'yyj', 'yyeso', 'yycweather', 'yycwalks', 'yycfringe', 'yuvi', 'yuuko', 'yuppies', 'yup', 'yunita99', 'yumiko', 'yukis', 'yug', 'ypres', 'ypg', 'yo\\x89Û', 'you\\x89Û\\x9d', 'you\\x89Û', 'youuu', 'yourselves', 'yourboyshawn', 'your4state', 'younoone', 'young\\x89Û', 'youngsafe', 'youngins', 'youngerampgrossly', 'younger', 'youheat', 'yosemite', 'yorkshire', 'yor', 'yolk', 'yolandaph', 'yogurt', 'yoga', 'yoenis', 'ymcglaun', 'ykelquiban', 'yikes', 'yield', 'yiayplan', 'yhngsjlg', 'yh', 'yeyeulala', 'yeshayad', 'yennora', 'yemenis', 'yelp', 'yelllowheather', 'yelled', 'yell', 'yehuda', 'yeehaw', 'yeda', 'yeahs', 'yeaahh', 'ye', 'yday', 'ybtheprophet', 'yamashiro', 'yamaguchi', 'yakub', 'yahootv', 'yahooschwab', 'yahoonewsdigest', 'yahoofinancehope', 'yahoocare', 'yahoo7', 'yahistorical', 'yagitudeh', 'yaboiluke', 'xxhjesc', 'xvii', 'xv', 'xtra1360', 'xrays', 'xojademarie124', 'xo', 'xmen', 'xmas', 'xl6162', 'xl', 'xkdrx', 'xii', 'xhnews', 'xgninfinity', 'xfiles', 'xeni', 'xela', 'xekstrin', 'xdojjjj', 'x37bs', 'x2', 'x1441', 'x1402', 'x1392', 'x1386', 'w\\x89Û', 'wzbt', 'wyattb23', 'wxky', 'wxii', 'wxiatv', 'wwwbigbaldhead', 'www', 'wwp', 'wwexdreamer', 'wwe', 'wwa', 'ww3', 'wut', 'wugliness', 'wtwitter', 'wtony', 'wthat', 'wth', 'wtc', 'wsoc', 'wsoaring', 'wsls', 'wsjthinktank', 'wsazbrittany', 'wrote', 'wrongperson', 'wrongdejavu', 'wron', 'wrked', 'writingtips', 'writings', 'writes4coffee', 'writers', 'wristband', 'wrinkled', 'wrightsboro', 'wrestleon', 'wreak', 'wrapped', 'wraith', 'wr', 'wqow', 'wpt994', 'wpt410', 'wps', 'wowsavannah', 'wout', 'woundedpigeon', 'wouldn\\x89Ûªt', 'wouldelectrocute', 'worstoverdose', 'worstever', 'worship', 'worseits', 'worm', 'worldwatchesferguson', 'worldvision', 'worldoil', 'worldnetdailyhomosexuality', 'worldlets', 'workout', 'workforce', 'worker', 'workd', 'wordk', 'wording', 'woodward', 'woods', 'woodland', 'woo', 'wonders', 'wonderousallure', 'wonderkid', 'wonderfully', 'wompppp', 'women\\x89Ûª', 'womengirls', 'womem', 'womb', 'wolter', 'wolforth', 'woken', 'wogc', 'woes', 'wocowae', 'woah', 'wnw', 'wnukes', 'wniagospel', 'wn', 'wmiddle', 'wm', 'wld', 'wlandslide', 'wkrn', 'wknd', 'wk', 'wizkidayo', 'wizard', 'witnessing', 'witnesses', 'witnessed', 'withåÊannihilation', 'withstand', 'withdrawur', 'withdraws', 'witches', 'witch', 'wishlist', 'wishing', 'wisely', 'wise', 'wisdomwed', 'wisdom', 'wisdc', 'wisconsin', 'wipes', 'wiped', 'winnipeg', 'winner', 'winik', 'wingers', 'winechat', 'wine', 'windy', 'windwakerstyle', 'windstormåÊinsurer', 'windstormfollow', 'windsor', 'windows10', 'windowgatribble', 'win10', 'wimp', 'wimbledon', 'wilsons', 'willow', 'willis', 'willinghearted', 'willienelson', 'willieami', 'willian', 'willhillbet', 'wildlionx3', 'wildlife', 'wildhorses', 'wilden', 'wii', 'wifi', 'wifekids', 'width', 'widout', 'wider', 'widda16', 'wickett', 'whyor', 'whvholst', 'who\\x89Û', 'whopperjr760', 'wholesale', 'whod', 'whocares', 'whitt', 'whitewashes', 'whitewalkers', 'whitehouse', 'whitbourne', 'whistled', 'whistleblower', 'whistle', 'whippenz', 'whipe', 'whine', 'while\\x89Û', 'whereas', 'wher', 'whelen', 'wheelsio', 'whedonesque', 'wheatley', 'whatevs', 'whatever', 'whashtag', 'whale', 'whag', 'whackamole', 'wha', 'wfries', 'wfaaweather', 'we\\x89Ûªve', 'we\\x89Ûªre', 'we\\x89Ûªll', 'weymouth', 'weyburn', 'wews', 'west\\x89Ûªs', 'westward', 'wests', 'weston', 'westmarch', 'westerosnah', 'westeros', 'westerncanadadrought', 'westchester', 'wesleylowery', 'wesley', 'weren\\x89Ûªt', 'wenger', 'wendell', 'welshninja87', 'weloveyoulouis', 'weloverobdyrdek', 'welovela', 'wellknown', 'welladjusted', 'welcomes', 'weirdo', 'weighs', 'weigh', 'weep', 'weeklong', 'weekends', 'weei', 'weebly', 'wednesday\\x89Û', 'wednes', 'wedneday', 'weddings', 'weddinghour', 'websites', 'webinar', 'weatherstay', 'wearethenews', 'weaponxmusic', 'wealthy', 'weallheartonedirection', 'weaknesses', 'weakness', 'wdyouth', 'wdym', 'wderailed', 'wcw', 'wcvb', 'wctv35', 'wce', 'wc', 'wbu', 'wbcshirl2', 'waziristan', 'waynesteratl', 'wayi', 'wayfieldstone', 'waved', 'wattys2015', 'wattpad', 'wattle', 'waters', 'waterfur', 'waterboarding', 'watchthevideo', 'watchout', 'watches', 'wasting', 'wastenoxious', 'wastelands', 'wasted', 'wasilla', 'washing', 'washard', 'waseembadami', 'war\\x89Û', 'warzone', 'warthen', 'wart', 'warriorcord', 'warrior', 'warra', 'warped', 'warningwild', 'warnings900037', 'warnerrobins', 'warned\\x89Û\\x9d', 'warn', 'warming', 'warmbodies', 'warlordqueen', 'warfare', 'wardens', 'ward', 'wank', 'wander', 'waltdisney', 'wall\\x89Û\\x9d', 'wallybaiter', 'walker', 'wales', 'walerga', 'wale', 'waldo', 'wakeupflorida', 'waiver', 'waited', 'waimea', 'wahpeton', 'wahhabism', 'wage\\x89Ûª', 'waferthin', 'wackos', 'vÌdeo', 'v\\x89Û', 'vzwsupport', 'vvorm', 'vulnera', 'vuln', 'vulcan', 'vtc', 'vroman', 'vra50\\x89Û\\x9d', 'voted', 'vosloorus', 'voodooben', 'voodoo', 'voluntary', 'voltaire', 'voltaic', 'volgagrad', 'volfan326', 'volcanodiscover', 'vol', 'void', 'voices', 'vodka', 'vocpetroleum', 'vocals', 'vocalist', 'vmas', 'vj44', 'vi\\x89Û', 'vixstuart', 'vixmeldrew', 'vivid', 'vivianunhcr', 'viviangiang', 'vivian', 'vivaargentina', 'vitesse', 'vitaly', 'vitalvegas', 'vita', 'visto', 'visiting', 'visionzero', 'vision', 'visible', 'viscous', 'virtual', 'virg', 'vir', 'violentfeminazi', 'violators', 'violations', 'violation', 'vinustrip', 'vinnie', 'vines', 'vincent', 'vimvith', 'vimeo', 'villicanaalicia', 'villa', 'vilelunar', 'vigils', 'vigilent', 'views', 'viennabutcher', 'victorious', 'victorinox', 'victorias', 'victorian', 'victoriagittins', 'vickybrush', 'vicken52', 'vichardy', 'vibrator', 'vibrates', 'vibe', 'viab', 'vhs', 'vets78734', 'veteran', 'vestment', 'vest', 'veronicadlcruz', 'vern', 'vermilion', 'verhoek', 'vergil', 'verde', 'venture', 'ventilated', 'vent', 'venoms', 'venice', 'veneto', 'veldfest', 'veld', 'vela', 'veins', 'veil', 'veggies', 'vegassolitude', 'vegan', 'veg', 'vaxshill', 'vast', 'various', 'varagesale', 'vape', 'vanpoli', 'vannuyscouncil', 'vanishing', 'vanished', 'vanilla', 'vanessas', 'vanessa', 'vanderbilt', 'vandalized', 'vancouveråÊisland', 'vampires', 'valuations', 'vallerand', 'valle', 'valentines', 'vale', 'valdes1978', 'vail', 'vai', 'vaginaorcake', 'vagersedolla', 'vaccines', 'vacancies', 'vaca', 'v452', 'uve', 'uv', 'utp', 'utopian', 'utilized', 'utility', 'utica', 'utfire', 'utd', 'utc5km', 'utc20150806', 'utahcanary', 'uswarcrimes', 'uspacific', 'usnwsgov', 'usmnt', 'ushiocomics', 'ushed', 'usfs', 'usdot', 'usbush', 'usatodaynfl', 'usat', 'usar2015', 'usar15', 'usamisan', 'usama', 'usage', 'us70', 'us101', 'urufusanragu', 'uruan', 'ursula', 'urogyn', 'urine', 'urgentthere', 'urg', 'urbanisation', 'urbanfashion\\x89Û', 'urban', 'upwindstorm', 'upwards', 'uptownjorge', 'uptown', 'upsetting', 'uprooting', 'uprootin', 'uploading', 'uplifting', 'upi', 'uphill', 'upgrades', 'upcoming', 'upah', 'upa', 'unwarranted', 'untill', 'untangle', 'untameddirewolf', 'unsure', 'unsuccessful', 'unstoppable', 'unstablethe', 'unstable', 'unsigned', 'unsensibly', 'unsecured', 'unrest', 'unrecognized', 'unrealtouch', 'unreal', 'unr', 'unpredictable', 'unplug', 'unpacked', 'unloads', 'unknowingly', 'universityoflaw', 'uniteblue', 'unite', 'uninvestigated', 'unimpressed', 'uniforms', 'unhinged', 'unharmed', 'unhappy', 'ungodly', 'unfortunemelody', 'unfollow', 'unfilled', 'unfair', 'unexplainable', 'unexercised', 'undone', 'undetected', 'undeserving', 'underwritersenior', 'underwriter', 'understood', 'understand\\x89Û\\x9d', 'understandable', 'undergroundrailraod', 'undergroundbestsellers', 'underestimate', 'uncover', 'uncontrolled', 'uncontrollable', 'unconsciously', 'unconscious', 'unconditional', 'uncommon', 'uncles', 'uncertain', 'unbelievably', 'unaware', 'unarmed', 'unaddressed', 'unable', 'umm', 'umbrella', 'um', 'ultra', 'ultimatum', 'ullman', 'uk\\x89Ûªs', 'ukraines', 'uknews', 'ukfrance', 'ukfloods', 'uhmmmm', 'uhhhhh', 'uhc', 'uglypeople', 'uglyamesocialaction', 'ugc', 'ufo4ublogeurope', 'ufn', 'udom', 'udhampuragain', 'uchicago', 'uae', 'uabstephenlong', 'u2', 't\\x89Û', 'tyrone', 'tyrant', 'typography', 'typing', 'typewriter', 'tyleroakley', 'tyar', 'txt', 'txlege', 'tx', 'twx', 'twoptwips', 'twoout', 'twitsandiego', 'twisterlovesshania', 'twist', 'twins', 'twimbos', 'twill', 'twentynine', 'tweetstorm', 'tweetlikeitsseptember11th2001', 'tweetinglew', 'tweeting', 'tweeted', 'tweet4taiji', 'tween', 'tweak', 'twcnewsclt', 'twcnews', 'tw4rw', 'tvshowtime', 'tvjnews', 'tutorials', 'tutor', 'turner', 'turnedonfetaboo', 'turbojet', 'tunisian', 'tunisia', 'tunis', 'tunas', 'tulowitzki', 'tullamarine', 'tuicruises', 'tuffers', 'tuesdays', 'tucson', 'tub', 'tu', 'ttw', 'tthe', 'ttes', 'tsutomi', 'tsunamis', 'tsunaminopeach', 'tsipras', 'tshirts', 'tshirt', 'truthsof', 'trusted', 'trunks', 'trunk', 'trump2016', 'trulystings', 'truelove', 'trucking', 'truckcrash', 'tru', 'trpreston01', 'trp', 'troyslaby22', 'troylercraft', 'troye', 'troupe', 'troubleonmymind', 'troubleniallhariss', 'trophyhunt', 'trophies', 'tropes', 'trooper', 'trombonetristan', 'trollingtilmeekdiss', 'troisrivieres', 'trivium', 'triumphs', 'triumphant', 'triumph', 'tripoli', 'trinna', 'trinity', 'trim', 'trillac', 'trident', 'trickxie', 'trickshot', 'trickier', 'triciaoneillphoto', 'triciaoneill', 'tribez', 'tribe', 'trib', 'triangle', 'triad', 'treyarch', 'trestle', 'trends', 'trending', 'tren', 'tremors', 'tremont', 'tremblayeh', 'trekkers', 'trek', 'treescape', 'treblinka', 'treatmen', 'treating', 'treasures', 'treasurehouse', 'trc', 'travelling', 'travellers', 'travelelixir', 'trashed', 'trash', 'traplord29', 'transwomen', 'transportation', 'transporta', 'transgress', 'transgenerational', 'transgendered', 'transcription', 'trampling', 'trajectories', 'traitor', 'traintragedy', 'trained', 'trails', 'trailheads', 'trailed', 'trafficalert', 'traditionalist', 'trader', 'trade', 'tradcatknight', 'trad', 'tractor', 'tracklist', 'tracey', 'traces', 'trace', 'tra', 'tps', 'tprimo24', 'to\\x89Û', 'tozlet', 'toyota', 'toxicsavior', 'toxiccancerdiseasehazardous', 'toxic', 'towns', 'towing', 'tower\\x89Ûª', 'tower', 'towboat', 'tours', 'tourofutah', 'tournaments', 'tournament', 'tourists', 'tounge', 'toughens', 'touching', 'totteham', 'totalitarianism', 'totalitarian', 'tosu', 'toss', 'tos', 'tory', 'tort', 'torso', 'torrential', 'torrent', 'torontorc', 'tornadogiveaway', 'tornadoes', 'tories', 'torch', 'tora', 'topstories', 'topnews', 'topic', 'topdown', 'top25', 'tootrue', 'toosoon', 'toooooo', 'tookitlikeaman', 'tookem', 'toocodtodd', 'tonysandos', 'tonymcguinness', 'tonycottee1986', 'tonyburke', 'tonyakappes11', 'tony', 'tonne', 'tonguetwister', 'ton', 'tommorow', 'tomlinson', 'tomdean86', 'tomclancy', 'tomatoes', 'tomarse99', 'tolewantg', 'tolerated', 'tokteacher', 'toilets', 'toiindianews', 'togthe', 'toes', 'toenail', 'toddyrockstar', 'toddstarnes', 'todaythat', 'todayngr', 'todayng', 'todayhave', 'today4got', 'tod', 'tobiasellwood', 'tnwx', 'tnn', 'tneazzy', 'tna', 'tn', 'tms7', 'tmake', 'tlvfacesauspol', 'tlvfaces', 'tloz', 'tlk', 'tkyonly1fmk', 'tjrobertson2', 'titty', 'tittie', 'titortau', 'titolo', 'titanic', 'titania', 'titadom', 'tita', 'tirelessly', 'tire', 'tipster', 'tip', 'tinybaby', 'tiny', 'tinted', 'ting', 'tindering', 'tinderbox', 'timmicallef', 'timing', 'timeworld', 'timestack', 'timesofindia', 'timesap', 'timelapse', 'timed', 'timebomb', 'time4mesews', 'timber', 'timaroberts', 'tightly', 'tiggr', 'tigersjostun', 'tigers', 'tiffanyfrizzell', 'tier', 'tied', 'tie', 'tide', 'tidalhifi', 'ticklemeshawn', 'tic', 'tiaramarei', 'tianta', 'th\\x89Û', 'thursd', 'thurlow', 'thunderstormtornado', 'thundersnow', 'thundering', 'thucydiplease', 'tht', 'thruuu', 'thrusts', 'throwin', 'throwback', 'thrones', 'throat', 'thriving', 'threesome', 'threealarm', 'threat\\x89Ûª', 'threatintel', 'threatconnect', 'thread', 'thrarchives', 'thr', 'thoutaylorbrown', 'thoughwill', 'thou', 'thoroughly', 'thorium', 'thorgan', 'thomasvissman22', 'thomassmonson', 'thomashcrown', 'thnk', 'this\\x89Û', 'thisiswhywecanthavenicethings', 'thisispublichealth', 'thisisperidot', 'thisishavehope', 'thisisfaz', 'thisdayinhistory', 'thirst', 'thinner', 'thinks', 'thinkpink', 'thighs', 'thigh', 'thief', 'thh', 'they\\x89Ûªd', 'theyd', 'thexfiles201days', 'thewesterngaz', 'thetxi', 'thetwisterokc', 'thetshirtkid', 'thetimepast', 'thestrain', 'thesteveharveyshow', 'thesewphist', 'thesensualeye', 'thereof', 'thereisonlysex', 'therein', 'therefore', 'therealrittz', 'thereal', 'theramin', 'thepartyofmeanness', 'theological', 'then\\x89Û', 'thenewshype', 'theneeds', 'themhe', 'themayhoka', 'themalemadonna', 'themaine', 'themagickidraps', 'thelonevirologi', 'thelegendblue', 'thejonesesvoice', 'thejenmorillo', 'theirs', 'thehammers', 'theghostparty', 'thegame', 'theft', 'theevilolives', 'theemobrago', 'thedoolinggroup', 'thedarktower', 'thedailyshow', 'thedailybeast', 'theconspiracytheory', 'thecomedyquote', 'thebuffshow', 'thebriankrause', 'thebookclub', 'theblaze', 'theblackshag', 'thebargain', 'theatres', 'theatlantic', 'theatershooting', 'theashes', 'thda', 'that\\x89Û', 'thatswhatfriendsarefor', 'thatrussianman', 'thatpersianguy', 'thatnot', 'thatfatguy', 'thatdes', 'thatd', 'thankyou', 'thankkk', 'thankful', 'thalapathi', 'thailand', 'thai', 'tfw', 'tfb', 'texture', 'texts', 'texting', 'texaschainsawmassacre', 'texansdc', 'texans', 'testy', 'testimonials', 'testify', 'testified', 'testicles', 'teslas', 'tesco', 'terwilliger', 'tersestuff', 'terrorism\\x89Ûª', 'territory', 'terrified', 'terrific', 'terrain', 'termn8r13', 'terminated', 'term', 'terell', 'tepat', 'tenshi', 'tennoatax', 'tenno', 'tennis', 'tennews', 'tends', 'tend', 'tem\\x89Û', 'temps', 'temporary', 'temporarily', 'temecula', 'telnet', 'tellyfckngo', 'tellyampi', 'telly', 'telltales', 'telemarketing', 'telekinesis', 'tee\\x89Û', 'teenfiction', 'teena797', 'teemo', 'teeess', 'tee', 'teduka', 'teddy', 'tedcruz2016', 'tecno', 'techniqu', 'technical', 'teases', 'tear', 'team\\x89Û', 'teamvodg', 'teamsurvivors', 'teamstream', 'teamscorpion', 'teamo', 'teammates', 'teamhennessy', 'teamatowinner', 'teahivetweets', 'teafrystlik', 'tdog', 'tdm', 'tcotåÊccot', 'tch', 'tcgreno', 'tcc', 'tbt', 'tbs', 'tbr', 'tblack', 'tbh', 'taylorswift13', 'taylors', 'taykreidler', 'tayiorrmade', 'taxstone', 'taxreturn', 'taxpayers', 'taxes', 'tawfmcaw', 'taungbazar', 'taufikcj', 'tattoos', 'tattooed', 'tat', 'tastemycupcakee', 'tasted', 'tasks', 'tarynel', 'tarp', 'tarmineta3', 'tarletonsophie', 'targeted', 'targe', 'tareksocal', 'taraswart', 'taoistinsight', 'tantrums', 'tanslash', 'tangletalk', 'tangled', 'tanehisicoates', 'tampabay', 'tammyw1997', 'tambourine', 'tallest', 'talks', 'talkradio', 'talkinghell', 'talkin', 'talked', 'talkecologyamphuman', 'talisman', 'tales', 'tale', 'takis', 'takin', 'takehome', 'takecare', 'takeaways', 'taipei', 'taint', 'tailor', 'tail', 'tahoeblazeravalanches10', 'tagging', 'tagged', 'tae', 'tadhgtgmtel', 'tactics', 'tactful', 'tacos', 'tackettdc', 'tacit', 'tac', 'taaylordarr', 't1000s', 's\\x89Ûªarabia', 'szuter', 'szmnextdoor', 'systematic', 'sys', 'syringetoanger', 'symptoms', 'symbol', 'symantec', 'syd', 'swtrains', 'sworn', 'swords', 'swollen', 'swivels', 'switzerland', 'switching', 'switch', 'swiss', 'swingman', 'swiming', 'swiftycommissh', 'swiftly', 'swept', 'swellyjetevo', 'swells', 'sweets', 'sweetpeas', 'sweetiebirks', 'sweet2young', 'sweeping', 'sweep', 'swedish', 'sweatfyi', 'sweated', 'sweat', 'swea', 'swb1192', 'swayoung01', 'swayback', 'swarm', 'swanger', 'swam', 'svetlana', 'sux', 'suvs', 'sustainable', 'suspicious', 'suspense', 'suspended', 'suspects', 'susinesses', 'sushi', 'susanj357', 'survivorsr', 'surviving', 'suruÌ¤', 'surrounding', 'surprises', 'surgical', 'surges', 'surfspa', 'surfphoto', 'surety', 'sureshprabhu', 'sureshpprabhu', 'suregod', 'supremo', 'supposedly', 'suppose', 'supportive', 'supporting', 'supporthealthhomebathroomsupportelderlyinjureds\\x89Û', 'supporters', 'superv', 'superstitions', 'superpower', 'supernovalester', 'supermarket', 'superiority', 'superintendent', 'superintende', 'superfood', 'superbug', 'superb', 'sunyorange', 'sunshine', 'sunsets', 'suns', 'sunrays', 'sunnis', 'sunk\\x89Û1', 'sunflower', 'sundercr', 'sunday\\x89Ûªs', 'sundays', 'suncorp', 'sunburst', 'sunbathe', 'sumn', 'summons', 'summon', 'summervibes', 'summerslam', 'summers', 'summerinsweden', 'summerhallery', 'summer2k15', 'sul', 'suites', 'suited', 'suitable', 'suit', 'suing', 'suicides', 'suicidebycop', 'suh', 'suggs', 'suffield', 'sufficiently', 'suffice', 'suffers', 'sudden', 'sucking', 'suckers', 'sucked', 'suck', 'subway', 'subtornado', 'subtle', 'substantial', 'subsequent', 'subsd', 'subscription', 'submitting', 'submissions', 'submerged', 'subjected', 'subcontractor', 'subconscious', 'subatomic', 'su', 'stylist', 'stylishly', 'styled', 'stvmlly', 'stury', 'sturgis', 'stupidniggr', 'stunningly', 'stung', 'stunckle', 'stump', 'stuffin', 'studying', 'studies', 'studebaker', 'stuartbroad8', 'strutting', 'strutted', 'struggling', 'struggle', 'structuring', 'strongminded', 'strongly', 'strongest', 'strives', 'striptease', 'strips', 'strip', 'striking', 'striker', 'striked', 'strictly', 'strict', 'strickskin', 'stretches', 'stretcherbearers', 'stretcherbearer', 'stretched', 'stressing', 'stresses', 'strength', 'streetlight', 'streamyxhomesouthern', 'streams', 'stray', 'strawberrysoryu', 'strawberries', 'strategyhua', 'strategies', 'strap', 'strangers', 'strand', 'straits', 'strains', 'strain', 'straightfire', 'sto\\x89Û', 'stormtrooper', 'stormlike', 'storming', 'stormfree', 'stormchase', 'stormbeard', 'storey', 'storen', 'stop\\x89Û\\x9d', 'stopping', 'stoponesounds', 'stopharper', 'stopevictions', 'stood', 'stony', 'stonewall', 'stones', 'stonebrewingco', 'stolen', 'stokes', 'stockwell', 'stocks', 'stockholm', 'sto', 'stlouis', 'stlnd', 'stl', 'stil', 'stiiilo', 'stickynyc', 'sticky', 'sticking', 'sticker', 'sthing', 'stfxuniversity', 'stew', 'stevie', 'steveycheese99', 'stevenrulles', 'stevenontwatter', 'stern', 'sterlingscott', 'sterling', 'stepkans', 'stephenson', 'stephenscifi', 'stephenking', 'stephanenny', 'steph93065', 'step', 'stemming', 'stem', 'steep', 'steellord', 'steamship', 'stealth', 'steals', 'steady', 'stds', 'stays', 'stavernise', 'stations', 'stationcdrkelly', 'state\\x89Û', 'states\\x89Û', 'statesville', 'statements', 'stat', 'starve', 'startrek', 'startide', 'startelegram', 'starr', 'starmade', 'starks', 'stark', 'starflamegirl', 'stare', 'stardate', 'starbs', 'stankyboy88', 'standup', 'standstill', 'standforwolves', 'standardized', 'standardised', 'standardanonymous', 'stan', 'stallion150', 'stalled', 'stalins', 'stalag', 'staining', 'staid', 'stages', 'staged', 'staff\\x89Û', 'staffing', 'stacks', 'stacedemon', 'stacdemon', 'ssu', 'ssssnell', 'ssshhheeesshh', 'ssb4', 'srk', 'srajapakse', 'sr37', 'sr14', 'sr', 'squirrel', 'squibby', 'squeezed', 'squeaky', 'squabble', 'sq', 'spyro', 'spying', 'spx', 'sputtering', 'sputnik', 'spurs', 'spurgeon', 'spur', 'spså¨', 'spsgsp', 'sprite', 'sprinklers', 'springer', 'spree', 'spreads', 'spread', 'spray', 'sprains', 'spouting', 'spouse', 'spotting', 'spotlight', 'sportsroadhouse', 'sportinggoods', 'sporten', 'spookyfob', 'spontaneously', 'sponge', 'spokes', 'spoke', 'spoiled', 'spoil', 'splattershot', 'splatoon', 'splatling', 'splatdown', 'splash', 'spit', 'spins', 'spin', 'spilled', 'spike', 'spies', 'spiderweb', 'spice', 'spends', 'spencerfearon', 'spells', 'spell', 'speedtech', 'speeding', 'speech', 'speculation', 'speculatio', 'specs', 'specifically', 'specials', 'specialized', 'specialize', 'specialist', 'specialguest', 'speakingfromexperience', 'speak', 'sparxxx', 'spartans', 'sparks', 'sparking', 'spark', 'spaniel', 'span', 'spammers', 'spam', 'spacex', 'spacewolverine', 'spaceangelseven', 'soz', 'sow', 'south\\x89Û', 'southwestern', 'southwest', 'southridgelife', 'southline', 'southkorea', 'southdown', 'sousse', 'soundtrack', 'sounders', 'soultech', 'soulja', 'souda', 'sothwest', 'sos', 'sorryi', 'sorrybutitstrue', 'sorrows', 'sorrowful', 'sorrower', 'sorrow', 'sorely', 'sophieingle01', 'soonpandemonium', 'soonermagic', 'soonergrunt', 'sonyprousa', 'sonoranrattler', 'sonofbobbob', 'sonisoner', 'sonia', 'soni', 'songhey89', 'songfor', 'soner', 'sond', 'sona', 'somme', 'somethin\\x89Ûª', 'someday', 'solved', 'solve', 'soloquiero', 'solelinks', 'sole', 'soldi', 'solano', 'sojapan', 'soggy', 'softball', 'sofa', 'sods', 'sockets', 'socket', 'socialtimes', 'socialmediadriven', 'socially', 'socal', 'soc', 'sobbing', 'soapscoop', 'soaking', 'snuck', 'snowy', 'snowstormhailstorm', 'snowflake', 'snowball', 'snotgreen', 'snort', 'snooker', 'snippets', 'sniping', 'snipe', 'sniiiiiiff', 'sniff', 'sni', 'sneaks', 'snazzychipz', 'snapping', 'snapharmony', 'snapchatselfie', 'snakes', 'snack', 'smugglersåÊnabbed', 'smugglers', 'smug', 'smth', 'sms087809233445', 'sms', 'smores', 'smoothed', 'smoochy', 'smokes', 'smoakqueen', 'smithereens', 'smirking', 'smfh', 'smelltaste', 'smells', 'smelling', 'smelled', 'smell', 'smeared', 'smb', 'smashing', 'smartteks', 'smartnews', 'smantibatam', 'smallforestelf', 'smaller', 'smallbusiness', 'smallbiz', 'slums', 'slumber', 'slsp', 'slsandpet', 'slows', 'slosheriff', 'slosher', 'slopeofhope', 'slone', 'slogan', 'slithering', 'slit', 'slipping', 'slipper', 'slimebeast', 'slight', 'sliding', 'slideshare', 'sliced', 'slept', 'sleepjunkies', 'sleeper', 'slay', 'slaves', 'slavery', 'slave', 'slaughter', 'slatukip', 'slating', 'slated', 'slapping', 'slams', 'slam', 'slain', 'slabs', 'sl', 'skywars', 'skyscrapers', 'skyrim', 'skynews', 'skynet', 'skyler', 'skye', 'skull', 'skipping', 'skip', 'skinless', 'skims', 'skimmed', 'skiing', 'ski', 'skh', 'sketchbook', 'skardu', 'skaggs', 'sk398', 'sjubb', 'sizewell', 'sittway', 'siteinvestigating', 'sis', 'sirtophamhat', 'sirmixalot', 'sirmione', 'sirius', 'sirenvoice', 'sirens\\x89Û', 'sirensong21', 'sirensamp', 'sirbrandonknt', 'sippin', 'sip', 'sinkingshipindy', 'sinkingfund', 'sinistras', 'singled', 'singlecar', 'sindh', 'sincerely', 'sincere', 'since3g', 'since1970the', 'simpson\\x89Û', 'simplyvain', 'simply', 'simplify', 'simmons', 'simmering', 'similar', 'silvery', 'silverwood', 'silverstar58200', 'silverman', 'silverhusky', 'silo', 'silly', 'silinski', 'silentmind', 'silent0siris', 'silenced', 'silas', 'sikh', 'sigue', 'signing', 'signin', 'significance', 'signal', 'sigmund', 'sigh', 'sifting', 'sif', 'siena', 'sidjsjdjekdjskdjd', 'siding', 'side\\x89Û', 'sidewalk', 'sidelinesavage', 'si', 'shuts', 'shuffled', 'shuffle', 'shud', 'shtf', 'shtap', 'sht', 'showwent', 'showing', 'showersstorms', 'showers', 'showdown', 'shovel', 'shove', 'shoutout', 'shouted', 'shout', 'shouout', 'shotgun', 'shorts', 'shop\\x89Ûªs', 'shops', 'shopping', 'shoppe', 'shopcollision', 'shootoutåÊ', 'shootings', 'shootas', 'shoook', 'sholt87', 'shocking', 'shoalstraffic', 'shizune', 'shiver', 'shitton', 'shite', 'shira', 'shipsxanchors', 'shines', 'shimmyfab', 'shii', 'shifts', 'shifter', 'shifted', 'shield', 'shidddd', 'shias', 'shia', 'she\\x89Ûªs', 'shevlinhixon', 'sheriffs', 'shen', 'shemesh', 'sheltersupport', 'shells', 'shelli', 'shekhargupta', 'shedid', 'shedding', 'shayoly', 'shawie17shawie', 'shatter', 'sharply', 'shark\\x89Û\\x9d', 'shark', 'sharing', 'sharif', 'sharia', 'shar', 'shaping', 'shaper', 'shapeand', 'shaolin', 'shantaeskyy', 'shantaehalfgeniehero', 'shantaeforsmash', 'shaniatwain', 'shania', 'shanghai', 'shanaynay', 'sham', 'shakjn', 'shakingcatching', 'shakespeares', 'shakes', 'shakeology', 'shaken', 'shake', 'shaheed', 'shadowman', 'shadowflame', 'shade', 'shaabi', 'sha', 'sgc72', 'sg', 'sfgiants', 'sfa', 'sexydragonmagic', 'sexycumshots', 'sexuality', 'sewing', 'seward', 'sewage', 'severely', 'seventies', 'sevenfold', 'sevenfigz', 'setzorah', 'settle', 'setting4success', 'setsuko', 'setanta', 'sessions', 'session', 'serving', 'servicin', 'servicesft7p7a', 'server', 'serve', 'servants', 'serephina', 'serene', 'serbian', 'seras', 'sequence', 'sequalae', 'separation', 'separated', 'separate', 'sentient', 'sentenced', 'sensory', 'sensorknock', 'sensitive', 'sensanders', 'senfeinstein', 'senators', 'senatemajldr', 'senate', 'sen', 'seminars', 'semi', 'semasirtalks', 'selmoooooo', 'selmo', 'selling', 'selfseeking', 'selfpity', 'selfinflict', 'selfesteem', 'selfdestruction', 'selfdelusion', 'selfavowed', 'selects', 'select', 'sel', 'sejorg', 'seizing', 'seize', 'seismicsoftware', 'segment', 'segas', 'sef', 'seeweed', 'seemeth', 'seemed', 'seeker', 'seeds', 'seed', 'seduction', 'sedar', 'sedan', 'securing', 'secures', 'securedgt', 'secured', 'secondhand', 'seclusion', 'sebee', 'seaworld', 'seawalls', 'seattletimes', 'seattledot', 'seats', 'seatbelt', 'seasonfrom', 'seashore', 'seas', 'seanpeconi', 'seanhannity', 'seagulls', 'seagull07', 'sd', 'scynic1', 'scum', 'sct014', 'scseestapreparando', 'scrolling', 'scriptettesar', 'screwed', 'screenshot', 'screening', 'screeching', 'screamsdont', 'screamqueens', 'scratching', 'scratches', 'scraptrident', 'scraped', 'scrambledeggs', 'scouts', 'scout', 'scourgue', 'scourge', 'scotto519', 'scottdpierce', 'scotrail', 'scotiabank', 'scorpions', 'scored', 'scorched', 'scoopit', 'scofield', 'scmpnews', 'scissor', 'scientist', 'sciencefiction', 'scichat', 'schoolboy\\x89Ûªs', 'scholars', 'schoenfeld', 'schism\\x89Ûª', 'schelbertgeorg', 'scheer', 'scenes', 'scegnews', 'scattered', 'scasualty', 'scaryeven', 'scarlet', 'scarier', 'scares', 'scandals', 'scandal', 'scam', 'scalpium', 'scaligero', 'scabs', 'sbnation', 'sbee', 'sb57', 'sa\\x89Û', 'say\\x89Û\\x9d', 'sayin', 'sayedridha', 'savour', 'savior', 'saveti', 'saver', 'savedenaliwolves', 'savebees', 'savannahross4', 'savagenation', 'saunders', 'saumur', 'saudies', 'saudiarabia', 'saturation', 'saturated', 'satoshis', 'satisfying', 'satire', 'satin', 'satellites', 'satanaofhell', 'sask', 'sasha', 'sarumi', 'sarniamakchris', 'sarcastic', 'sarcasm', 'sarahmcpants', 'sarahksilverman', 'sara', 'sapphirescallop', 'san\\x89Ûªa', 'santos', 'santanicopandemonium', 'sansa', 'sanjaynirupam', 'sanity', 'sanitizing', 'sanfrancisco', 'sanelesstheory', 'sandunes', 'sandra', 'sanders', 'sand', 'sanctioned', 'sanction', 'samsmithworld', 'sampling', 'samples', 'sample', 'sammysosita', 'sammy', 'samihonkonen', 'sami', 'samelsamel', 'sam', 'salyersblairhall', 'salvation', 'salvages', 'salvadors', 'salvadoran', 'salvador', 'salute', 'salted', 'salon', 'salmanmydarling', 'salman', 'sally', 'salisbury', 'sales', 'salado', 'saladinahmed', 'sakuuchiha', 'saku', 'sakhalintribune', 'saison', 'saintsfc', 'saint', 'sailors', 'sailing', 'sahel', 'sagacioussaber', 'safferoonicle', 'safaris', 'sadtraumatised', 'saddledome', 'saddle', 'sacrifice', 'sackville', 'sackings', 'sabrina', 'sabotagei', 'sabcnewsroom', 'saat', 'saalon', 'saadthe', 's61231a', 's5', 's3xleak', 's2g', 's01e09', 'ryt', 'ryrotheunaware', 'ryleedowns02', 'ryans', 'ryanoss123', 'rwrabbit', 'rwa', 'rvfriedmann', 'rvaping101', 'rvacchianonydn', 'rv', 'rutherford', 'ruthann', 'russiaukraine', 'russellville', 'russell', 'russaky89', 'rushhour', 'rural', 'rupaul', 'ruor', 'run\\x89Û', 'runnin', 'runnerjoy', 'runner', 'runkeeper', 'runjewels', 'runin', 'rundown', 'runaway', 'rumah', 'rum', 'ruling', 'ruler', 'ruled', 'ruining', 'ruhl', 'rude', 'ruddyyyyyy', 'rubybot', 'ruby', 'rubi', 'rubbing', 'rubbin', 'rubbery', 'rtsampdemocracy', 'rtrrt', 'rtirishirr', 'rtcom', 'rt4amention', 'rslm72254', 'rsf', 'rsa', 'rs5', 'rs40000cr', 'rrusa', 'rrbc', 'rq', 'rpn', 'rpics', 'rp', 'roy', 'rowysolouisville', 'rowyso', 'rowaa', 'roving', 'rover', 'routing', 'routes', 'router', 'rousey', 'roundhouse', 'round2', 'roughdeal1', 'rotting', 'rotten', 'rotations', 'rotation', 'rotating', 'rosters', 'roster', 'rossbarton', 'roskomnadzor', 'rosemarytravale', 'rosalie', 'rory', 'rorington95', 'ropes', 'roomsgrrrr', 'rooms', 'roomr', 'rooftops', 'roofers', 'ronincarbon', 'ronge', 'rondarousey', 'ronda', 'ron', 'romford', 'romes', 'romero', 'romeocrow', 'romeo', 'romania', 'romanatwoodvlogs', 'roman', 'rolo', 'rolling\\x89Û', 'roles', 'roleplay', 'role', 'rolandonabeats', 'roimentor', 'rohnertparkdps', 'roh3smantibatam', 'roguewatson', 'rogers', 'roga', 'rods', 'rodkiai', 'rodarmer21', 'rockstar', 'rockn', 'rockingham', 'rocking', 'rockefellerchirockefellerunivheiress', 'rockbottomradfm', 'rochdale', 'robthieren', 'robpulsenews', 'robotlvl', 'robotcoingame', 'robot', 'robertoneill31', 'robertmeyer9', 'robertharding', 'robertcalifornia', 'robertbenglunds', 'robdelaney', 'robbiewilliams', 'robbie', 'robbed', 'roar', 'roanoketimes', 'roanoke', 'roadwayproperty', 'roadid', 'rnk', 'rlauren83199', 'rl', 'rjkrraj', 'rjailbreak', 'rizzo', 'rivers', 'riverroaming', 'riveeeeeer', 'rivals', 'rivalry', 'ritzyjewels', 'ritualistic', 'ritual', 'rite', 'risky', 'ris', 'rips', 'ripriprip', 'ripples', 'ripple', 'ripping', 'rioslade', 'riooooos', 'rio2016', 'rinkydnk2', 'rindou', 'rin', 'rijn', 'rihanna', 'rightwaystan', 'rightways', 'righteous', 'rigga', 'rig', 'riding', 'ridiculously', 'riddler', 'ricotta\\x89Û', 'rico', 'rickybonessxm', 'rickets', 'ricin', 'richelieusaintlaurent', 'richarkkirkarch', 'richardson', 'rich', 'riceechrispies', 'ribbon', 'rhode', 'rhinestone', 'rhiannon', 'rhett', 'rhee1975', 'rfp', 'rezaphotography', 'reworked', 'rewatchingthepilot', 'revolutionblight', 'revolt', 'revitup', 'reviewing', 'reviewers', 'reverse', 'revere', 'revenge', 'revel', 'reveillertm', 'revealing', 'reusing', 'returning', 'retroactive', 'retooled', 'retirement', 'retirees', 'retiredfilth', 'retard', 'retainers', 'resumed', 'restrospect', 'restoringpaths', 'restoring', 'restlessness', 'resting', 'restaurant', 'restart', 'resque', 'respects', 'respecting', 'resource', 'resolved', 'resoluteshield', 'resistant', 'resin', 'resilience', 'resigninshame', 'residualincome', 'residual', 'residence', 'reshrimplevy', 'reshareworthy', 'reshape', 'reset', 'reserved', 'resemblance', 'researchers', 'rescuing', 'rescuersthe', 'rescued\\x89Û', 'rescuedagain', 'rescueadoptionlocal', 'rescind', 'reriellechan', 'requiem', 'requests', 'reputation', 'repulsive', 'reprocussions', 'reprises', 'repression', 'representing', 'representative', 'repped', 'reporters', 'reply', 'replacement', 'replaced', 'repjohnkatko', 'repdonbeyer', 'repay', 'repatriating', 'repairs', 'reopens', 'reopen', 'reoccur', 'renunciedilma', 'rent', 'renovation', 'renewed', 'renew911health', 'rendered', 'render', 'renamed', 'ren', 'remymarcel', 'removing', 'remote', 'remorseless', 'remodeled', 'remixes', 'reminders', 'reminder', 'reminded', 'remind', 'remembrance', 'rememberrabaa', 'remedial', 'rembr', 'remaster', 'remarkably', 'remark', 'remand', 'remainontop', 'remade', 'relegation', 'relay', 'relaxinpr', 'relations', 'rejoice', 'reiterate', 'reined', 'reince', 'reimagining', 'regime', 'reggaeboyz', 'regent', 'regc', 'regardless', 'regarding', 'reg', 'refunds', 'refund', 'refugees\\x89Û', 'refugeesvictimiserdutton', 'refugeesmatter', 'reflects', 'reflections', 'reflected', 'referring', 'referencereference', 'refer', 'reeves', 'reef', 'reed', 'reebok', 'redwing', 'reduces', 'redsox', 'redskins', 'reds', 'redlight', 'redistribute', 'redhead', 'redhanded', 'redesigning', 'redesigned', 'redemption', 'redeemeth', 'redeem', 'reddish', 'reddevil4life', 'reddakushgodd', 'redcoatjackpot', 'redcliffe', 'redbull', 'recruitment', 'recruiting', 'recovered', 'recordhigh', 'recordand', 'recommended', 'recommendations', 'recoil', 'recognition', 'recognised', 'reckon', 'recip', 'receives', 'receipts', 'recalled', 'recal', 'rec', 'rebuilding', 'reboot', 'reblogged', 'rebelled', 'rebeccaforreal', 'rebecca', 'rebahes', 'reator', 'reassigned', 'realm', 'realliampayne', 'realizations', 'realization', 'realities', 'realistic', 'realism', 'realhotcullen', 'realhiphop', 'realestate', 'reafs', 'reads', 'reacts', 'reactors', 'reactorbased', 'reached', 'reaad', 'rdg', 'rcmp', 'rchs', 'rbi', 'razing', 'razedåÊ\\x89ÛÒ', 'razak', 'rayquazaerk', 'raychielovesu', 'rawfoodbliss', 'ravioliåÊwith', 'rave', 'raung', 'rationing', 'ratio', 'ratingscategories', 'rates', 'rat', 'rascal', 'raredealsuk', 'rar', 'raptorsbeg', 'rappers', 'rapidcity', 'raped', 'rape', 'rants', 'rantipozi', 'rant', 'ransacked', 'ranks', 'ranking', 'rank', 'raniakhalek', 'rangerkaitimay', 'rang', 'randy', 'randpaul', 'randomtourist', 'randomthought', 'randerson62', 'randallpinkston', 'rand', 'rams', 'rampage', 'ramp', 'rammed', 'ramat', 'ram', 'ralph', 'raisinfingers', 'raishimi33', 'rainy', 'rainwindstorm', 'rainforestresq', 'rainfall', 'rainbows', 'railways', 'railway', 'railroad', 'railguns', 'raidersreporter', 'raiders', 'rahulkanwal', 'raheelsharif', 'raheel', 'raging', 'rag', 'radychildrens', 'radneck', 'radler', 'radios', 'radioriffrocks', 'radical', 'rachelrofe', 'racer', 'raccoons', 'rabidmonkeys1', 'rabbit', 'rabaa', 'raabchar28', 'ra', 'r5live', 'r3do', 'r1354', 'qz', 'qvc', 'quottelevision', 'quotoperations', 'quotes', 'quoteoftheday', 'quoted', 'quizzed', 'quirk', 'quiet', 'quests', 'questioning', 'questionfatalityflawless', 'questergirl', 'quem', 'queenåÊ', 'queenwendy', 'queenswharf', 'queensland', 'queenmy', 'que', 'quartz', 'quarters', 'quarter', 'quarrels', 'quarrel', 'quarantine\\x89Û', 'quantit\\x89Ûhttpstco64cymg1ltg', 'quals', 'qualit', 'quadrillion', 'qty', 'qpr1980', 'qotring', 'qnh', 'qld', 'qew', 'qave', 'qampa', 'q99', 'q2', 'q13', 'q1', 'python', 'pyrotechnic', 'pyrbliss', 'pyramidhead76', 'pyjamas', 'pxnatosil', 'pwhvgwax', 'pvris', 'pvc', 'puts', 'puth', 'pussyxdestroyer', 'pusssssssssy', 'pushing', 'push2left', 'push', 'purposely', 'purpose', 'purported', 'purpleturtlerdg', 'purely', 'purdies', 'puppyshogun', 'pup', 'puny', 'punk', 'punishment', 'punishing', 'pundit', 'puncture', 'pumpkins', 'pumper', 'pumped', 'pummel', 'pulse', 'pull\\x89Ûone\\x89Ûyou', 'pullup', 'pugwash', 'pugprobs', 'pug', 'puff', 'puerto', 'puddle', 'puckflattened', 'publishing', 'publish', 'publichealth', 'pub', 'pu', 'pt1', 'psychrewatch', 'psychologist', 'psychological', 'psqd', 'psp', 'psm', 'psfda', 'pseudojuuzo', 'psd', 'psalms', 'psalm3422', 'ps4', 'ps2', 'ps1', 'prysmian', 'proxy', 'provokes', 'provocation', 'province', 'provided', 'proven', 'prove', 'proudgreenhome', 'proud', 'protostates', 'protoshoggoth', 'protestors', 'protesters', 'protein', 'protected', 'prosyn', 'prosser', 'prosper', 'prosecute', 'pros', 'proposed', 'proposal', 'prophets', 'prophecy', 'properly', 'propelled', 'propaganda', 'proof', 'pronouncing', 'prompting', 'prompt', 'promoted', 'promised', 'prom', 'prolong', 'prolly', 'proliferation', 'projectiles\\x89ÛÒ', 'prohibits', 'progressives', 'progress4ohio', 'programs', 'profittothepeople', 'professionally', 'profbriancox', 'productive', 'production', 'producthunt', 'produces', 'producer', 'produc', 'prodemocracy', 'prodding', 'process', 'proc', 'probs', 'probability', 'prob', 'privilege', 'prisonplanet', 'prisoners', 'priorities', 'printing', 'printed', 'principles', 'princessduck', 'princeoffencing', 'primarily', 'primalkitchen', 'primal', 'priests', 'priest', 'pride', 'previously', 'previews', 'preventative', 'prettyboyshyflizzy', 'pretenses', 'presume', 'preston\\x89Ûªs', 'prestige', 'presstv', 'presssec', 'pressing', 'presser', 'presley', 'presinkhole', 'president\\x89Û\\x9d', 'presidential', 'preset', 'preserve', 'preservation', 'presentation', 'preseason', 'preschool', 'presbad', 'preppertalk', 'preppers', 'preparedelectrocutedboiling', 'prensa', 'premises', 'premiere', 'premier', 'prem', 'preferably', 'preferable', 'prefecture', 'preemptive', 'predynastic', 'predictions', 'prediction', 'preconditioning', 'precisionistic', 'precedent', 'preaching', 'preacher', 'praying', 'prayforsaipan', 'prayed', 'praiz8', 'praise', 'pragnik', 'practitioner', 'practicing', 'practices', 'pra', 'ppsellsbabyparts', 'ppor', 'ppc', 'pp15000266858', 'pozarmy', 'pox', 'powerwow', 'powers', 'powerhiroshima', 'powder', 'pow', 'pours', 'pouring', 'pour', 'pounds', 'pounding', 'potter', 'pots', 'potatoes', 'pot', 'postponed', 'postexistence', 'postering', 'postcards', 'postcapitalism', 'postbattle', 'postapocalypticflimflam', 'postal', 'poss', 'positivity', 'positively', 'poses', 'portugal', 'portgassdk', 'portfolio', 'portaloos', 'portable', 'porno', 'pornhub', 'porcupine', 'porcini', 'population6', 'popular', 'popeyes', 'popehat', 'popcorn', 'pop2015', 'polluted', 'pollster', 'politicized', 'politicians', 'politely', 'polit', 'policyholders', 'policies', 'pole', 'polaroids', 'polar', 'pokemoncards', 'pokemon', 'point\\x89Û', 'pointless', 'pointing', 'poignant', 'pogo', 'podcast', 'poconorecord', 'pochette', 'po', 'pmarca', 'plymouth', 'plummeting', 'plumbing', 'plugin', 'plsss', 'plotted', 'ploppy', 'pll', 'plez', 'pledged', 'pleb', 'pleasantly', 'pleasant', 'pleaded', 'plaza', 'playthrough', 'playingnow', 'platt', 'platinum', 'plastics', 'plastic', 'plants', 'plantcovered', 'plantations', 'planners', 'plannedparenthood', 'planing', 'planetary', 'planes', 'plaguing', 'placed', 'pl', 'pkwy', 'pizzas', 'pizzarev', 'pixelsmovie', 'pixelcanuck', 'pixar', 'pivot', 'pity', 'pittsburgh', 'pitmix', 'pitchwars', 'pitchers', 'pitcher', 'pitched', 'pit', 'piss', 'pisco', 'pisces', 'pirate', 'piracy', 'pir', 'piprhys', 'piping', 'piperwearsthepants', 'pipeliners', 'pioneerpress', 'pink', 'pineview', 'pin263789f4', 'pin2327564d', 'pills', 'pillows', 'pilgrims', 'piles', 'pikin', 'pikachu', 'pigeon', 'piga', 'piercings', 'piercing', 'pierce', 'pieceofme', 'picthis', 'pickup', 'pickle', 'pickerel', 'photoop', 'photographs', 'photographed', 'photogenic', 'phnotf', 'phillipten', 'phillips', 'philippines\\x89Û', 'philippine', 'philippi', 'phiddleface', 'phelimkine', 'phdsquares', 'pharrell', 'phantasmal', 'phandom', 'phalaborwa', 'ph0tos', 'pga', 'pft', 'pfft', 'petty', 'petting', 'pets', 'petitionno', 'petersens', 'petersburg', 'peterknox', 'peterhowenecn', 'petereallen', 'peterduttonmp', 'petebests', 'pete', 'petchary', 'peta', 'pet', 'personally', 'personalize', 'personalinjury', 'persistent', 'persist', 'persecution', 'perrychat', 'perrybellegarde', 'perrie', 'perquisite', 'perpetrators', 'permission', 'perkpearl', 'periwinkle', 'peritoengrafoscopia', 'perished', 'periscope', 'perform', 'perfectly', 'perceive', 'pepperoni', 'peoplegt', 'peoplecommunication', 'penny', 'pennlive', 'pennington', 'pennies', 'penneys', 'peninsula', 'pelosis', 'peice', 'peeters', 'peers', 'peeped', 'peel', 'peeked', 'pee', 'pedro20', 'pediatric', 'pedestrians', 'pedals', 'peasants', 'pearlharbor', 'pearl', 'peale', 'peace\\x89Ûª', 'peacetime', 'peaceloverescue', 'pea', 'pdxabq', 'pdx911', 'pd', 'pci', 'pcaldicott7', 'pbx', 'pbs', 'pbohanna', 'pbcanpcx', 'pb', 'payment', 'paying', 'paydayprison', 'payday', 'payback', 'paxton', 'pawsox', 'paws', 'paulstaubs', 'paulista', 'paulhollywood', 'pattyds50', 'pattonoswalt', 'patterns', 'patrol', 'patriotsnation', 'patriots', 'patriot', 'patrickwsls', 'patrickjbutler', 'patio', 'patients', 'patientreported', 'paths', 'pathfinders', 'patched', 'pastie', 'pasta', 'password', 'passive', 'pascoe', 'pascal', 'partys', 'partner', 'parties', 'particulatebreak', 'particular', 'participating', 'partially', 'parter', 'partake', 'parsholics', 'pars', 'parliment', 'parliamentary', 'parley\\x89Ûªs', 'parksboardfacts', 'parks', 'parkchat', 'parisian', 'parentsacrossam', 'parental', 'parent', 'pardon', 'paratroopers', 'paranormal', 'paramedics', 'paraguay', 'paradise', 'parade', 'paracord', 'para', 'papiichampoo', 'papicongress', 'papi', 'paperwork', 'paperback', 'papcrdoll', 'papa', 'panties', 'panther', 'pantalonesfuego', 'panoramic', 'panik', 'pandora', 'pandemoniumiso', 'pandemic', 'panda', 'panay', 'panama', 'pams', 'pampalmater', 'palmoil', 'palmer', 'palm', 'palinfoen', 'palestinian\\x89Û', 'palermo', 'pakthey', 'pakistan\\x89Ûªs', 'pakistans', 'pajamas', 'painful', 'paine', 'paid', 'paging', 'pageparkescorp', 'pagasa', 'padres', 'padded', 'pada', 'pact', 'pacquiao', 'packing', 'packages', 'package', 'pacing', 'pacifics', 'pacic', 'p45perez', 'p2', 'oyster', 'oworoshoki', 'owen', 'ovo', 'overåÊhostages', 'overzero', 'overwhelming', 'overwatch', 'overturns', 'overturned', 'overturn', 'overturesplease', 'overtook', 'overtaking', 'oversee', 'oversaturated', 'overrun', 'overrated', 'overpriced', 'overlooking', 'overlooked', 'overhead', 'overflow', 'overdrive', 'overcome', 'overcharging', 'oven', 'ovaries', 'ov', 'ouwbball', 'ouvir', 'ouvindo', 'outs', 'outrun', 'outright', 'outnumbering', 'outlet', 'outfield', 'outcry', 'outcomes', 'outburst', 'outbreed', 'outbreaks', 'outbound', 'outage', 'our\\x89Û', 'oup', 'oun', 'ought', 'otratmetlife', 'otp', 'otm', 'otleyhour', 'other\\x89Û\\x9d', 'other\\x89Û', 'otd', 'osteen', 'osp', 'osi2016', 'osbourne', 'osama', 'osage', 'os', 'oryx', 'ortiz', 'orpol', 'orpik', 'ori\\x89Û', 'orianna', 'ori', 'organizing', 'organizers', 'organized', 'organizationsfluctuations', 'organizations', 'organisms', 'organicallyrude', 'organic', 'org', 'oregons', 'ordained', 'orcot', 'orchs', 'orchid', 'orchestrated', 'orchardalley', 'orchard', 'orcas', 'orbette', 'orapinforma', 'orangi', 'orangeblue', 'oracle', 'optioned', 'optimization', 'opticscumper', 'optich3cz', 'optical', 'optic', 'opseaworld', 'oprah', 'oppressed', 'opposition', 'oppose', 'opportunity', 'oppa', 'opinionated', 'ophiuchus2613', 'opera', 'opener', 'oped', 'opal', 'op', 'ootd', 'oooooohhhh', 'ooooohshit', 'ooohshit', 'oooh', 'oompahperiod', 'oomf', 'oocvg', 'oo', 'onåÊthe', 'onå¡å¡', 'on\\x89Û', 'onufrance', 'onthisday', 'ontejc', 'onshit', 'onr', 'onnnn', 'onlinemh370', 'onlinea', 'onlin', 'onion', 'onihimedesu', 'onfireanders', 'onesie', 'oneman', 'oneheartonemindonecss', 'onegreenplanet', 'oneborn', 'onboard', 'omw', 'omron', 'ombudsmanship', 'omarmolina036', 'omaha', 'olympia', 'ollymursaus', 'olliebailey11', 'oliviamiles01', 'oliviaapalmerr', 'olivers', 'oliver', 'oline', 'oli', 'oldtimey', 'olds', 'ol', 'oktxduo', 'oktaviana', 'okla', 'okinawan', 'okgooner', 'okcfox', 'okayyyyyy', 'okanowa', 'ojoubot', 'oiled', 'oilandgas', 'oifoef', 'oi', 'ohyayyyyay', 'ohmyloz', 'ohmygoshi', 'ohlordy', 'ohhsehuns', 'ohhmyjoshh', 'ohhhh', 'ohgod', 'ogun', 'ogtomd', 'ofnsixjks', 'offtrackhorse', 'offspring', 'offsite', 'offshoot', 'offs', 'offramp', 'offloading', 'offline', 'offing', 'officialtjonez', 'officialmqm', 'officialcoredjs', 'office\\x89Ûªs', 'officerrelated', 'offenders', 'offended', 'ofentsetsie', 'ofcourse', 'ofclans', 'oem', 'odell', 'odeekiti', 'oddball', 'odai', 'ocuana', 'oct', 'ocnj', 'oclock', 'oceans', 'occurrence', 'occupational', 'ocampo', 'oc73x', 'obviously', 'obtaing', 'obsolete', 'observer', 'observed', 'obscuring', 'oblivious', 'obligatory', 'obligations', 'objective', 'objection', 'obedience', 'obamas', 'oakridge', 'nå¼36', 'nz', 'nyse', 'nypdnews', 'nyozi', 'nylon', 'nycha', 'nycdivorcelaw', 'nyack', 'ny35', 'ny1burst', 'ny1', 'nwsbayarea', 'nvr', 'nuys', 'nutsandboltssp', 'nuts', 'nut', 'nurgle', 'nuked', 'nui', 'nuh', 'nugget', 'nuff', 'nueva', 'nuclearweapons', 'nucleardeal', 'nuclearbiologicalchemical', 'ntsb', 'nsw', 'nsit', 'nside', 'nsf', 'nsa', 'nrc', 'nra', 'nprfreshair', 'nowt', 'novels', 'novalismi', 'nov', 'nout', 'not\\x89Û', 'nottingham', 'notrocketscience', 'notre', 'notorious', 'notoriety', 'notleys', 'notley', 'noting', 'notified', 'notificationsu', 'notifications', 'nothingness', 'notgoingoutinthat', 'notexplained', 'notes', 'nosybe', 'nostrils', 'nosso', 'nosports', 'noses', 'northwestern\\x89Û', 'northumbria', 'northumberland', 'northerncalifornia', 'northeast', 'northbound', 'northbayhealth', 'northampton', 'nort', 'norse', 'normally', 'norge2040', 'norfolk', 'noranda', 'nora', 'nopower', 'noperiferico', 'nope', 'nopassenger', 'noooo', 'noonancindynoonanheartbreak', 'noodles', 'nonucleariran', 'nonprofit', 'nonpassenger', 'nonlife', 'nonhazardous', 'nonenglish', 'nomorehandouts', 'nomiya', 'nominations', 'nominates', 'nolesfan05', 'nola', 'nojoke', 'noises', 'noirandeal', 'nogo', 'noemotion', 'noel', 'nockthie', 'noches', 'nobleman', 'noahj456', 'noahcrothman', 'no2', 'nnw', 'nno', 'nne', 'nlccollide', 'nl', 'nkulw', 'njenga', 'nj36', 'nittys', 'nitroglycerin', 'nite', 'nissannews', 'niqqa', 'nintendo', 'ninja', 'nikostar', 'nikoniko12022', 'nikki', 'nikistitz', 'niiiice', 'nightsad', 'nights', 'nightmarishly', 'nightmarish', 'nightmares', 'nightbeat', 'nigeltanner1', 'nieces', 'nicolekidman', 'nicole', 'nicolaclements4', 'nickscomics', 'nicklee8', 'nickcocofree', 'nick', 'nic', 'niamhosullivanx', 'niagaravehicles', 'niagara', 'nia', 'nhs', 'nhlducks', 'nh1news', 'nghlth', 'ngata', 'ng2x5', 'nfpa', 'nflexpertpicks', 'nffc', 'nf', 'nexus', 'next\\x89Û', 'newåÊheights', 'new\\x89Û', 'newyork\\x89Û', 'newyorker', 'newyorkcity', 'newyear', 'newspaper', 'newsnigeria', 'newser', 'newsdict', 'newscomauhq', 'news786uk', 'news4buffalo', 'news3lv', 'news24680', 'newport', 'newly', 'newidea', 'newep', 'newcity', 'newbeginningsanimalrescue', 'newave', 'neverforget', 'nevaehburton33', 'nevadas', 'neur0sis', 'netlabel', 'netkicorp', 'netflix', 'netanyahu', 'nester', 'nerve', 'nervana1', 'nepdloyko', 'neoprogressive1', 'neon', 'nennicook', 'nemesiskpes', 'nelson', 'neileastwood77', 'neil', 'neighbors', 'neighboring', 'negotiating', 'negara', 'needing', 'necros', 'necn', 'neces', 'neat', 'nearlyfatal', 'nearing', 'neanderrebel', 'neal', 'ndzedze', 'ndtv', 'ncwx', 'ncms', 'nbcpolitics', 'nbc15', 'nbc10', 'nb', 'nazis', 'nazi', 'naypyidaw', 'nawh', 'navista7', 'navigating', 'navigate', 'naval', 'natwest', 'naturally', 'naturaldisasters', 'natsu', 'natsnation', 'nats', 'nativehuman', 'nationals', 'nathans', 'nate', 'nataly', 'nataliealund', 'natalia', 'nashvilletraffic', 'nashvillefd', 'nashsnewvideo', 'nashhmu', 'nasasolarsystem', 'narry', 'narrowly', 'narrator', 'narrated', 'narendramodi', 'nap', 'nana', 'namjoons', 'namekians', 'nalathekoala', 'naked', 'najibrazak', 'nails', 'nagelashley', 'nagaski', 'nafeezahmed', 'nades', 'naaa', 'n15b', 'm\\x89Û', 'mzmandilynn', 'my\\x89Û', 'myths', 'mythgriy', 'mysteries', 'myrtlegroggins', 'myreligion', 'mylittlepwnies3', 'mylifestory', 'myfriendmina', 'myfitnesspal', 'myelf', 'mycareer', 'mybabies', 'mxaaaa', 'mx', 'mwnhappy', 'mwlippert', 'mwjcdk', 'mwednesday', 'muzzies', 'mutual', 'muttatek', 'mutt', 'mutekmontreal', 'mustve', 'mustachemurse', 'musk', 'musicians', 'musicadvisory', 'music212', 'muschamps', 'murlo', 'murfreesboro', 'murderers', 'muppet', 'munch', 'mums', 'mumbling', 'mumbaitimes', 'multiracial', 'multidimensional', 'multidimensi', 'multicasualty', 'mullin', 'mullah', 'mulberry', 'mulan', 'muhamadjabal', 'mugged', 'muffle', 'mueller', 'muazimusprime', 'mtvsummerstar', 'mtsalert', 'mthe', 'mtgrotto', 'mta', 'msmigot', 'msmiggi', 'msgdoing111welfareworks', 'msfsea', 'mrw', 'mrtophypup', 'mrsbinker', 'mrrobinson', 'mrobama', 'mrmikeeaton', 'mre', 'mrc', 'mraffleck', 'mraamirjavaid', 'mprnews', 'mpp', 'mpers', 'mpc', 'mp3', 'mo\\x89Û', 'moyo', 'movietheatre', 'moveit', 'mouth', 'mousse', 'mouse', 'mounts', 'mounting', 'mountains\\x89Û', 'mountainous', 'moulding', 'motors', 'motordom', 'motorcycles', 'motogp', 'motley', 'motivator', 'motivation', 'motivated', 'mothernaturenetwork', 'mothernature', 'mothe', 'mosquitoes', 'mosquito', 'mosh', 'moseby', 'moscowghost', 'moscow', 'morty', 'mortified', 'moron', 'morocco', 'mornings', 'morningjoe', 'morningampi', 'morn', 'mormon', 'morganlawgrp', 'morganite', 'more\\x89ÛÓ', 'morevoices', 'morethan', 'moreland', 'moregtosha', 'mordechai', 'morbidmovies', 'morbid', 'moralityzionism', 'morales', 'moores', 'moore', 'mooniighthunty', 'monwabisi', 'monty', 'montroseband', 'monthly', 'montego', 'montalbanony', 'monstrosities', 'monsters', 'monster', 'monroes', 'monotonous', 'monopolized', 'monologue', 'monkey', 'monitoring', 'monicas', 'monetary', 'monday\\x89Ûªs', 'mondays', 'monday', 'monarchy', 'mon', 'momneedscoffee', 'mommyisbomb', 'momdies', 'moly', 'molten', 'mollythetanzs', 'molecularly', 'mold', 'moist', 'moir', 'mohammed', 'mogacola', 'mofo', 'mofanon', 'moe', 'modoc', 'modnao23', 'modis', 'modiministry', 'modi', 'modest', 'modernized', 'modernize', 'moderately', 'modelbubbles', 'mockingpanems', 'mockery', 'mocked', 'mobile', 'moan', 'mmmmmm', 'mmk', 'mmfa', 'mmchale13', 'mm', 'mlrydalch', 'mlm', 'mlk', 'ml', 'mkayla', 'mk', 'mizzou', 'mizuta', 'mixify', 'mixes', 'mitigating', 'mithitennis', 'misty', 'mistrustful', 'mistresspip', 'mistress', 'mistreated', 'mistakes', 'mistaken', 'missy', 'missleylaha', 'missjadebrown', 'mississippi', 'misscharleywebb', 'misled', 'mishacollins', 'misha', 'misguided', 'misfortunebut', 'misfitrarity', 'misfit', 'misery', 'misdirection', 'miscalculation', 'mirrors', 'mirrorlady2', 'mirmanda11', 'mirad', 'mir', 'miprv', 'mipasho', 'minutiae', 'minuscule', 'minus', 'mint', 'minsuwoongs', 'mins', 'minors', 'mino', 'mink', 'ministry', 'ministersays', 'minion', 'minimehh', 'minimal', 'miniature', 'mingo', 'minerals', 'mineness', 'mineenjoyfire', 'mineenjoybabes', 'mindset', 'mindmischief', 'mindless', 'minded', 'mindblowing', 'minas', 'minamisoma', 'mina', 'milne', 'millennium', 'milledgeville', 'millcityio', 'militias', 'militarydotcom', 'militarism', 'milita', 'milioooo', 'mili5499', 'mileena', 'mildmannered', 'milc5040h', 'mil', 'mikecroninwmur', 'mihirssharma', 'migrating', 'migrants\\x89Û', 'migraine', 'midwest', 'midweek', 'midtown', 'midsummer', 'midst', 'midsouth', 'midmorning', 'midget', 'midges', 'midfield', 'mideast', 'middleeasteye', 'midday', 'microwave', 'microphone']\n"
     ]
    }
   ],
   "source": [
    "print(words_in_vocab)"
   ]
  },
  {
   "cell_type": "code",
   "execution_count": 38,
   "id": "9e2aa6e2",
   "metadata": {},
   "outputs": [
    {
     "name": "stdout",
     "output_type": "stream",
     "text": [
      "Model: \"model\"\n",
      "_________________________________________________________________\n",
      " Layer (type)                Output Shape              Param #   \n",
      "=================================================================\n",
      " input_1 (InputLayer)        [(None, 1)]               0         \n",
      "                                                                 \n",
      " text_vectorization_1 (Text  (None, 15)                0         \n",
      " Vectorization)                                                  \n",
      "                                                                 \n",
      " embedding (Embedding)       (None, 15, 128)           1280000   \n",
      "                                                                 \n",
      " global_average_pooling1d (  (None, 128)               0         \n",
      " GlobalAveragePooling1D)                                         \n",
      "                                                                 \n",
      " dense (Dense)               (None, 1)                 129       \n",
      "                                                                 \n",
      "=================================================================\n",
      "Total params: 1280129 (4.88 MB)\n",
      "Trainable params: 1280129 (4.88 MB)\n",
      "Non-trainable params: 0 (0.00 Byte)\n",
      "_________________________________________________________________\n"
     ]
    }
   ],
   "source": [
    "model_1.summary()"
   ]
  },
  {
   "cell_type": "code",
   "execution_count": 39,
   "id": "5cbc677f",
   "metadata": {},
   "outputs": [
    {
     "data": {
      "text/plain": [
       "[array([[ 3.06590106e-02, -5.83841987e-02,  9.66789608e-04, ...,\n",
       "          2.24323515e-02, -7.94077106e-03, -1.73459388e-02],\n",
       "        [-2.79735737e-02,  1.92289660e-03,  2.76995506e-02, ...,\n",
       "         -8.41352530e-03,  7.47956941e-03,  1.97324753e-02],\n",
       "        [-1.64806247e-02, -3.45112830e-02, -9.46229137e-03, ...,\n",
       "         -5.89915179e-02, -2.79662907e-02, -1.68004464e-02],\n",
       "        ...,\n",
       "        [ 1.45154014e-01, -1.22912660e-01,  8.43560249e-02, ...,\n",
       "         -8.25616643e-02,  8.03922266e-02,  1.28983855e-01],\n",
       "        [ 2.21315380e-02,  1.26165454e-04,  4.19442728e-02, ...,\n",
       "         -4.92380820e-02,  7.77338445e-02,  9.62018818e-02],\n",
       "        [ 7.08704293e-02, -1.06414936e-01,  1.15541749e-01, ...,\n",
       "         -1.17005184e-01,  1.02479704e-01,  7.72643015e-02]], dtype=float32)]"
      ]
     },
     "execution_count": 39,
     "metadata": {},
     "output_type": "execute_result"
    }
   ],
   "source": [
    "embedd_weight=  model_1.get_layer(name=\"embedding\").get_weights()\n",
    "embedd_weight"
   ]
  },
  {
   "cell_type": "code",
   "execution_count": 40,
   "id": "24fa69b9",
   "metadata": {},
   "outputs": [],
   "source": [
    "# we got this from docs\n",
    "import io\n",
    "out_v = io.open('vectors.tsv', 'w', encoding='utf-8')\n",
    "out_m = io.open('metadata.tsv', 'w', encoding='utf-8')\n",
    "\n",
    "for index, word in enumerate(words_in_vocab):\n",
    "  if index == 0 or index >= len(embedd_weight):\n",
    "    continue  # skip 0, it's padding.\n",
    "  vec = embedd_weight[index]\n",
    "  out_v.write('\\t'.join([str(x) for x in vec]) + \"\\n\")\n",
    "  out_m.write(word + \"\\n\")\n",
    "out_v.close()\n",
    "out_m.close()"
   ]
  },
  {
   "cell_type": "markdown",
   "id": "466f25b1",
   "metadata": {},
   "source": [
    "# Part_2:RNN"
   ]
  },
  {
   "cell_type": "code",
   "execution_count": 41,
   "id": "d3200942",
   "metadata": {},
   "outputs": [
    {
     "data": {
      "text/plain": [
       "array(['Courageous and honest analysis of need to use Atomic Bomb in 1945. #Hiroshima70 Japanese military refused surrender. https://t.co/VhmtyTptGR',\n",
       "       '@ZachZaidman @670TheScore wld b a shame if that golf cart became engulfed in flames. #boycottBears',\n",
       "       \"Tell @BarackObama to rescind medals of 'honor' given to US soldiers at the Massacre of Wounded Knee. SIGN NOW &amp; RT! https://t.co/u4r8dRiuAc\",\n",
       "       'Worried about how the CA drought might affect you? Extreme Weather: Does it Dampen Our Economy? http://t.co/fDzzuMyW8i',\n",
       "       '@YoungHeroesID Lava Blast &amp; Power Red #PantherAttack @JamilAzzaini @alifaditha',\n",
       "       \"Wreckage 'Conclusively Confirmed' as From MH370: Malaysia PM: Investigators and the families of those who were... http://t.co/yi54XRHQGB\",\n",
       "       'Our builder is having a dental emergency. Which has ruined my plan to emotionally blackmail him this afternoon with my bump.',\n",
       "       'BMX issues Areal Flood Advisory for Shelby [AL] till Aug 5 9:00 PM CDT http://t.co/62OddEkVLi',\n",
       "       \"#360WiseNews : China's Stock Market Crash: Are There Gems In The Rubble? http://t.co/aOd2ftBMGU\",\n",
       "       \"@RobertONeill31 Getting hit by a foul ball while sitting there is hardly a freak accident. It's a war zone.\"],\n",
       "      dtype=object)"
      ]
     },
     "execution_count": 41,
     "metadata": {},
     "output_type": "execute_result"
    }
   ],
   "source": [
    "train_sentences[:10]"
   ]
  },
  {
   "cell_type": "markdown",
   "id": "d368cb75",
   "metadata": {},
   "source": [
    "## Model_2:LSTM"
   ]
  },
  {
   "cell_type": "code",
   "execution_count": 42,
   "id": "9be8b69e",
   "metadata": {},
   "outputs": [
    {
     "name": "stdout",
     "output_type": "stream",
     "text": [
      "(None, 15, 128)\n",
      "(None, 15, 64)\n",
      "(None, 64)\n",
      "(None, 64)\n"
     ]
    }
   ],
   "source": [
    "inputs= tf.keras.layers.Input(shape=(1,),dtype=tf.string)\n",
    "\n",
    "x= text_vector(inputs)\n",
    "x= embedding(x)\n",
    "print(x.shape)\n",
    "x= tf.keras.layers.LSTM(units=64,return_sequences=True)(x)\n",
    "print(x.shape)\n",
    "x=tf.keras.layers.LSTM(units=64)(x)\n",
    "print(x.shape)\n",
    "x=tf.keras.layers.Dense(64,activation=\"relu\")(x)\n",
    "print(x.shape)\n",
    "outputs= tf.keras.layers.Dense(1,activation=\"sigmoid\")(x)\n",
    "\n",
    "model_2= tf.keras.Model(inputs,outputs)"
   ]
  },
  {
   "cell_type": "code",
   "execution_count": 43,
   "id": "d827f535",
   "metadata": {},
   "outputs": [
    {
     "name": "stdout",
     "output_type": "stream",
     "text": [
      "Model: \"model_1\"\n",
      "_________________________________________________________________\n",
      " Layer (type)                Output Shape              Param #   \n",
      "=================================================================\n",
      " input_2 (InputLayer)        [(None, 1)]               0         \n",
      "                                                                 \n",
      " text_vectorization_1 (Text  (None, 15)                0         \n",
      " Vectorization)                                                  \n",
      "                                                                 \n",
      " embedding (Embedding)       (None, 15, 128)           1280000   \n",
      "                                                                 \n",
      " lstm (LSTM)                 (None, 15, 64)            49408     \n",
      "                                                                 \n",
      " lstm_1 (LSTM)               (None, 64)                33024     \n",
      "                                                                 \n",
      " dense_1 (Dense)             (None, 64)                4160      \n",
      "                                                                 \n",
      " dense_2 (Dense)             (None, 1)                 65        \n",
      "                                                                 \n",
      "=================================================================\n",
      "Total params: 1366657 (5.21 MB)\n",
      "Trainable params: 1366657 (5.21 MB)\n",
      "Non-trainable params: 0 (0.00 Byte)\n",
      "_________________________________________________________________\n"
     ]
    }
   ],
   "source": [
    "model_2.summary()"
   ]
  },
  {
   "cell_type": "code",
   "execution_count": 44,
   "id": "a415866e",
   "metadata": {},
   "outputs": [],
   "source": [
    "model_2.compile(loss=tf.keras.losses.BinaryCrossentropy(),\n",
    "                optimizer=tf.keras.optimizers.Adam(),\n",
    "                metrics=[\"accuracy\"])"
   ]
  },
  {
   "cell_type": "code",
   "execution_count": 45,
   "id": "1e74e402",
   "metadata": {},
   "outputs": [
    {
     "name": "stdout",
     "output_type": "stream",
     "text": [
      "Epoch 1/5\n",
      " 17/191 [=>............................] - ETA: 12s - loss: 0.4572 - accuracy: 0.9228"
     ]
    },
    {
     "name": "stdout",
     "output_type": "stream",
     "text": [
      "191/191 [==============================] - 10s 39ms/step - loss: 0.1357 - accuracy: 0.9583 - val_loss: 0.9253 - val_accuracy: 0.7676\n",
      "Epoch 2/5\n",
      "191/191 [==============================] - 4s 20ms/step - loss: 0.0813 - accuracy: 0.9698 - val_loss: 0.7874 - val_accuracy: 0.7623\n",
      "Epoch 3/5\n",
      "191/191 [==============================] - 3s 16ms/step - loss: 0.0706 - accuracy: 0.9724 - val_loss: 0.8597 - val_accuracy: 0.7787\n",
      "Epoch 4/5\n",
      "191/191 [==============================] - 3s 15ms/step - loss: 0.0591 - accuracy: 0.9767 - val_loss: 1.1128 - val_accuracy: 0.7741\n",
      "Epoch 5/5\n",
      "191/191 [==============================] - 3s 14ms/step - loss: 0.0485 - accuracy: 0.9777 - val_loss: 0.8168 - val_accuracy: 0.7820\n"
     ]
    }
   ],
   "source": [
    "model_2_history=model_2.fit(train_sentences,\n",
    "                            train_labels,\n",
    "                            epochs=5,\n",
    "                            validation_data=(val_sentences,val_labels))"
   ]
  },
  {
   "cell_type": "code",
   "execution_count": 46,
   "id": "e22f46e2",
   "metadata": {},
   "outputs": [
    {
     "name": "stdout",
     "output_type": "stream",
     "text": [
      "48/48 [==============================] - 1s 5ms/step\n"
     ]
    },
    {
     "data": {
      "text/plain": [
       "array([[0.01418416],\n",
       "       [0.04879099],\n",
       "       [0.03762298],\n",
       "       ...,\n",
       "       [0.9999211 ],\n",
       "       [0.99999547],\n",
       "       [0.99950576]], dtype=float32)"
      ]
     },
     "execution_count": 46,
     "metadata": {},
     "output_type": "execute_result"
    }
   ],
   "source": [
    "model_2_pred_prob= model_2.predict(val_sentences)\n",
    "model_2_pred_prob"
   ]
  },
  {
   "cell_type": "code",
   "execution_count": 47,
   "id": "763533b4",
   "metadata": {},
   "outputs": [
    {
     "data": {
      "text/plain": [
       "<tf.Tensor: shape=(1523,), dtype=float32, numpy=array([0., 0., 0., ..., 1., 1., 1.], dtype=float32)>"
      ]
     },
     "execution_count": 47,
     "metadata": {},
     "output_type": "execute_result"
    }
   ],
   "source": [
    "model_2_pred= tf.squeeze(tf.round(model_2_pred_prob))\n",
    "model_2_pred"
   ]
  },
  {
   "cell_type": "code",
   "execution_count": 48,
   "id": "809839cd",
   "metadata": {},
   "outputs": [
    {
     "data": {
      "text/plain": [
       "{'accuracy': 78.20091923834536,\n",
       " 'Recall': 71.1864406779661,\n",
       " 'Precision': 76.11202635914333,\n",
       " 'f1_score': 73.56687898089172}"
      ]
     },
     "execution_count": 48,
     "metadata": {},
     "output_type": "execute_result"
    }
   ],
   "source": [
    "model_2_results= evaluation(val_labels,model_2_pred)\n",
    "model_2_results"
   ]
  },
  {
   "cell_type": "markdown",
   "id": "2347282b",
   "metadata": {},
   "source": [
    "### Model 3:GRU"
   ]
  },
  {
   "cell_type": "code",
   "execution_count": 49,
   "id": "35f4b4fb",
   "metadata": {},
   "outputs": [
    {
     "name": "stdout",
     "output_type": "stream",
     "text": [
      "(None, 15, 128)\n",
      "(None, 15, 64)\n",
      "(None, 15, 64)\n",
      "(None, 64)\n",
      "(None, 64)\n",
      "(None, 1)\n"
     ]
    }
   ],
   "source": [
    "inputs= tf.keras.layers.Input(shape=(1,),dtype=tf.string)\n",
    "x= text_vector(inputs)\n",
    "x=embedding(x)\n",
    "print(x.shape)\n",
    "x=tf.keras.layers.GRU(64,return_sequences=True)(x)\n",
    "print(x.shape)\n",
    "x=tf.keras.layers.LSTM(64,return_sequences=True)(x)\n",
    "print(x.shape)\n",
    "x=tf.keras.layers.GRU(64)(x)\n",
    "print(x.shape)\n",
    "x=tf.keras.layers.Dense(64,activation=\"relu\")(x)\n",
    "print(x.shape)\n",
    "outputs= tf.keras.layers.Dense(1,activation=\"sigmoid\")(x)\n",
    "print(outputs.shape)\n",
    "model_3=tf.keras.Model(inputs,outputs)"
   ]
  },
  {
   "cell_type": "code",
   "execution_count": 50,
   "id": "5b176617",
   "metadata": {},
   "outputs": [
    {
     "name": "stdout",
     "output_type": "stream",
     "text": [
      "Model: \"model_2\"\n",
      "_________________________________________________________________\n",
      " Layer (type)                Output Shape              Param #   \n",
      "=================================================================\n",
      " input_3 (InputLayer)        [(None, 1)]               0         \n",
      "                                                                 \n",
      " text_vectorization_1 (Text  (None, 15)                0         \n",
      " Vectorization)                                                  \n",
      "                                                                 \n",
      " embedding (Embedding)       (None, 15, 128)           1280000   \n",
      "                                                                 \n",
      " gru (GRU)                   (None, 15, 64)            37248     \n",
      "                                                                 \n",
      " lstm_2 (LSTM)               (None, 15, 64)            33024     \n",
      "                                                                 \n",
      " gru_1 (GRU)                 (None, 64)                24960     \n",
      "                                                                 \n",
      " dense_3 (Dense)             (None, 64)                4160      \n",
      "                                                                 \n",
      " dense_4 (Dense)             (None, 1)                 65        \n",
      "                                                                 \n",
      "=================================================================\n",
      "Total params: 1379457 (5.26 MB)\n",
      "Trainable params: 1379457 (5.26 MB)\n",
      "Non-trainable params: 0 (0.00 Byte)\n",
      "_________________________________________________________________\n"
     ]
    }
   ],
   "source": [
    "model_3.summary()"
   ]
  },
  {
   "cell_type": "code",
   "execution_count": 51,
   "id": "fc85d0d2",
   "metadata": {},
   "outputs": [],
   "source": [
    "model_3.compile(loss=tf.keras.losses.BinaryCrossentropy(),\n",
    "                optimizer=tf.keras.optimizers.Adam(),\n",
    "                metrics=[\"accuracy\"])"
   ]
  },
  {
   "cell_type": "code",
   "execution_count": 52,
   "id": "9161af4b",
   "metadata": {},
   "outputs": [
    {
     "name": "stdout",
     "output_type": "stream",
     "text": [
      "Epoch 1/5\n",
      "191/191 [==============================] - 11s 40ms/step - loss: 0.1067 - accuracy: 0.9678 - val_loss: 0.9311 - val_accuracy: 0.7315\n",
      "Epoch 2/5\n",
      "191/191 [==============================] - 4s 20ms/step - loss: 0.0553 - accuracy: 0.9777 - val_loss: 1.4146 - val_accuracy: 0.7636\n",
      "Epoch 3/5\n",
      "191/191 [==============================] - 3s 16ms/step - loss: 0.0462 - accuracy: 0.9785 - val_loss: 1.2675 - val_accuracy: 0.7590\n",
      "Epoch 4/5\n",
      "191/191 [==============================] - 3s 16ms/step - loss: 0.0421 - accuracy: 0.9813 - val_loss: 1.2646 - val_accuracy: 0.7577\n",
      "Epoch 5/5\n",
      "191/191 [==============================] - 3s 16ms/step - loss: 0.0398 - accuracy: 0.9806 - val_loss: 1.4059 - val_accuracy: 0.7577\n"
     ]
    }
   ],
   "source": [
    "model_3_history=model_3.fit(train_sentences,\n",
    "                train_labels,\n",
    "                epochs=5,\n",
    "                validation_data=(val_sentences,val_labels))"
   ]
  },
  {
   "cell_type": "code",
   "execution_count": 53,
   "id": "c8111f81",
   "metadata": {},
   "outputs": [
    {
     "name": "stdout",
     "output_type": "stream",
     "text": [
      "48/48 [==============================] - 1s 7ms/step\n"
     ]
    },
    {
     "data": {
      "text/plain": [
       "array([[1.6417606e-04],\n",
       "       [1.1671605e-02],\n",
       "       [3.5563827e-04],\n",
       "       ...,\n",
       "       [9.9995482e-01],\n",
       "       [9.9999559e-01],\n",
       "       [9.9997103e-01]], dtype=float32)"
      ]
     },
     "execution_count": 53,
     "metadata": {},
     "output_type": "execute_result"
    }
   ],
   "source": [
    "model_3_pred_probs= model_3.predict(val_sentences)\n",
    "model_3_pred_probs"
   ]
  },
  {
   "cell_type": "code",
   "execution_count": 55,
   "id": "51eccf13",
   "metadata": {},
   "outputs": [
    {
     "data": {
      "text/plain": [
       "<tf.Tensor: shape=(1523,), dtype=float32, numpy=array([0., 0., 0., ..., 1., 1., 1.], dtype=float32)>"
      ]
     },
     "execution_count": 55,
     "metadata": {},
     "output_type": "execute_result"
    }
   ],
   "source": [
    "model_3_prob=tf.squeeze(tf.round(model_3_pred_probs))\n",
    "model_3_prob"
   ]
  },
  {
   "cell_type": "code",
   "execution_count": 56,
   "id": "2625ab25",
   "metadata": {},
   "outputs": [
    {
     "data": {
      "text/plain": [
       "{'accuracy': 75.7715036112935,\n",
       " 'Recall': 71.49460708782742,\n",
       " 'Precision': 71.60493827160494,\n",
       " 'f1_score': 71.54973014649191}"
      ]
     },
     "execution_count": 56,
     "metadata": {},
     "output_type": "execute_result"
    }
   ],
   "source": [
    "model_3_results= evaluation(val_labels,model_3_prob)\n",
    "model_3_results "
   ]
  },
  {
   "cell_type": "markdown",
   "id": "ec5137e7",
   "metadata": {},
   "source": [
    "## Model_4:Biderectional RNN"
   ]
  },
  {
   "cell_type": "code",
   "execution_count": 69,
   "id": "dfb82c5d",
   "metadata": {},
   "outputs": [
    {
     "name": "stdout",
     "output_type": "stream",
     "text": [
      "(None, 15)\n",
      "(None, 15, 128)\n",
      "(None, 15, 128)\n",
      "(None, 128)\n",
      "(None, 20)\n",
      "(None, 20)\n"
     ]
    }
   ],
   "source": [
    "inputs= tf.keras.layers.Input(shape=(1,),dtype=tf.string)\n",
    "x= text_vector(inputs)\n",
    "print(x.shape)\n",
    "x= embedding(x)\n",
    "print(x.shape)\n",
    "x= tf.keras.layers.Bidirectional(tf.keras.layers.LSTM(64,return_sequences=True))(x)\n",
    "print(x.shape)\n",
    "x= tf.keras.layers.Bidirectional(tf.keras.layers.GRU(64))(x)\n",
    "print(x.shape)\n",
    "x= tf.keras.layers.Dense(20,activation=\"relu\")(x)\n",
    "print(x.shape)\n",
    "outputs= tf.keras.layers.Dense(1,activation=\"sigmoid\")(x)\n",
    "print(x.shape)\n",
    "model_4= tf.keras.Model(inputs,outputs)\n"
   ]
  },
  {
   "cell_type": "code",
   "execution_count": 70,
   "id": "afd01412",
   "metadata": {},
   "outputs": [
    {
     "name": "stdout",
     "output_type": "stream",
     "text": [
      "Model: \"model_6\"\n",
      "_________________________________________________________________\n",
      " Layer (type)                Output Shape              Param #   \n",
      "=================================================================\n",
      " input_8 (InputLayer)        [(None, 1)]               0         \n",
      "                                                                 \n",
      " text_vectorization_1 (Text  (None, 15)                0         \n",
      " Vectorization)                                                  \n",
      "                                                                 \n",
      " embedding (Embedding)       (None, 15, 128)           1280000   \n",
      "                                                                 \n",
      " bidirectional_8 (Bidirecti  (None, 15, 128)           98816     \n",
      " onal)                                                           \n",
      "                                                                 \n",
      " bidirectional_9 (Bidirecti  (None, 128)               74496     \n",
      " onal)                                                           \n",
      "                                                                 \n",
      " dense_11 (Dense)            (None, 20)                2580      \n",
      "                                                                 \n",
      " dense_12 (Dense)            (None, 1)                 21        \n",
      "                                                                 \n",
      "=================================================================\n",
      "Total params: 1455913 (5.55 MB)\n",
      "Trainable params: 1455913 (5.55 MB)\n",
      "Non-trainable params: 0 (0.00 Byte)\n",
      "_________________________________________________________________\n"
     ]
    }
   ],
   "source": [
    "model_4.summary()"
   ]
  },
  {
   "cell_type": "code",
   "execution_count": 71,
   "id": "4550e0e8",
   "metadata": {},
   "outputs": [],
   "source": [
    "model_4.compile(loss=tf.keras.losses.BinaryCrossentropy(),\n",
    "                optimizer=tf.keras.optimizers.Adam(),\n",
    "                metrics=[\"accuracy\"])"
   ]
  },
  {
   "cell_type": "code",
   "execution_count": 72,
   "id": "5a34e41e",
   "metadata": {},
   "outputs": [
    {
     "name": "stdout",
     "output_type": "stream",
     "text": [
      "Epoch 1/5\n",
      "191/191 [==============================] - 15s 50ms/step - loss: 0.0841 - accuracy: 0.9741 - val_loss: 1.2423 - val_accuracy: 0.7360\n",
      "Epoch 2/5\n",
      "191/191 [==============================] - 4s 23ms/step - loss: 0.0379 - accuracy: 0.9816 - val_loss: 1.3542 - val_accuracy: 0.7571\n",
      "Epoch 3/5\n",
      "191/191 [==============================] - 4s 22ms/step - loss: 0.0354 - accuracy: 0.9824 - val_loss: 1.7558 - val_accuracy: 0.7584\n",
      "Epoch 4/5\n",
      "191/191 [==============================] - 4s 21ms/step - loss: 0.0327 - accuracy: 0.9826 - val_loss: 1.5286 - val_accuracy: 0.7538\n",
      "Epoch 5/5\n",
      "191/191 [==============================] - 4s 23ms/step - loss: 0.0310 - accuracy: 0.9826 - val_loss: 1.3924 - val_accuracy: 0.7702\n"
     ]
    }
   ],
   "source": [
    "model_4_history=model_4.fit(train_sentences,\n",
    "            train_labels,\n",
    "            epochs=5,\n",
    "            validation_data=(val_sentences,val_labels))"
   ]
  },
  {
   "cell_type": "code",
   "execution_count": 73,
   "id": "5a008be5",
   "metadata": {},
   "outputs": [
    {
     "name": "stdout",
     "output_type": "stream",
     "text": [
      "48/48 [==============================] - 1s 9ms/step\n"
     ]
    },
    {
     "data": {
      "text/plain": [
       "array([[4.5517729e-05],\n",
       "       [3.6662687e-02],\n",
       "       [6.0752936e-05],\n",
       "       ...,\n",
       "       [9.9992466e-01],\n",
       "       [9.9999285e-01],\n",
       "       [9.9991500e-01]], dtype=float32)"
      ]
     },
     "execution_count": 73,
     "metadata": {},
     "output_type": "execute_result"
    }
   ],
   "source": [
    "model_4_pred_probs= model_4.predict(val_sentences)\n",
    "model_4_pred_probs"
   ]
  },
  {
   "cell_type": "code",
   "execution_count": 74,
   "id": "c7c4d256",
   "metadata": {},
   "outputs": [
    {
     "data": {
      "text/plain": [
       "<tf.Tensor: shape=(1523,), dtype=float32, numpy=array([0., 0., 0., ..., 1., 1., 1.], dtype=float32)>"
      ]
     },
     "execution_count": 74,
     "metadata": {},
     "output_type": "execute_result"
    }
   ],
   "source": [
    "model_4_preds= tf.squeeze(tf.round(model_4_pred_probs))\n",
    "model_4_preds"
   ]
  },
  {
   "cell_type": "code",
   "execution_count": 75,
   "id": "6bd2481f",
   "metadata": {},
   "outputs": [
    {
     "data": {
      "text/plain": [
       "{'accuracy': 77.01904136572554,\n",
       " 'Recall': 71.03235747303543,\n",
       " 'Precision': 73.99678972712681,\n",
       " 'f1_score': 72.48427672955975}"
      ]
     },
     "execution_count": 75,
     "metadata": {},
     "output_type": "execute_result"
    }
   ],
   "source": [
    "model_4_results= evaluation(val_labels,model_4_preds)\n",
    "model_4_results"
   ]
  },
  {
   "cell_type": "code",
   "execution_count": null,
   "id": "c42750de",
   "metadata": {},
   "outputs": [],
   "source": []
  }
 ],
 "metadata": {
  "kernelspec": {
   "display_name": "nlp1_env",
   "language": "python",
   "name": "python3"
  },
  "language_info": {
   "codemirror_mode": {
    "name": "ipython",
    "version": 3
   },
   "file_extension": ".py",
   "mimetype": "text/x-python",
   "name": "python",
   "nbconvert_exporter": "python",
   "pygments_lexer": "ipython3",
   "version": "3.11.13"
  }
 },
 "nbformat": 4,
 "nbformat_minor": 5
}
